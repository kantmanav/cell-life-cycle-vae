{
 "cells": [
  {
   "cell_type": "code",
   "execution_count": 1,
   "id": "9a3843d9",
   "metadata": {},
   "outputs": [],
   "source": [
    "import os\n",
    "from deepcell_tracking.utils import load_trks"
   ]
  },
  {
   "cell_type": "code",
   "execution_count": 2,
   "id": "25c5517d",
   "metadata": {},
   "outputs": [
    {
     "data": {
      "text/plain": [
       "['val.trks',\n",
       " 'inputs.yaml',\n",
       " 'metadata.yaml',\n",
       " 'train.trks',\n",
       " '.gitignore',\n",
       " 'params.yaml',\n",
       " 'dvc.yaml',\n",
       " 'dvc.lock',\n",
       " 'data-source.npz',\n",
       " 'test.trks']"
      ]
     },
     "execution_count": 2,
     "metadata": {},
     "output_type": "execute_result"
    }
   ],
   "source": [
    "os.listdir('/training/tracking-nuclear')"
   ]
  },
  {
   "cell_type": "code",
   "execution_count": 3,
   "id": "2dc200f7",
   "metadata": {},
   "outputs": [],
   "source": [
    "data = load_trks('/training/tracking-nuclear/test.trks')"
   ]
  },
  {
   "cell_type": "code",
   "execution_count": 4,
   "id": "88acc3a0",
   "metadata": {},
   "outputs": [
    {
     "data": {
      "text/plain": [
       "dict_keys(['lineages', 'X', 'y'])"
      ]
     },
     "execution_count": 4,
     "metadata": {},
     "output_type": "execute_result"
    }
   ],
   "source": [
    "data.keys()"
   ]
  },
  {
   "cell_type": "code",
   "execution_count": null,
   "id": "eef4ab95",
   "metadata": {},
   "outputs": [],
   "source": []
  }
 ],
 "metadata": {
  "kernelspec": {
   "display_name": "Python 3 (ipykernel)",
   "language": "python",
   "name": "python3"
  },
  "language_info": {
   "codemirror_mode": {
    "name": "ipython",
    "version": 3
   },
   "file_extension": ".py",
   "mimetype": "text/x-python",
   "name": "python",
   "nbconvert_exporter": "python",
   "pygments_lexer": "ipython3",
   "version": "3.8.10"
  }
 },
 "nbformat": 4,
 "nbformat_minor": 5
}
