{
 "cells": [
  {
   "cell_type": "code",
   "execution_count": 1,
   "id": "30fdba4b",
   "metadata": {},
   "outputs": [
    {
     "name": "stdout",
     "output_type": "stream",
     "text": [
      "2.8.0\n"
     ]
    }
   ],
   "source": [
    "import os\n",
    "import numpy as np\n",
    "\n",
    "import tensorflow as tf\n",
    "import tensorflow_addons as tfa\n",
    "gpus = tf.config.experimental.list_physical_devices('GPU')\n",
    "for gpu in gpus:\n",
    "      tf.config.experimental.set_memory_growth(gpu, True)\n",
    "print(tf.__version__)\n",
    "AUTOTUNE = tf.data.experimental.AUTOTUNE\n",
    "\n",
    "import deepcell\n",
    "# Changed from before due to new placement of Track, concat_tracks\n",
    "from deepcell_tracking.utils import load_trks\n",
    "from deepcell.data.tracking import Track, concat_tracks\n",
    "##############\n",
    "from sklearn.model_selection import train_test_split\n",
    "from deepcell.utils.data_utils import reshape_movie\n",
    "from deepcell.utils.transform_utils import erode_edges\n",
    "from deepcell.data import split_dataset\n",
    "from deepcell_toolbox.processing import normalize, histogram_normalization\n",
    "\n",
    "import spektral"
   ]
  },
  {
   "cell_type": "code",
   "execution_count": 2,
   "id": "7482f237",
   "metadata": {},
   "outputs": [],
   "source": [
    "# data loading\n",
    "\n",
    "path_temp_trks = '/training/tracking-nuclear/test.trks'\n",
    "all_data = [load_trks(path_temp_trks)]"
   ]
  },
  {
   "cell_type": "code",
   "execution_count": 3,
   "id": "60ea7401",
   "metadata": {},
   "outputs": [
    {
     "name": "stderr",
     "output_type": "stream",
     "text": [
      "100%|███████████████████████████████████████████████████████████████████████████████████| 12/12 [00:57<00:00,  4.81s/it]\n",
      "100%|███████████████████████████████████████████████████████████████████████████████████| 12/12 [01:19<00:00,  6.63s/it]\n",
      "2022-07-07 16:43:16.160873: I tensorflow/core/platform/cpu_feature_guard.cc:151] This TensorFlow binary is optimized with oneAPI Deep Neural Network Library (oneDNN) to use the following CPU instructions in performance-critical operations:  AVX2 FMA\n",
      "To enable them in other operations, rebuild TensorFlow with the appropriate compiler flags.\n",
      "2022-07-07 16:43:16.768163: I tensorflow/core/common_runtime/gpu/gpu_device.cc:1525] Created device /job:localhost/replica:0/task:0/device:GPU:0 with 10396 MB memory:  -> device: 0, name: NVIDIA GeForce GTX 1080 Ti, pci bus id: 0000:05:00.0, compute capability: 6.1\n"
     ]
    },
    {
     "name": "stdout",
     "output_type": "stream",
     "text": [
      "CPU times: user 9min 6s, sys: 11min 7s, total: 20min 13s\n",
      "Wall time: 2min 33s\n"
     ]
    }
   ],
   "source": [
    "%%time\n",
    "all_tracks = [Track(tracked_data=d) for d in all_data]"
   ]
  },
  {
   "cell_type": "code",
   "execution_count": 4,
   "id": "674953e6",
   "metadata": {},
   "outputs": [
    {
     "name": "stdout",
     "output_type": "stream",
     "text": [
      "CPU times: user 462 ms, sys: 647 ms, total: 1.11 s\n",
      "Wall time: 1.11 s\n"
     ]
    }
   ],
   "source": [
    "%%time\n",
    "track_info = concat_tracks(all_tracks)"
   ]
  },
  {
   "cell_type": "code",
   "execution_count": 5,
   "id": "175b3a2b",
   "metadata": {},
   "outputs": [],
   "source": [
    "from skimage.exposure import rescale_intensity\n",
    "\n",
    "def norm(X):\n",
    "    X_norm = histogram_normalization(X, kernel_size=32)\n",
    "    \n",
    "    X_rescaled = np.zeros(X_norm.shape)\n",
    "    for batch in range(X.shape[0]):\n",
    "        for frame in range(X.shape[1]):\n",
    "            x = X[batch, frame]\n",
    "            x = rescale_intensity(x, out_range=(0,1))\n",
    "            X_rescaled[batch, frame] = x\n",
    "            \n",
    "    return X_rescaled"
   ]
  },
  {
   "cell_type": "code",
   "execution_count": 6,
   "id": "f4833d16",
   "metadata": {
    "scrolled": true
   },
   "outputs": [
    {
     "name": "stdout",
     "output_type": "stream",
     "text": [
      "appearances (12, 71, 331, 32, 32, 1)\n",
      "centroids (12, 71, 331, 2)\n",
      "morphologies (12, 71, 331, 3)\n",
      "adj_matrices (12, 71, 331, 331)\n",
      "norm_adj_matrices (12, 71, 331, 331)\n",
      "temporal_adj_matrices (12, 70, 331, 331, 3)\n"
     ]
    }
   ],
   "source": [
    "for k, v in track_info.items():\n",
    "    print(k, v.shape)"
   ]
  },
  {
   "cell_type": "code",
   "execution_count": 7,
   "id": "240027d2",
   "metadata": {},
   "outputs": [
    {
     "data": {
      "text/plain": [
       "numpy.ndarray"
      ]
     },
     "execution_count": 7,
     "metadata": {},
     "output_type": "execute_result"
    }
   ],
   "source": [
    "type(track_info['appearances'])"
   ]
  },
  {
   "cell_type": "code",
   "execution_count": null,
   "id": "cc8ed8d8",
   "metadata": {},
   "outputs": [],
   "source": []
  },
  {
   "cell_type": "code",
   "execution_count": 8,
   "id": "8515b951",
   "metadata": {
    "scrolled": true
   },
   "outputs": [
    {
     "name": "stdout",
     "output_type": "stream",
     "text": [
      "{0: {}, 1: {}, 2: {}, 3: {}, 4: {}, 5: {}, 6: {}, 7: {}, 8: {}, 9: {}, 10: {}, 11: {}}\n",
      "{0: {0: 49, 1: 50, 2: 17, 3: 50, 4: 38}, 1: {0: 50, 1: 50, 2: 48, 3: 50, 4: 50, 5: 1, 6: 50, 7: 50, 8: 7}, 2: {0: 65, 1: 53, 2: 65, 3: 27, 4: 54, 5: 65, 6: 65, 7: 43, 8: 39, 9: 65, 10: 3, 11: 32, 12: 55, 13: 36, 14: 47, 15: 31, 16: 65, 17: 17, 18: 65, 19: 65, 20: 37, 21: 25, 22: 18, 23: 65, 24: 38, 25: 44, 26: 65, 27: 65, 28: 33, 29: 29, 30: 65, 31: 65, 32: 65, 33: 65, 34: 30, 35: 56, 36: 65, 37: 32, 38: 58, 39: 65, 40: 65, 41: 39, 42: 65, 43: 65, 44: 51, 45: 65, 46: 33, 47: 54, 48: 65, 49: 65, 50: 65, 51: 65, 52: 29, 53: 65, 54: 65, 55: 65, 56: 65, 57: 65, 58: 65, 59: 65, 60: 65, 61: 65, 62: 52, 63: 65, 64: 48, 65: 65, 66: 65, 67: 24, 68: 65, 69: 65, 70: 19, 71: 55, 72: 65, 73: 30, 74: 65, 75: 35, 76: 65, 77: 65, 78: 29, 79: 26, 80: 65, 81: 65, 82: 65, 83: 65, 84: 65, 85: 27, 86: 65, 87: 1, 88: 37, 89: 65, 90: 52, 91: 65, 92: 65, 93: 10, 94: 51, 95: 18, 96: 37, 97: 1, 98: 65, 99: 65, 100: 19, 101: 65, 102: 43, 103: 65, 104: 28, 105: 38, 106: 39, 107: 65, 108: 41, 109: 20, 110: 65, 111: 65, 112: 55, 113: 65, 114: 65, 115: 65, 116: 6, 117: 65, 118: 23, 119: 65, 120: 34, 121: 37, 122: 39}, 3: {0: 6, 1: 1, 2: 10, 3: 55, 4: 9, 5: 18, 6: 55, 7: 19, 8: 55, 9: 20, 10: 55, 11: 55, 12: 55, 13: 55, 14: 18, 15: 55, 16: 7, 17: 55, 18: 21, 19: 55, 20: 55, 21: 6, 22: 55, 23: 55, 24: 55, 25: 55, 26: 34, 27: 55, 28: 18, 29: 55, 30: 55, 31: 55, 32: 37, 33: 55, 34: 55, 35: 34, 36: 13, 37: 55, 38: 55, 39: 55, 40: 55, 41: 44, 42: 55, 43: 55, 44: 55, 45: 54, 46: 55, 47: 55, 48: 55, 49: 55, 50: 55, 51: 55, 52: 55, 53: 55, 54: 55, 55: 55, 56: 55, 57: 55, 58: 11, 59: 35, 60: 55, 61: 55, 62: 55, 63: 10, 64: 55, 65: 55, 66: 55, 67: 55, 68: 19, 69: 55, 70: 55, 71: 55, 72: 22, 73: 55, 74: 37, 75: 8, 76: 17, 77: 55, 78: 10, 79: 10, 80: 55, 81: 18, 82: 19, 83: 55, 84: 55, 85: 13, 86: 55, 87: 55, 88: 55, 89: 29, 90: 55, 91: 55, 92: 55, 93: 55, 94: 55, 95: 55, 96: 55, 97: 55, 98: 55, 99: 55, 100: 55, 101: 55, 102: 55, 103: 55, 104: 55, 105: 22, 106: 53, 107: 55, 108: 55, 109: 2, 110: 54, 111: 55, 112: 55, 113: 55, 114: 55, 115: 55, 116: 55, 117: 55, 118: 38, 119: 24, 120: 55, 121: 55, 122: 55, 123: 55, 124: 55, 125: 55, 126: 55, 127: 55, 128: 55, 129: 55, 130: 55, 131: 55, 132: 55, 133: 55, 134: 55, 135: 55, 136: 55, 137: 7, 138: 55, 139: 55, 140: 55, 141: 55, 142: 6, 143: 55, 144: 55, 145: 55, 146: 55, 147: 55, 148: 55, 149: 55, 150: 55, 151: 55, 152: 55, 153: 55, 154: 55, 155: 55, 156: 55, 157: 55, 158: 55, 159: 55, 160: 55, 161: 55, 162: 55, 163: 55, 164: 55, 165: 55, 166: 55, 167: 55, 168: 55, 169: 55, 170: 55, 171: 20, 172: 55, 173: 55, 174: 55, 175: 1, 176: 55, 177: 55, 178: 2}, 4: {0: 45, 1: 19, 2: 45, 3: 45, 4: 9, 5: 45, 6: 45, 7: 45, 8: 45, 9: 45, 10: 45, 11: 45, 12: 45, 13: 11, 14: 45, 15: 45, 16: 25, 17: 10, 18: 45, 19: 45, 20: 43, 21: 45, 22: 45, 23: 45, 24: 37, 25: 45, 26: 45, 27: 45, 28: 45, 29: 45, 30: 45, 31: 45, 32: 45, 33: 45, 34: 45, 35: 45, 36: 36, 37: 6, 38: 45, 39: 45, 40: 27, 41: 45, 42: 5, 43: 45, 44: 45, 45: 36, 46: 45, 47: 45, 48: 7, 49: 43, 50: 45, 51: 45, 52: 45, 53: 29, 54: 14, 55: 45, 56: 13, 57: 45, 58: 45, 59: 12, 60: 45, 61: 45, 62: 45, 63: 45, 64: 45, 65: 45, 66: 45, 67: 45, 68: 45, 69: 23, 70: 45, 71: 45, 72: 6, 73: 45, 74: 45, 75: 45, 76: 4, 77: 1}, 5: {0: 71, 1: 71, 2: 71, 3: 71, 4: 61, 5: 17, 6: 71, 7: 71, 8: 71, 9: 14, 10: 69, 11: 71, 12: 11, 13: 71, 14: 10, 15: 71, 16: 71, 17: 71, 18: 10, 19: 71, 20: 71, 21: 71, 22: 67, 23: 12, 24: 71, 25: 71, 26: 15, 27: 17, 28: 71, 29: 71, 30: 61, 31: 36, 32: 71, 33: 71, 34: 24, 35: 71, 36: 56, 37: 71, 38: 71, 39: 56, 40: 5, 41: 71, 42: 9, 43: 71, 44: 71, 45: 71, 46: 71, 47: 7, 48: 42, 49: 41, 50: 71, 51: 71, 52: 12, 53: 71, 54: 71, 55: 5, 56: 11, 57: 37, 58: 71, 59: 1}, 6: {0: 71, 1: 71, 2: 71, 3: 71, 4: 7, 5: 30, 6: 71, 7: 71, 8: 71, 9: 67, 10: 71, 11: 71, 12: 59, 13: 71, 14: 67, 15: 10, 16: 71, 17: 71, 18: 71, 19: 71, 20: 71, 21: 57, 22: 71, 23: 71, 24: 58, 25: 4, 26: 71, 27: 40, 28: 26, 29: 38, 30: 71, 31: 71, 32: 71, 33: 71, 34: 53, 35: 71, 36: 71, 37: 71, 38: 71, 39: 71, 40: 71, 41: 71, 42: 71, 43: 71, 44: 9, 45: 71, 46: 71, 47: 45, 48: 71, 49: 71, 50: 29, 51: 71, 52: 71, 53: 3, 54: 28, 55: 71, 56: 50, 57: 71, 58: 71, 59: 40, 60: 71, 61: 4, 62: 3, 63: 71, 64: 71, 65: 13, 66: 41, 67: 71, 68: 71, 69: 53, 70: 71, 71: 71, 72: 71, 73: 48, 74: 71, 75: 45, 76: 71, 77: 46, 78: 71, 79: 62, 80: 71, 81: 71, 82: 71, 83: 71, 84: 71, 85: 8, 86: 71, 87: 28, 88: 71, 89: 71, 90: 71, 91: 71, 92: 11, 93: 37, 94: 53, 95: 71, 96: 61, 97: 71, 98: 71, 99: 71, 100: 71, 101: 71, 102: 5, 103: 35, 104: 71, 105: 71, 106: 71, 107: 71, 108: 71, 109: 71, 110: 71, 111: 7, 112: 71, 113: 71, 114: 46, 115: 71, 116: 71, 117: 1, 118: 71, 119: 71, 120: 43, 121: 71, 122: 71, 123: 22, 124: 23, 125: 62, 126: 52, 127: 44, 128: 71, 129: 11, 130: 71, 131: 24, 132: 25, 133: 71, 134: 26, 135: 71, 136: 71, 137: 52, 138: 71, 139: 11, 140: 36, 141: 18, 142: 71, 143: 29, 144: 71, 145: 71, 146: 34, 147: 60, 148: 71, 149: 41, 150: 71, 151: 63, 152: 71, 153: 71, 154: 71, 155: 71, 156: 63, 157: 64, 158: 71, 159: 65, 160: 71, 161: 71, 162: 67, 163: 71, 164: 16, 165: 71, 166: 8, 167: 71, 168: 71, 169: 71, 170: 71, 171: 71, 172: 71, 173: 71, 174: 21, 175: 71, 176: 71, 177: 71, 178: 69, 179: 8, 180: 71, 181: 71, 182: 1, 183: 71, 184: 50, 185: 56, 186: 2}, 7: {0: 45, 1: 45, 2: 45, 3: 45, 4: 45, 5: 45, 6: 45, 7: 45, 8: 45, 9: 39, 10: 39, 11: 45, 12: 2, 13: 45, 14: 2, 15: 45, 16: 45, 17: 1, 18: 45, 19: 45, 20: 23, 21: 45, 22: 45, 23: 45, 24: 45, 25: 45, 26: 45}, 8: {0: 33, 1: 45, 2: 27, 3: 29, 4: 45, 5: 45, 6: 2, 7: 45, 8: 45, 9: 45, 10: 26, 11: 2, 12: 45, 13: 45, 14: 45, 15: 45, 16: 20, 17: 45, 18: 45, 19: 42, 20: 45, 21: 45, 22: 45, 23: 45, 24: 45, 25: 45, 26: 45, 27: 2, 28: 33, 29: 45, 30: 45, 31: 45, 32: 45, 33: 45, 34: 45, 35: 45, 36: 45, 37: 38, 38: 32, 39: 45, 40: 45, 41: 45, 42: 45, 43: 45, 44: 45, 45: 45, 46: 21, 47: 37, 48: 45, 49: 45}, 9: {0: 45, 1: 45, 2: 45, 3: 45, 4: 45, 5: 45, 6: 45, 7: 45, 8: 32, 9: 45, 10: 45, 11: 45, 12: 45, 13: 45, 14: 45, 15: 45, 16: 45, 17: 45, 18: 45, 19: 45, 20: 38, 21: 45}, 10: {0: 45, 1: 45, 2: 45, 3: 45, 4: 45, 5: 40, 6: 45, 7: 45, 8: 2, 9: 45, 10: 45, 11: 14, 12: 45, 13: 45, 14: 45, 15: 45}, 11: {0: 45, 1: 41, 2: 45, 3: 45, 4: 45, 5: 45, 6: 45, 7: 2, 8: 2, 9: 45, 10: 45, 11: 45, 12: 45, 13: 45}}\n",
      "Non-blank images: 36953\n"
     ]
    }
   ],
   "source": [
    "app = track_info['appearances']\n",
    "batches = app.shape[0]\n",
    "frames = app.shape[1]\n",
    "cells = app.shape[2]\n",
    "\n",
    "real_img_nums_dict = dict.fromkeys(range(batches))\n",
    "for batch in range(batches):\n",
    "    real_img_nums_dict[batch] = {}\n",
    "print(real_img_nums_dict)\n",
    "\n",
    "# Gets number of real cells in each batch\n",
    "for batch in range(batches):\n",
    "    for cell in range(cells):\n",
    "        if np.max(app[batch, 0, cell]) != 0:\n",
    "            last_frame = 71\n",
    "            for frame in range(frames):\n",
    "                if np.max(app[batch, frame, cell]) == 0:\n",
    "                    last_frame = frame\n",
    "                    break\n",
    "            real_img_nums_dict[batch][cell] = last_frame\n",
    "        else:\n",
    "            break\n",
    "print(real_img_nums_dict)\n",
    "\n",
    "num_real_imgs = sum([sum([num_frames for num_frames in real_img_nums_dict[batch].values()]) for batch in real_img_nums_dict.keys()])\n",
    "print(\"Non-blank images: \" + str(num_real_imgs))"
   ]
  },
  {
   "cell_type": "code",
   "execution_count": 9,
   "id": "69cfca74",
   "metadata": {},
   "outputs": [],
   "source": [
    "real_img_list = []\n",
    "for batch in range(batches):\n",
    "    for cell in real_img_nums_dict[batch].keys():\n",
    "        for frame in range(real_img_nums_dict[batch][cell]):\n",
    "            real_img_list.append(app[batch][frame][cell])\n",
    "appearances = np.array(real_img_list)"
   ]
  },
  {
   "cell_type": "code",
   "execution_count": 10,
   "id": "24de6e4d",
   "metadata": {},
   "outputs": [],
   "source": [
    "# Gets index of non-blank image (from original array) in (pruned) array of non-blank images\n",
    "def get_real_idx(batch, frame, cell):\n",
    "    assert (cell in real_img_nums_dict[batch].keys() and frame < real_img_nums_dict[batch][cell]), \"Blank image\"\n",
    "    idx = 0\n",
    "    for b in range(batch):\n",
    "        idx += sum(real_img_nums_dict[b].values())\n",
    "    for c in range(cell):\n",
    "        idx += real_img_nums_dict[batch][c]\n",
    "    idx += frame\n",
    "    return idx"
   ]
  },
  {
   "cell_type": "code",
   "execution_count": 11,
   "id": "be99f7d2",
   "metadata": {
    "scrolled": false
   },
   "outputs": [
    {
     "data": {
      "text/plain": [
       "<matplotlib.image.AxesImage at 0x7fd4004f25b0>"
      ]
     },
     "execution_count": 11,
     "metadata": {},
     "output_type": "execute_result"
    },
    {
     "data": {
      "image/png": "[encoded data removed]",
      "text/plain": [
       "<Figure size 432x288 with 1 Axes>"
      ]
     },
     "metadata": {
      "needs_background": "light"
     },
     "output_type": "display_data"
    },
    {
     "data": {
      "image/png": "[encoded data removed]",
      "text/plain": [
       "<Figure size 432x288 with 1 Axes>"
      ]
     },
     "metadata": {
      "needs_background": "light"
     },
     "output_type": "display_data"
    }
   ],
   "source": [
    "import matplotlib.pyplot as plt\n",
    "\n",
    "batch = 10\n",
    "frame = 10\n",
    "cell = 10\n",
    "\n",
    "fig, ax = plt.subplots()\n",
    "ax.imshow(track_info['appearances'][batch][frame][cell])\n",
    "\n",
    "fig, ax = plt.subplots()\n",
    "ax.imshow(appearances[get_real_idx(batch, frame, cell)])"
   ]
  },
  {
   "cell_type": "code",
   "execution_count": 12,
   "id": "97ee0f5e",
   "metadata": {},
   "outputs": [],
   "source": [
    "app_shape = np.shape(appearances)\n",
    "\n",
    "# Appearances not being normalized yet (will have to slightly modify norm function\n",
    "# since we don't have this organized by life cycle\n",
    "\n",
    "input_dict = {'appearances': appearances}\n",
    "\n",
    "output_dict = {'appearances_decoder': appearances}\n",
    "\n",
    "data = tf.data.Dataset.from_tensor_slices((input_dict, output_dict))\n",
    "\n",
    "data = data.repeat().batch(1)"
   ]
  },
  {
   "cell_type": "code",
   "execution_count": 13,
   "id": "a01e1bb1",
   "metadata": {},
   "outputs": [],
   "source": [
    "it = iter(data)"
   ]
  },
  {
   "cell_type": "code",
   "execution_count": 14,
   "id": "19e6e794",
   "metadata": {},
   "outputs": [
    {
     "data": {
      "text/plain": [
       "tuple"
      ]
     },
     "execution_count": 14,
     "metadata": {},
     "output_type": "execute_result"
    }
   ],
   "source": [
    "nxt = it.next()\n",
    "type(nxt)"
   ]
  },
  {
   "cell_type": "code",
   "execution_count": 15,
   "id": "0d6461d4",
   "metadata": {},
   "outputs": [
    {
     "name": "stdout",
     "output_type": "stream",
     "text": [
      "2\n",
      "dict_keys(['appearances'])\n",
      "dict_keys(['appearances_decoder'])\n"
     ]
    }
   ],
   "source": [
    "print(len(nxt))\n",
    "print(nxt[0].keys())\n",
    "print(nxt[1].keys())"
   ]
  },
  {
   "cell_type": "code",
   "execution_count": 16,
   "id": "afbf8c5a",
   "metadata": {},
   "outputs": [
    {
     "name": "stdout",
     "output_type": "stream",
     "text": [
      "<class 'tensorflow.python.framework.ops.EagerTensor'>\n"
     ]
    }
   ],
   "source": [
    "print(type(nxt[0]['appearances']))"
   ]
  },
  {
   "cell_type": "code",
   "execution_count": 17,
   "id": "5d42a5f6",
   "metadata": {},
   "outputs": [
    {
     "name": "stdout",
     "output_type": "stream",
     "text": [
      "(1, 32, 32, 1)\n"
     ]
    }
   ],
   "source": [
    "print(nxt[0]['appearances'].get_shape())"
   ]
  },
  {
   "cell_type": "code",
   "execution_count": 18,
   "id": "31070a17",
   "metadata": {},
   "outputs": [
    {
     "data": {
      "text/plain": [
       "<matplotlib.image.AxesImage at 0x7fd3f70ea910>"
      ]
     },
     "execution_count": 18,
     "metadata": {},
     "output_type": "execute_result"
    },
    {
     "data": {
      "image/png": "[encoded data removed]",
      "text/plain": [
       "<Figure size 432x288 with 1 Axes>"
      ]
     },
     "metadata": {
      "needs_background": "light"
     },
     "output_type": "display_data"
    }
   ],
   "source": [
    "fig, ax = plt.subplots()\n",
    "ax.imshow(nxt[0]['appearances'][0].numpy().astype('float32'))"
   ]
  },
  {
   "cell_type": "code",
   "execution_count": null,
   "id": "e3d7c54f",
   "metadata": {},
   "outputs": [],
   "source": []
  }
 ],
 "metadata": {
  "kernelspec": {
   "display_name": "Python 3 (ipykernel)",
   "language": "python",
   "name": "python3"
  },
  "language_info": {
   "codemirror_mode": {
    "name": "ipython",
    "version": 3
   },
   "file_extension": ".py",
   "mimetype": "text/x-python",
   "name": "python",
   "nbconvert_exporter": "python",
   "pygments_lexer": "ipython3",
   "version": "3.8.10"
  }
 },
 "nbformat": 4,
 "nbformat_minor": 5
}
