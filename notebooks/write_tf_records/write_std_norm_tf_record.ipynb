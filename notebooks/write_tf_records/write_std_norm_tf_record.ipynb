{
 "cells": [
  {
   "cell_type": "code",
   "execution_count": 12,
   "id": "cdee5c10",
   "metadata": {},
   "outputs": [
    {
     "name": "stdout",
     "output_type": "stream",
     "text": [
      "2.8.0\n"
     ]
    }
   ],
   "source": [
    "import os\n",
    "import numpy as np\n",
    "\n",
    "import tensorflow as tf\n",
    "import tensorflow_addons as tfa\n",
    "gpus = tf.config.experimental.list_physical_devices('GPU')\n",
    "# I think the below should be commented out\n",
    "# for gpu in gpus:\n",
    "#       tf.config.experimental.set_memory_growth(gpu, True)\n",
    "print(tf.__version__)\n",
    "AUTOTUNE = tf.data.experimental.AUTOTUNE\n",
    "\n",
    "import deepcell\n",
    "# Changed from before due to new placement of Track, concat_tracks\n",
    "from deepcell_tracking.utils import load_trks\n",
    "from deepcell.data.tracking import Track, concat_tracks\n",
    "##############\n",
    "from sklearn.model_selection import train_test_split\n",
    "from deepcell.utils.data_utils import reshape_movie\n",
    "from deepcell.utils.transform_utils import erode_edges\n",
    "from deepcell.data import split_dataset\n",
    "from deepcell_toolbox.processing import normalize, histogram_normalization\n",
    "\n",
    "import spektral"
   ]
  },
  {
   "cell_type": "markdown",
   "id": "5d2af084",
   "metadata": {},
   "source": [
    "# Load dictionaries of usable (non-blank, non-border) images"
   ]
  },
  {
   "cell_type": "code",
   "execution_count": 2,
   "id": "3d2c3bfb",
   "metadata": {},
   "outputs": [],
   "source": [
    "import json\n",
    "def load_img_dict(file):\n",
    "    f = open(file)\n",
    "    d = json.load(f)\n",
    "    d = {int(k1): {int(k2): {int(k3): v for k3, v in d[k1][k2].items()} for k2, d[k1][k2] in d[k1].items()} for k1, d[k1] in d.items()}\n",
    "    return d\n",
    "def load_img_idx_dict(file):\n",
    "    f = open(file)\n",
    "    d = json.load(f)\n",
    "    d = {int(k): v for k, v in d.items()}\n",
    "    return d"
   ]
  },
  {
   "cell_type": "code",
   "execution_count": 3,
   "id": "99bf7b96",
   "metadata": {},
   "outputs": [],
   "source": [
    "# Of the form {batch: {cell: {frame: -1/idx, ...}, ...}, ...} where good_imgs[batch][cell][frame] = -1 if the image\n",
    "# is blank/on the border and idx if it is usable, where idx is the position in the list of usable images\n",
    "train_good_imgs = load_img_dict('/data/dataset_pruning/train_appearances_dict.json')\n",
    "train_blank_imgs = load_img_dict('/data/dataset_pruning/train_blank_dict.json')\n",
    "train_border_imgs = load_img_dict('/data/dataset_pruning/train_border_dict.json')\n",
    "val_good_imgs = load_img_dict('/data/dataset_pruning/val_appearances_dict.json')\n",
    "val_blank_imgs = load_img_dict('/data/dataset_pruning/val_blank_dict.json')\n",
    "val_border_imgs = load_img_dict('/data/dataset_pruning/val_border_dict.json')"
   ]
  },
  {
   "cell_type": "code",
   "execution_count": 4,
   "id": "d1f5b657",
   "metadata": {},
   "outputs": [],
   "source": [
    "def get_lst_idx_to_pos(good_imgs_dict):\n",
    "    lst_idx_to_pos = {}\n",
    "    for b in good_imgs_dict.keys():\n",
    "        for c in good_imgs_dict[b].keys():\n",
    "            for f in good_imgs_dict[b][c].keys():\n",
    "                idx = good_imgs_dict[b][c][f]\n",
    "                if idx != -1:\n",
    "                    lst_idx_to_pos = (b, f, c)\n",
    "    return lst_idx_to_pos\n",
    "\n",
    "# Dictionary of frames to split (time until splitting) for each image, in the format of usable image dictionary\n",
    "def get_life_cycle_dict(tracks):\n",
    "    batches, frames, cells = tracks.centroids.shape[:3]\n",
    "    \n",
    "    life_cycle_dict = {}\n",
    "    for batch in range(batches):\n",
    "        life_cycle_dict[batch] = {}\n",
    "        for cell in range(cells):\n",
    "            life_cycle_dict[batch][cell] = {}\n",
    "            for frame in range(frames):\n",
    "                life_cycle_dict[batch][cell][frame] = -1\n",
    "    \n",
    "    for batch in range(batches):\n",
    "        for cell in tracks.lineages[batch].keys():\n",
    "            if len(tracks.lineages[batch][cell]['daughters']) != 0:\n",
    "                cell_frames = tracks.lineages[batch][cell]['frames']\n",
    "                last_frame = cell_frames[-1]\n",
    "                for cell_frame in cell_frames:\n",
    "                    life_cycle_dict[batch][cell - 1][cell_frame] = last_frame - cell_frame + 1\n",
    "    \n",
    "    return life_cycle_dict\n",
    "\n",
    "# Should the cells in the dictionary be 0-indexed? What is the case in the good_imgs_dict?\n",
    "# Yes. It is 0-indexed wrt the cells"
   ]
  },
  {
   "cell_type": "markdown",
   "id": "189b1f45",
   "metadata": {},
   "source": [
    "# Write appearances array to TF Records"
   ]
  },
  {
   "cell_type": "code",
   "execution_count": 5,
   "id": "fa652aa7",
   "metadata": {},
   "outputs": [],
   "source": [
    "import csv\n",
    "import os\n",
    "\n",
    "from tensorflow.data import Dataset\n",
    "from tensorflow.io import serialize_tensor\n",
    "from tensorflow.keras.utils import to_categorical\n",
    "from tensorflow.keras.backend import is_sparse\n",
    "\n",
    "def _bytes_feature(value):\n",
    "    \"\"\"Returns a bytes_list from a string / byte.\"\"\"\n",
    "    if isinstance(value, type(tf.constant(0))):\n",
    "        # BytesList won't unpack a string from an EagerTensor.\n",
    "        value = value.numpy()\n",
    "    return tf.train.Feature(bytes_list=tf.train.BytesList(value=[value]))\n",
    "\n",
    "\n",
    "def _float_feature(value):\n",
    "    \"\"\"Returns a float_list from a float / double.\"\"\"\n",
    "    return tf.train.Feature(float_list=tf.train.FloatList(value=[value]))\n",
    "\n",
    "\n",
    "def _int64_feature(value):\n",
    "    \"\"\"Returns an int64_list from a bool / enum / int / uint.\"\"\"\n",
    "    return tf.train.Feature(int64_list=tf.train.Int64List(value=[value]))\n",
    "\n",
    "def serialize_array(array):\n",
    "    array = tf.io.serialize_tensor(array)\n",
    "    return array\n",
    "\n",
    "def create_tracking_example(image):\n",
    "    # define the dictionary -- the structure -- of our single example\n",
    "    data = {\n",
    "        'height' : _int64_feature(image.shape[0]),\n",
    "        'width' : _int64_feature(image.shape[1]),\n",
    "        'depth' : _int64_feature(image.shape[2]),\n",
    "        'raw_image' : _bytes_feature(serialize_array(image))\n",
    "    }\n",
    "    # create an Example, wrapping the single features\n",
    "    out = tf.train.Example(features=tf.train.Features(feature=data))\n",
    "    \n",
    "    return out"
   ]
  },
  {
   "cell_type": "code",
   "execution_count": 10,
   "id": "f31355ae",
   "metadata": {},
   "outputs": [],
   "source": [
    "# No (extra) normalization\n",
    "def write_tracking_dataset_to_tfr(track, filename, good_imgs):\n",
    "    print('Done calculating normalizations.')\n",
    "    filename = \"/tf_records/\" + filename + \".tfrecords\"\n",
    "    writer = tf.io.TFRecordWriter(filename) #create a writer that'll store our data to disk\n",
    "    count = 0\n",
    "\n",
    "    app = track.appearances\n",
    "    # Only write usable images to the record\n",
    "    for b in range(app.shape[0]):\n",
    "        print(b)\n",
    "        for f in range(app.shape[1]):\n",
    "            for c in range(app.shape[2]):\n",
    "                # Check if the given image is usable\n",
    "                if good_imgs[b][c][f] != -1:\n",
    "                    current_image = app[b, f, c]\n",
    "\n",
    "                    out = create_tracking_example(current_image)\n",
    "\n",
    "                    if out is not None:\n",
    "                        writer.write(out.SerializeToString())\n",
    "                        count += 1\n",
    "\n",
    "    writer.close()\n",
    "    print(f'Wrote {count} elements to TFRecord')\n",
    "    return count"
   ]
  },
  {
   "cell_type": "code",
   "execution_count": 2,
   "id": "9107ebe2",
   "metadata": {
    "scrolled": true
   },
   "outputs": [],
   "source": [
    "# train_trks = load_trks(os.path.join('/data/tracking-nuclear', 'train.trks'))\n",
    "val_trks = load_trks(os.path.join('/data/tracking-nuclear', 'val.trks'))"
   ]
  },
  {
   "cell_type": "code",
   "execution_count": 8,
   "id": "6ddf2e0d",
   "metadata": {},
   "outputs": [
    {
     "ename": "NameError",
     "evalue": "name 'train_tracks' is not defined",
     "output_type": "error",
     "traceback": [
      "\u001b[0;31m---------------------------------------------------------------------------\u001b[0m",
      "\u001b[0;31mNameError\u001b[0m                                 Traceback (most recent call last)",
      "Input \u001b[0;32mIn [8]\u001b[0m, in \u001b[0;36m<cell line: 1>\u001b[0;34m()\u001b[0m\n\u001b[0;32m----> 1\u001b[0m train_life_cycle_dict \u001b[38;5;241m=\u001b[39m get_life_cycle_dict(\u001b[43mtrain_tracks\u001b[49m)\n\u001b[1;32m      2\u001b[0m val_life_cycle_dict \u001b[38;5;241m=\u001b[39m get_life_cycle_dict(val_tracks)\n",
      "\u001b[0;31mNameError\u001b[0m: name 'train_tracks' is not defined"
     ]
    }
   ],
   "source": [
    "train_life_cycle_dict = get_life_cycle_dict(train_tracks)\n",
    "val_life_cycle_dict = get_life_cycle_dict(val_tracks)"
   ]
  },
  {
   "cell_type": "code",
   "execution_count": 3,
   "id": "9da4b014",
   "metadata": {
    "scrolled": true
   },
   "outputs": [
    {
     "name": "stderr",
     "output_type": "stream",
     "text": [
      "2022-12-14 02:03:22.864402: I tensorflow/core/platform/cpu_feature_guard.cc:151] This TensorFlow binary is optimized with oneAPI Deep Neural Network Library (oneDNN) to use the following CPU instructions in performance-critical operations:  AVX2 FMA\n",
      "To enable them in other operations, rebuild TensorFlow with the appropriate compiler flags.\n",
      "2022-12-14 02:03:23.522140: I tensorflow/core/common_runtime/gpu/gpu_device.cc:1525] Created device /job:localhost/replica:0/task:0/device:GPU:0 with 10415 MB memory:  -> device: 0, name: NVIDIA GeForce GTX 1080 Ti, pci bus id: 0000:09:00.0, compute capability: 6.1\n",
      "100%|███████████████████████████████████████████████████████████████████████████████████████████████████████████████████████████████████████████████████████████████████████| 27/27 [02:00<00:00,  4.48s/it]\n",
      "100%|███████████████████████████████████████████████████████████████████████████████████████████████████████████████████████████████████████████████████████████████████████| 27/27 [03:10<00:00,  7.06s/it]\n"
     ]
    },
    {
     "name": "stdout",
     "output_type": "stream",
     "text": [
      "Done creating Track objects.\n"
     ]
    }
   ],
   "source": [
    "with tf.device('/cpu:0'):\n",
    "    val_tracks = Track(tracked_data=val_trks,\n",
    "                   appearance_dim=64,\n",
    "                   distance_threshold=64,\n",
    "                   crop_mode='fixed')\n",
    "\n",
    "    print('Done creating Track objects.')\n",
    "\n",
    "#     write_tracking_dataset_to_tfr(val_tracks, filename='val_big_std_norm', good_imgs=val_good_imgs)"
   ]
  },
  {
   "cell_type": "code",
   "execution_count": 12,
   "id": "e186c303",
   "metadata": {},
   "outputs": [
    {
     "name": "stderr",
     "output_type": "stream",
     "text": [
      "100%|███████████████████████████████████████████████████████████████████████████████████████████████████████████████████████████████████████████████████████████████████████| 91/91 [07:33<00:00,  4.98s/it]\n",
      " 33%|███████████████████████████████████████████████████████                                                                                                                | 30/91 [07:00<16:15, 15.99s/it]/usr/local/lib/python3.8/dist-packages/numpy/core/fromnumeric.py:3474: RuntimeWarning: Mean of empty slice.\n",
      "  return _methods._mean(a, axis=axis, dtype=dtype,\n",
      "/usr/local/lib/python3.8/dist-packages/numpy/core/_methods.py:189: RuntimeWarning: invalid value encountered in true_divide\n",
      "  ret = ret.dtype.type(ret / rcount)\n",
      "/usr/local/lib/python3.8/dist-packages/numpy/core/_methods.py:264: RuntimeWarning: Degrees of freedom <= 0 for slice\n",
      "  ret = _var(a, axis=axis, dtype=dtype, out=out, ddof=ddof,\n",
      "/usr/local/lib/python3.8/dist-packages/numpy/core/_methods.py:222: RuntimeWarning: invalid value encountered in true_divide\n",
      "  arrmean = um.true_divide(arrmean, div, out=arrmean, casting='unsafe',\n",
      "/usr/local/lib/python3.8/dist-packages/numpy/core/_methods.py:256: RuntimeWarning: invalid value encountered in true_divide\n",
      "  ret = ret.dtype.type(ret / rcount)\n",
      "100%|███████████████████████████████████████████████████████████████████████████████████████████████████████████████████████████████████████████████████████████████████████| 91/91 [16:56<00:00, 11.18s/it]\n",
      "2022-12-13 01:53:18.352481: W tensorflow/core/framework/cpu_allocator_impl.cc:82] Allocation of 5634910840 exceeds 10% of free system memory.\n"
     ]
    },
    {
     "name": "stdout",
     "output_type": "stream",
     "text": [
      "Done with creating Track objects.\n",
      "Done calculating normalizations.\n",
      "0\n",
      "1\n",
      "2\n",
      "3\n",
      "4\n",
      "5\n",
      "6\n",
      "7\n",
      "8\n",
      "9\n",
      "10\n",
      "11\n",
      "12\n",
      "13\n",
      "14\n",
      "15\n",
      "16\n",
      "17\n",
      "18\n",
      "19\n",
      "20\n",
      "21\n",
      "22\n",
      "23\n",
      "24\n",
      "25\n",
      "26\n",
      "27\n",
      "28\n",
      "29\n",
      "30\n",
      "31\n",
      "32\n",
      "33\n",
      "34\n",
      "35\n",
      "36\n",
      "37\n",
      "38\n",
      "39\n",
      "40\n",
      "41\n",
      "42\n",
      "43\n",
      "44\n",
      "45\n",
      "46\n",
      "47\n",
      "48\n",
      "49\n",
      "50\n",
      "51\n",
      "52\n",
      "53\n",
      "54\n",
      "55\n",
      "56\n",
      "57\n",
      "58\n",
      "59\n",
      "60\n",
      "61\n",
      "62\n",
      "63\n",
      "64\n",
      "65\n",
      "66\n",
      "67\n",
      "68\n",
      "69\n",
      "70\n",
      "71\n",
      "72\n",
      "73\n",
      "74\n",
      "75\n",
      "76\n",
      "77\n",
      "78\n",
      "79\n",
      "80\n",
      "81\n",
      "82\n",
      "83\n",
      "84\n",
      "85\n",
      "86\n",
      "87\n",
      "88\n",
      "89\n",
      "90\n",
      "Wrote 383800 elements to TFRecord\n"
     ]
    }
   ],
   "source": [
    "with tf.device('/cpu:0'):\n",
    "    train_tracks = Track(tracked_data=train_trks,\n",
    "                   appearance_dim=64,\n",
    "                   distance_threshold=64,\n",
    "                   crop_mode='fixed')\n",
    "\n",
    "    print('Done with creating Track objects.')\n",
    "\n",
    "    write_tracking_dataset_to_tfr(train_tracks, filename='train_big_std_norm', good_imgs=train_good_imgs)"
   ]
  },
  {
   "cell_type": "markdown",
   "id": "4890cbb3",
   "metadata": {},
   "source": [
    "# Load images from TF Records"
   ]
  },
  {
   "cell_type": "code",
   "execution_count": 4,
   "id": "5edf965d",
   "metadata": {},
   "outputs": [],
   "source": [
    "def parse_tfr_element(element):\n",
    "    #use the same structure as above; it's kinda an outline of the structure we now want to create\n",
    "    data = {\n",
    "        'height': tf.io.FixedLenFeature([], tf.int64),\n",
    "        'width':tf.io.FixedLenFeature([], tf.int64),\n",
    "        'depth':tf.io.FixedLenFeature([], tf.int64),\n",
    "        'raw_image' : tf.io.FixedLenFeature([], tf.string)\n",
    "    }\n",
    "\n",
    "\n",
    "    content = tf.io.parse_single_example(element, data)\n",
    "\n",
    "    height = content['height']\n",
    "    width = content['width']\n",
    "    depth = content['depth']\n",
    "    raw_image = content['raw_image']\n",
    "    \n",
    "\n",
    "    #get our 'feature'-- our image -- and reshape it appropriately\n",
    "    feature = tf.io.parse_tensor(raw_image, out_type=tf.float32)\n",
    "    feature = tf.reshape(feature, shape=[height,width,depth])\n",
    "    return (feature, feature)"
   ]
  },
  {
   "cell_type": "code",
   "execution_count": 5,
   "id": "34053119",
   "metadata": {},
   "outputs": [],
   "source": [
    "def get_dataset(filename, batch_size=1, buffer_size=256,\n",
    "                    seed=None):\n",
    "    #create the dataset\n",
    "    dataset = tf.data.TFRecordDataset(filename)\n",
    "\n",
    "    #pass every single feature through our mapping function\n",
    "    dataset = dataset.map(\n",
    "      parse_tfr_element\n",
    "    )\n",
    "    \n",
    "    dataset = dataset.shuffle(buffer_size, seed=seed)\n",
    "\n",
    "    dataset = dataset.repeat().batch(batch_size)\n",
    "    \n",
    "    dataset = dataset.prefetch(tf.data.AUTOTUNE)\n",
    "\n",
    "    return dataset"
   ]
  },
  {
   "cell_type": "code",
   "execution_count": 6,
   "id": "25daa6f6",
   "metadata": {},
   "outputs": [],
   "source": [
    "val_dataset = get_dataset(\"/tf_records/val_big_std_norm.tfrecords\", batch_size=100)\n",
    "train_dataset = get_dataset(\"/tf_records/train_big_std_norm.tfrecords\", batch_size=100)"
   ]
  },
  {
   "cell_type": "code",
   "execution_count": 7,
   "id": "026880e4",
   "metadata": {},
   "outputs": [],
   "source": [
    "import tensorflow as tf\n",
    "import tensorflow_probability as tfp\n",
    "tfd = tfp.distributions\n",
    "tfpl = tfp.layers\n",
    "tfk = tf.keras\n",
    "tfkl = tf.keras.layers"
   ]
  },
  {
   "cell_type": "code",
   "execution_count": 8,
   "id": "bbf24d42",
   "metadata": {},
   "outputs": [],
   "source": [
    "class VAE:\n",
    "    \n",
    "    def __init__(self, dim_z, kl_weight, learning_rate, n_filters, n_layers, side):\n",
    "        # change dim from (28, 28, 1)\n",
    "        self.dim_x = (side, side, 1)\n",
    "        self.dim_z = dim_z\n",
    "        self.kl_weight = kl_weight\n",
    "        self.learning_rate = learning_rate\n",
    "        self.n_filters = n_filters\n",
    "        self.n_layers = n_layers\n",
    "        self.side = side\n",
    "\n",
    "    # Sequential API encoder\n",
    "    def encoder_z(self):\n",
    "        # define prior distribution for the code, which is an isotropic Gaussian\n",
    "        prior = tfd.Independent(tfd.Normal(loc=tf.zeros(self.dim_z), scale=1.), \n",
    "                                reinterpreted_batch_ndims=1)\n",
    "        # build layers argument for tfk.Sequential()\n",
    "        input_shape = self.dim_x\n",
    "        layers = [tfkl.InputLayer(input_shape=input_shape)]\n",
    "        for i in range(self.n_layers):\n",
    "            layers.append(tfkl.Conv2D(filters=self.n_filters, kernel_size=3, strides=(2,2), \n",
    "                                  padding='valid', activation='relu'))\n",
    "        layers.append(tfkl.Flatten())\n",
    "        # the following two lines set the output to be a probabilistic distribution\n",
    "        layers.append(tfkl.Dense(tfpl.IndependentNormal.params_size(self.dim_z), \n",
    "                                 activation=None, name='z_params'))\n",
    "        layers.append(tfpl.IndependentNormal(self.dim_z, \n",
    "            convert_to_tensor_fn=tfd.Distribution.sample, \n",
    "            activity_regularizer=tfpl.KLDivergenceRegularizer(prior, weight=self.kl_weight), \n",
    "            name='z_layer'))\n",
    "        return tfk.Sequential(layers, name='encoder')\n",
    "    \n",
    "    # Sequential API decoder\n",
    "    def decoder_x(self):\n",
    "        layers = [tfkl.InputLayer(input_shape=self.dim_z)]\n",
    "        # probably 7 before since 28/2/2 = 7, so changing to 32/2/2 = 8\n",
    "        frac = 2**self.n_layers\n",
    "        layers.append(tfkl.Dense(int((self.side/frac)**2*32), activation=None))\n",
    "        layers.append(tfkl.Reshape((int(self.side/frac),int(self.side/frac),32)))\n",
    "        for i in range(self.n_layers):\n",
    "            layers.append(tfkl.Conv2DTranspose(filters=self.n_filters, kernel_size=3, strides=2, \n",
    "                                           padding='same', activation='relu'))\n",
    "        layers.append(tfkl.Conv2DTranspose(filters=1, kernel_size=3, strides=1, \n",
    "                                           padding='same'))\n",
    "        layers.append(tfkl.Flatten())\n",
    "        # note that here we don't need \n",
    "        # `tfkl.Dense(tfpl.IndependentBernoulli.params_size(self.dim_x))` because \n",
    "        # we've restored the desired input shape with the last Conv2DTranspose layer\n",
    "        layers.append(tfkl.Dense(tfpl.IndependentNormal.params_size(self.dim_x), \n",
    "                                 activation=None, name='x_params'))\n",
    "        layers.append(tfpl.IndependentNormal(self.dim_x,\n",
    "            name='x_layer'))\n",
    "        return tfk.Sequential(layers, name='decoder')\n",
    "    \n",
    "    def build_vae_keras_model(self):\n",
    "        x_input = tfk.Input(shape=self.dim_x)\n",
    "        encoder = self.encoder_z()\n",
    "        decoder = self.decoder_x()\n",
    "        z = encoder(x_input)\n",
    "\n",
    "        # compile VAE model\n",
    "        model = tfk.Model(inputs=x_input, outputs=decoder(z))\n",
    "        model.compile(loss=negative_log_likelihood, \n",
    "                      optimizer=tfk.optimizers.Adam(self.learning_rate))\n",
    "        return model\n",
    "\n",
    "# the negative of log-likelihood for probabilistic output\n",
    "negative_log_likelihood = lambda x, rv_x: -rv_x.log_prob(x)"
   ]
  },
  {
   "cell_type": "code",
   "execution_count": 9,
   "id": "534105d3",
   "metadata": {},
   "outputs": [
    {
     "name": "stderr",
     "output_type": "stream",
     "text": [
      "2022-12-14 02:09:00.513086: W tensorflow/python/util/util.cc:368] Sets are not currently considered sequences, but this may change in the future, so consider avoiding using them.\n"
     ]
    }
   ],
   "source": [
    "# VAE with 4 encoding and decoding layers, 64 filters per convolution, KL-divergence weight 1\n",
    "# dim_z, kl_weight, learning_rate, n_filters, n_layers, side\n",
    "vae = VAE(16, 1, 1e-3, 64, 4, 64)\n",
    "AE = vae.build_vae_keras_model()"
   ]
  },
  {
   "cell_type": "code",
   "execution_count": 10,
   "id": "071a6bb0",
   "metadata": {
    "scrolled": true
   },
   "outputs": [
    {
     "name": "stdout",
     "output_type": "stream",
     "text": [
      "Epoch 1/8\n"
     ]
    },
    {
     "name": "stderr",
     "output_type": "stream",
     "text": [
      "2022-12-14 02:11:10.743393: I tensorflow/stream_executor/cuda/cuda_dnn.cc:368] Loaded cuDNN version 8100\n"
     ]
    },
    {
     "name": "stdout",
     "output_type": "stream",
     "text": [
      "3838/3838 [==============================] - 154s 39ms/step - loss: 638913806336.0000 - val_loss: 20480.5156 - lr: 0.0010\n",
      "Epoch 2/8\n",
      "3838/3838 [==============================] - 153s 40ms/step - loss: nan - val_loss: nan - lr: 0.0010\n",
      "Epoch 3/8\n",
      "3838/3838 [==============================] - 153s 40ms/step - loss: nan - val_loss: nan - lr: 0.0010\n",
      "Epoch 4/8\n",
      "3837/3838 [============================>.] - ETA: 0s - loss: nan\n",
      "Epoch 4: ReduceLROnPlateau reducing learning rate to 0.0005000000237487257.\n",
      "3838/3838 [==============================] - 152s 40ms/step - loss: nan - val_loss: nan - lr: 0.0010\n",
      "Epoch 5/8\n",
      "3838/3838 [==============================] - 152s 40ms/step - loss: nan - val_loss: nan - lr: 5.0000e-04\n",
      "Epoch 6/8\n",
      "3838/3838 [==============================] - 152s 40ms/step - loss: nan - val_loss: nan - lr: 5.0000e-04\n",
      "Epoch 7/8\n",
      "3837/3838 [============================>.] - ETA: 0s - loss: nan\n",
      "Epoch 7: ReduceLROnPlateau reducing learning rate to 0.0002500000118743628.\n",
      "3838/3838 [==============================] - 152s 40ms/step - loss: nan - val_loss: nan - lr: 5.0000e-04\n",
      "Epoch 8/8\n",
      "3838/3838 [==============================] - 152s 40ms/step - loss: nan - val_loss: nan - lr: 2.5000e-04\n"
     ]
    }
   ],
   "source": [
    "from tensorflow_addons.optimizers import RectifiedAdam as RAdam\n",
    "from deepcell import train_utils\n",
    "\n",
    "steps_per_epoch = 3838\n",
    "validation_steps = 895\n",
    "n_epochs = 8\n",
    "# model_path = '/data/models/big_img_4_layers_16_embed_10_beta'\n",
    "\n",
    "train_callbacks = [\n",
    "    tf.keras.callbacks.ReduceLROnPlateau(\n",
    "      \n",
    "        monitor='val_loss', factor=0.5, verbose=1,\n",
    "        patience=3, min_lr=1e-7)#,\n",
    "#     tf.keras.callbacks.ModelCheckpoint(\n",
    "#         model_path, monitor='val_loss',\n",
    "#         save_best_only=True, verbose=1,\n",
    "#         save_weights_only=True)\n",
    "]\n",
    "\n",
    "loss_history = AE.fit(\n",
    "    train_dataset,\n",
    "    steps_per_epoch=steps_per_epoch,\n",
    "    validation_data=val_dataset,\n",
    "    validation_steps=validation_steps,\n",
    "    epochs=n_epochs,\n",
    "    verbose=1,\n",
    "    callbacks=train_callbacks\n",
    ")"
   ]
  },
  {
   "cell_type": "code",
   "execution_count": 11,
   "id": "75fa6a2d",
   "metadata": {
    "scrolled": true
   },
   "outputs": [
    {
     "data": {
      "text/plain": [
       "<matplotlib.image.AxesImage at 0x7f3e680ca9d0>"
      ]
     },
     "execution_count": 11,
     "metadata": {},
     "output_type": "execute_result"
    },
    {
     "data": {
      "image/png": "[encoded data removed]",
      "text/plain": [
       "<Figure size 432x288 with 1 Axes>"
      ]
     },
     "metadata": {
      "needs_background": "light"
     },
     "output_type": "display_data"
    },
    {
     "data": {
      "image/png": "[encoded data removed]",
      "text/plain": [
       "<Figure size 432x288 with 1 Axes>"
      ]
     },
     "metadata": {
      "needs_background": "light"
     },
     "output_type": "display_data"
    }
   ],
   "source": [
    "import matplotlib.pyplot as plt\n",
    "\n",
    "x = np.array([val_tracks.appearances[2][13][6]])\n",
    "xhat = AE(x).mean()\n",
    "\n",
    "fig, ax = plt.subplots()\n",
    "ax.imshow(x[0])\n",
    "\n",
    "fig, ax = plt.subplots()\n",
    "ax.imshow(xhat[0])"
   ]
  },
  {
   "cell_type": "code",
   "execution_count": 12,
   "id": "2018ab20",
   "metadata": {},
   "outputs": [],
   "source": [
    "val_dataset = get_dataset(\"/data/tf_records/val_big.tfrecords\", batch_size=100)\n",
    "train_dataset = get_dataset(\"/data/tf_records/train_big.tfrecords\", batch_size=100)"
   ]
  },
  {
   "cell_type": "code",
   "execution_count": 13,
   "id": "7b3fd1f4",
   "metadata": {},
   "outputs": [],
   "source": [
    "# VAE with 4 encoding and decoding layers, 64 filters per convolution, KL-divergence weight 1\n",
    "# dim_z, kl_weight, learning_rate, n_filters, n_layers, side\n",
    "vae2 = VAE(16, 1, 1e-3, 64, 4, 64)\n",
    "AE2 = vae.build_vae_keras_model()"
   ]
  },
  {
   "cell_type": "code",
   "execution_count": 15,
   "id": "774b7667",
   "metadata": {},
   "outputs": [
    {
     "name": "stdout",
     "output_type": "stream",
     "text": [
      "Epoch 1/4\n",
      "3838/3838 [==============================] - 154s 40ms/step - loss: -5496.5293 - val_loss: 5227.3755 - lr: 0.0010\n",
      "Epoch 2/4\n",
      "3838/3838 [==============================] - 154s 40ms/step - loss: -6287.4819 - val_loss: 570.2474 - lr: 0.0010\n",
      "Epoch 3/4\n",
      "3838/3838 [==============================] - 153s 40ms/step - loss: -6690.2344 - val_loss: -1890.8573 - lr: 0.0010\n",
      "Epoch 4/4\n",
      "3838/3838 [==============================] - 153s 40ms/step - loss: -5318.7632 - val_loss: -2278.5364 - lr: 0.0010\n"
     ]
    }
   ],
   "source": [
    "from tensorflow_addons.optimizers import RectifiedAdam as RAdam\n",
    "from deepcell import train_utils\n",
    "\n",
    "steps_per_epoch = 3838\n",
    "validation_steps = 895\n",
    "n_epochs = 4\n",
    "# model_path = '/data/models/big_img_4_layers_16_embed_10_beta'\n",
    "\n",
    "train_callbacks = [\n",
    "    tf.keras.callbacks.ReduceLROnPlateau(\n",
    "      \n",
    "        monitor='val_loss', factor=0.5, verbose=1,\n",
    "        patience=3, min_lr=1e-7)#,\n",
    "#     tf.keras.callbacks.ModelCheckpoint(\n",
    "#         model_path, monitor='val_loss',\n",
    "#         save_best_only=True, verbose=1,\n",
    "#         save_weights_only=True)\n",
    "]\n",
    "\n",
    "loss_history = AE2.fit(\n",
    "    train_dataset,\n",
    "    steps_per_epoch=steps_per_epoch,\n",
    "    validation_data=val_dataset,\n",
    "    validation_steps=validation_steps,\n",
    "    epochs=n_epochs,\n",
    "    verbose=1,\n",
    "    callbacks=train_callbacks\n",
    ")"
   ]
  },
  {
   "cell_type": "code",
   "execution_count": 17,
   "id": "785cde1e",
   "metadata": {},
   "outputs": [
    {
     "data": {
      "text/plain": [
       "<matplotlib.image.AxesImage at 0x7f3e600dcbe0>"
      ]
     },
     "execution_count": 17,
     "metadata": {},
     "output_type": "execute_result"
    },
    {
     "data": {
      "image/png": "[encoded data removed]",
      "text/plain": [
       "<Figure size 432x288 with 1 Axes>"
      ]
     },
     "metadata": {
      "needs_background": "light"
     },
     "output_type": "display_data"
    },
    {
     "data": {
      "image/png": "[encoded data removed]",
      "text/plain": [
       "<Figure size 432x288 with 1 Axes>"
      ]
     },
     "metadata": {
      "needs_background": "light"
     },
     "output_type": "display_data"
    }
   ],
   "source": [
    "import matplotlib.pyplot as plt\n",
    "\n",
    "x = np.array([val_tracks.appearances[2][13][6]])\n",
    "xhat = AE2(x).mean()\n",
    "\n",
    "fig, ax = plt.subplots()\n",
    "ax.imshow(x[0])\n",
    "\n",
    "fig, ax = plt.subplots()\n",
    "ax.imshow(xhat[0])"
   ]
  },
  {
   "cell_type": "markdown",
   "id": "2e4a53a1",
   "metadata": {},
   "source": [
    "# Run other VAE model"
   ]
  },
  {
   "cell_type": "code",
   "execution_count": 1,
   "id": "e5786b32",
   "metadata": {},
   "outputs": [],
   "source": [
    "import os\n",
    "import deepcell\n",
    "\n",
    "import tensorflow as tf\n",
    "import numpy as np\n",
    "import tensorflow_addons as tfa\n",
    "import matplotlib.pyplot as plt\n",
    "\n",
    "from skimage.measure import regionprops\n",
    "from tqdm.notebook import tqdm\n",
    "from tensorflow.keras.utils import plot_model"
   ]
  },
  {
   "cell_type": "code",
   "execution_count": 2,
   "id": "95ecf6f4",
   "metadata": {},
   "outputs": [],
   "source": [
    "from tensorflow.keras import Model\n",
    "from tensorflow.keras.layers import Layer, Input, Conv2D, Conv3D, Lambda\n",
    "from tensorflow.keras.layers import Flatten, Reshape, Dense, UpSampling2D, UpSampling3D \n",
    "from deepcell.layers import ImageNormalization2D\n",
    "\n",
    "\n",
    "class Sampling(Layer):\n",
    "    \"\"\"Uses (z_mean, z_log_var) to sample z, the vector encoding a digit.\"\"\"\n",
    "\n",
    "    def call(self, inputs):\n",
    "        z_mean, z_log_var = inputs\n",
    "        batch = tf.shape(z_mean)[0]\n",
    "        dim = tf.shape(z_mean)[1]\n",
    "        epsilon = tf.keras.backend.random_normal(shape=(batch, dim))\n",
    "        \n",
    "        return z_mean + tf.exp(0.5 * z_log_var) * epsilon\n",
    "    \n",
    "class ReshapeEncoder(Layer):\n",
    "    def __init__(self, n_filters, **kwargs):\n",
    "        super(ReshapeEncoder, self).__init__(**kwargs)\n",
    "        \n",
    "        self.n_filters = n_filters\n",
    "        \n",
    "    def call(self, inputs):\n",
    "        outputs = tf.reshape(inputs, [tf.shape(inputs)[0], \n",
    "                                      tf.shape(inputs)[1], \n",
    "                                      4*4*self.n_filters])\n",
    "        return outputs\n",
    "    \n",
    "class ReshapeDecoder(Layer):\n",
    "    def __init__(self, encoder_dim, **kwargs):\n",
    "        super(ReshapeDecoder, self).__init__(**kwargs)\n",
    "        \n",
    "        self.encoder_dim = encoder_dim\n",
    "        \n",
    "    def call(self, inputs):\n",
    "        outputs = tf.reshape(inputs, [tf.shape(inputs)[0],\n",
    "                                      tf.shape(inputs)[1],\n",
    "                                      4, 4, self.encoder_dim])\n",
    "        return outputs\n",
    "\n",
    "class VAE(Model):\n",
    "    def __init__(self, \n",
    "                 image_shape=(None,64,64,1),\n",
    "                 n_filters=64, \n",
    "                 encoder_dim=16,\n",
    "                 observation_std=0.1,\n",
    "                 **kwargs):\n",
    "        super(VAE, self).__init__(**kwargs)\n",
    "        self.image_shape = image_shape\n",
    "        self.n_filters = n_filters\n",
    "        self.encoder_dim = encoder_dim\n",
    "        self.observation_std = observation_std\n",
    "        \n",
    "        self.encoder = self.create_encoder()\n",
    "        self.prob_encoder = self.create_prob_encoder()\n",
    "        self.decoder = self.create_decoder()\n",
    "        \n",
    "        self.total_loss_tracker = tf.keras.metrics.Mean(name='total_loss')\n",
    "        self.reconstruction_loss_tracker = tf.keras.metrics.Mean(name='reconstruction_loss')\n",
    "        self.kl_loss_tracker = tf.keras.metrics.Mean(name='kl_loss')\n",
    "        \n",
    "        self.build((None,) + self.image_shape)\n",
    "                \n",
    "    def create_encoder(self):\n",
    "        encoder_input = Input(shape=self.image_shape, name='image')\n",
    "        x = encoder_input\n",
    "        for i in range(4):\n",
    "            x = Conv3D(self.n_filters, \n",
    "                       (1,3,3), \n",
    "                       strides=(1,2,2), \n",
    "                       padding='same', \n",
    "                       activation='relu')(x)\n",
    "            \n",
    "        x = ReshapeEncoder(self.n_filters)(x)\n",
    "        z_mean = Dense(self.encoder_dim, name='z_mean')(x)\n",
    "        z_log_var = Dense(self.encoder_dim, name='z_log_var')(x)\n",
    "\n",
    "        outputs = [z_mean, z_log_var]\n",
    "\n",
    "        model = Model(inputs=encoder_input, outputs=outputs)\n",
    "        return model\n",
    "\n",
    "    def create_prob_encoder(self):\n",
    "        z_mean_input = Input(shape=(None, self.encoder_dim), name='z_mean_input')\n",
    "        z_log_var_input = Input(shape=(None, self.encoder_dim), name='z_log_var_input')\n",
    "        \n",
    "        x = Sampling()([z_mean_input, z_log_var_input])\n",
    "        \n",
    "        inputs = [z_mean_input, z_log_var_input]\n",
    "        model = Model(inputs=inputs, outputs=x)\n",
    "        \n",
    "        return model\n",
    "    \n",
    "    def create_decoder(self):\n",
    "        decoder_input = Input(shape=(None, self.encoder_dim,), name='decoder_input')\n",
    "        x = decoder_input \n",
    "\n",
    "        x = Dense(4*4*self.encoder_dim)(x)        \n",
    "        x = ReshapeDecoder(self.encoder_dim)(x)\n",
    "\n",
    "        for i in range(4):\n",
    "            x = UpSampling3D(size=(1,2,2))(x)\n",
    "            x = Conv3D(self.n_filters, \n",
    "                       (1,3,3), \n",
    "                       strides=(1,1,1), \n",
    "                       padding='same', \n",
    "                       activation='relu')(x)\n",
    "        x = Conv3D(1, \n",
    "                   (1,1,1), \n",
    "                   strides=(1,1,1), \n",
    "                   padding='same',\n",
    "                   name='reconstruction',\n",
    "                   dtype='float32')(x)\n",
    "        \n",
    "        model = Model(inputs=decoder_input, outputs=x)\n",
    "        \n",
    "        return model\n",
    "    \n",
    "    def call(self, inputs):\n",
    "        encoded = self.encoder(inputs)\n",
    "        prob_encoded = self.prob_encoder(encoded)\n",
    "        decoded = self.decoder(prob_encoded)\n",
    "        \n",
    "        return decoded\n",
    "        \n",
    "    def gaussian_log_likelihood(self, targets, mean, std):\n",
    "        se = 0.5 * tf.reduce_sum(tf.square(targets - mean)) / (2*tf.square(std)) + tf.math.log(std)\n",
    "        return se        \n",
    "    \n",
    "    def kl_div(self, z_mean, z_log_var):\n",
    "        kl_loss = -0.5 * (1 + z_log_var - tf.square(z_mean) - tf.exp(z_log_var))\n",
    "        kl_loss = tf.reduce_sum(kl_loss)\n",
    "        \n",
    "        return kl_loss\n",
    "    \n",
    "    @property\n",
    "    def metrics(self):\n",
    "        return [self.total_loss_tracker, self.reconstruction_loss_tracker, self.kl_loss_tracker]\n",
    "    \n",
    "    def train_step(self, data):\n",
    "        with tf.GradientTape() as tape:\n",
    "            reconstruction = self(data[0])\n",
    "            z_mean, z_log_var = self.encoder(data[0])\n",
    "            \n",
    "            obs_epsilon = tf.keras.backend.random_normal(tf.shape(reconstruction))\n",
    "            observation = reconstruction + self.observation_std * obs_epsilon\n",
    "            reconstruction_loss = self.gaussian_log_likelihood(data[1]['reconstruction'], \n",
    "                                                               observation,\n",
    "                                                               self.observation_std)\n",
    "            \n",
    "            kl_loss = self.kl_div(z_mean, z_log_var)\n",
    "            total_loss = reconstruction_loss + kl_loss\n",
    "            \n",
    "        grads = tape.gradient(total_loss, self.trainable_weights)\n",
    "        self.optimizer.apply_gradients(zip(grads, self.trainable_weights))\n",
    "        \n",
    "        self.total_loss_tracker.update_state(total_loss)\n",
    "        self.reconstruction_loss_tracker.update_state(reconstruction_loss)\n",
    "        self.kl_loss_tracker.update_state(kl_loss)\n",
    "        \n",
    "        return {\n",
    "            'loss': self.total_loss_tracker.result(),\n",
    "            'reconstruction_loss': self.reconstruction_loss_tracker.result(),\n",
    "            'kl_loss': self.kl_loss_tracker.result()\n",
    "        }"
   ]
  },
  {
   "cell_type": "code",
   "execution_count": 3,
   "id": "306ada8d",
   "metadata": {},
   "outputs": [
    {
     "name": "stderr",
     "output_type": "stream",
     "text": [
      "2022-12-15 23:14:10.561959: I tensorflow/core/platform/cpu_feature_guard.cc:151] This TensorFlow binary is optimized with oneAPI Deep Neural Network Library (oneDNN) to use the following CPU instructions in performance-critical operations:  AVX2 FMA\n",
      "To enable them in other operations, rebuild TensorFlow with the appropriate compiler flags.\n",
      "2022-12-15 23:14:11.234910: I tensorflow/core/common_runtime/gpu/gpu_device.cc:1525] Created device /job:localhost/replica:0/task:0/device:GPU:0 with 10415 MB memory:  -> device: 0, name: NVIDIA GeForce GTX 1080 Ti, pci bus id: 0000:09:00.0, compute capability: 6.1\n"
     ]
    }
   ],
   "source": [
    "vae_model = VAE()"
   ]
  },
  {
   "cell_type": "code",
   "execution_count": 4,
   "id": "5b1e05b6",
   "metadata": {},
   "outputs": [
    {
     "data": {
      "image/png": "[encoded data removed]",
      "text/plain": [
       "<IPython.core.display.Image object>"
      ]
     },
     "execution_count": 4,
     "metadata": {},
     "output_type": "execute_result"
    }
   ],
   "source": [
    "plot_model(vae_model.encoder, show_shapes=True)"
   ]
  },
  {
   "cell_type": "code",
   "execution_count": 5,
   "id": "9cb13fd9",
   "metadata": {},
   "outputs": [],
   "source": [
    "from tensorflow_addons.optimizers import RectifiedAdam as RAdam\n",
    "\n",
    "# Define optimizer\n",
    "optimizer = RAdam(learning_rate=1e-3, clipnorm=0.001)\n",
    "\n",
    "# Compile model\n",
    "vae_model.compile(optimizer=optimizer)"
   ]
  },
  {
   "cell_type": "code",
   "execution_count": 6,
   "id": "f38e9aff",
   "metadata": {},
   "outputs": [],
   "source": [
    "n_epochs = 8\n",
    "steps_per_epoch = 4096"
   ]
  },
  {
   "cell_type": "code",
   "execution_count": 24,
   "id": "b27db022",
   "metadata": {
    "scrolled": true
   },
   "outputs": [
    {
     "name": "stdout",
     "output_type": "stream",
     "text": [
      "Epoch 1/8\n"
     ]
    },
    {
     "ename": "TypeError",
     "evalue": "in user code:\n\n    File \"/usr/local/lib/python3.8/dist-packages/keras/engine/training.py\", line 1021, in train_function  *\n        return step_function(self, iterator)\n    File \"/usr/local/lib/python3.8/dist-packages/keras/engine/training.py\", line 1010, in step_function  **\n        outputs = model.distribute_strategy.run(run_step, args=(data,))\n    File \"/usr/local/lib/python3.8/dist-packages/keras/engine/training.py\", line 1000, in run_step  **\n        outputs = model.train_step(data)\n    File \"/tmp/ipykernel_10/3045637912.py\", line 148, in train_step\n        reconstruction_loss = self.gaussian_log_likelihood(data[1]['reconstruction'],\n\n    TypeError: Only integers, slices (`:`), ellipsis (`...`), tf.newaxis (`None`) and scalar tf.int32/tf.int64 tensors are valid indices, got 'reconstruction'\n",
     "output_type": "error",
     "traceback": [
      "\u001b[0;31m---------------------------------------------------------------------------\u001b[0m",
      "\u001b[0;31mTypeError\u001b[0m                                 Traceback (most recent call last)",
      "Input \u001b[0;32mIn [24]\u001b[0m, in \u001b[0;36m<cell line: 1>\u001b[0;34m()\u001b[0m\n\u001b[0;32m----> 1\u001b[0m loss_history \u001b[38;5;241m=\u001b[39m \u001b[43mvae_model\u001b[49m\u001b[38;5;241;43m.\u001b[39;49m\u001b[43mfit\u001b[49m\u001b[43m(\u001b[49m\n\u001b[1;32m      2\u001b[0m \u001b[43m    \u001b[49m\u001b[43mtrain_dataset\u001b[49m\u001b[43m,\u001b[49m\n\u001b[1;32m      3\u001b[0m \u001b[43m    \u001b[49m\u001b[43msteps_per_epoch\u001b[49m\u001b[38;5;241;43m=\u001b[39;49m\u001b[43msteps_per_epoch\u001b[49m\u001b[43m,\u001b[49m\n\u001b[1;32m      4\u001b[0m \u001b[43m    \u001b[49m\u001b[43mepochs\u001b[49m\u001b[38;5;241;43m=\u001b[39;49m\u001b[43mn_epochs\u001b[49m\u001b[43m,\u001b[49m\n\u001b[1;32m      5\u001b[0m \u001b[43m    \u001b[49m\u001b[43mverbose\u001b[49m\u001b[38;5;241;43m=\u001b[39;49m\u001b[38;5;241;43m1\u001b[39;49m\u001b[43m)\u001b[49m\n",
      "File \u001b[0;32m/usr/local/lib/python3.8/dist-packages/keras/utils/traceback_utils.py:67\u001b[0m, in \u001b[0;36mfilter_traceback.<locals>.error_handler\u001b[0;34m(*args, **kwargs)\u001b[0m\n\u001b[1;32m     65\u001b[0m \u001b[38;5;28;01mexcept\u001b[39;00m \u001b[38;5;167;01mException\u001b[39;00m \u001b[38;5;28;01mas\u001b[39;00m e:  \u001b[38;5;66;03m# pylint: disable=broad-except\u001b[39;00m\n\u001b[1;32m     66\u001b[0m   filtered_tb \u001b[38;5;241m=\u001b[39m _process_traceback_frames(e\u001b[38;5;241m.\u001b[39m__traceback__)\n\u001b[0;32m---> 67\u001b[0m   \u001b[38;5;28;01mraise\u001b[39;00m e\u001b[38;5;241m.\u001b[39mwith_traceback(filtered_tb) \u001b[38;5;28;01mfrom\u001b[39;00m \u001b[38;5;28mNone\u001b[39m\n\u001b[1;32m     68\u001b[0m \u001b[38;5;28;01mfinally\u001b[39;00m:\n\u001b[1;32m     69\u001b[0m   \u001b[38;5;28;01mdel\u001b[39;00m filtered_tb\n",
      "File \u001b[0;32m/usr/local/lib/python3.8/dist-packages/tensorflow/python/framework/func_graph.py:1147\u001b[0m, in \u001b[0;36mfunc_graph_from_py_func.<locals>.autograph_handler\u001b[0;34m(*args, **kwargs)\u001b[0m\n\u001b[1;32m   1145\u001b[0m \u001b[38;5;28;01mexcept\u001b[39;00m \u001b[38;5;167;01mException\u001b[39;00m \u001b[38;5;28;01mas\u001b[39;00m e:  \u001b[38;5;66;03m# pylint:disable=broad-except\u001b[39;00m\n\u001b[1;32m   1146\u001b[0m   \u001b[38;5;28;01mif\u001b[39;00m \u001b[38;5;28mhasattr\u001b[39m(e, \u001b[38;5;124m\"\u001b[39m\u001b[38;5;124mag_error_metadata\u001b[39m\u001b[38;5;124m\"\u001b[39m):\n\u001b[0;32m-> 1147\u001b[0m     \u001b[38;5;28;01mraise\u001b[39;00m e\u001b[38;5;241m.\u001b[39mag_error_metadata\u001b[38;5;241m.\u001b[39mto_exception(e)\n\u001b[1;32m   1148\u001b[0m   \u001b[38;5;28;01melse\u001b[39;00m:\n\u001b[1;32m   1149\u001b[0m     \u001b[38;5;28;01mraise\u001b[39;00m\n",
      "\u001b[0;31mTypeError\u001b[0m: in user code:\n\n    File \"/usr/local/lib/python3.8/dist-packages/keras/engine/training.py\", line 1021, in train_function  *\n        return step_function(self, iterator)\n    File \"/usr/local/lib/python3.8/dist-packages/keras/engine/training.py\", line 1010, in step_function  **\n        outputs = model.distribute_strategy.run(run_step, args=(data,))\n    File \"/usr/local/lib/python3.8/dist-packages/keras/engine/training.py\", line 1000, in run_step  **\n        outputs = model.train_step(data)\n    File \"/tmp/ipykernel_10/3045637912.py\", line 148, in train_step\n        reconstruction_loss = self.gaussian_log_likelihood(data[1]['reconstruction'],\n\n    TypeError: Only integers, slices (`:`), ellipsis (`...`), tf.newaxis (`None`) and scalar tf.int32/tf.int64 tensors are valid indices, got 'reconstruction'\n"
     ]
    }
   ],
   "source": [
    "loss_history = vae_model.fit(\n",
    "    train_dataset,\n",
    "    steps_per_epoch=steps_per_epoch,\n",
    "    epochs=n_epochs,\n",
    "    verbose=1)"
   ]
  },
  {
   "cell_type": "code",
   "execution_count": 7,
   "id": "f6523ee7",
   "metadata": {},
   "outputs": [],
   "source": [
    "def create_appearance_dataset(train_path, crop_size=64):\n",
    "    trk_data = load_trks(train_path)\n",
    "    X = trk_data['X'].astype('float32')\n",
    "    y = trk_data['y']\n",
    "    \n",
    "    # Zero-pad the X array\n",
    "    pad_width = ((0,0),\n",
    "                 (0,0),\n",
    "                 (crop_size, crop_size),\n",
    "                 (crop_size, crop_size), \n",
    "                 (0,0))\n",
    "    X = np.pad(X, pad_width=pad_width)\n",
    "    y = np.pad(y, pad_width=pad_width)\n",
    "    \n",
    "    appearance_list = []\n",
    "    for b in tqdm(range(X.shape[0])):\n",
    "        for t in range(X.shape[1]):\n",
    "            Xbt = X[b,t]\n",
    "            ybt = y[b,t]\n",
    "            \n",
    "            props = regionprops(ybt[...,0])\n",
    "            for i, prop in enumerate(props):\n",
    "                centroid = np.array(prop.centroid)\n",
    "                delta = crop_size // 2\n",
    "                minr = int(centroid[0])-delta\n",
    "                maxr = int(centroid[0])+delta\n",
    "                minc = int(centroid[1])-delta\n",
    "                maxc = int(centroid[1])+delta \n",
    "                \n",
    "                app = np.copy(Xbt[minr:maxr, minc:maxc, :])\n",
    "                label = np.copy(ybt[minr:maxr, minc:maxc])\n",
    "                \n",
    "                app = app * (label==prop.label)\n",
    "                \n",
    "                idx = np.nonzero(app)\n",
    "                \n",
    "                if len(idx) > 0:\n",
    "                    mean = np.mean(app[np.nonzero(app)])\n",
    "                    std = np.std(app[np.nonzero(app)])\n",
    "        \n",
    "                    app[np.nonzero(app)] = (app[np.nonzero(app)] - mean) / std\n",
    "            \n",
    "                    appearance_list.append(app)\n",
    "                \n",
    "    appearances = np.stack(appearance_list, axis=0)\n",
    "    \n",
    "    return appearances"
   ]
  },
  {
   "cell_type": "code",
   "execution_count": 8,
   "id": "b35ccfa9",
   "metadata": {},
   "outputs": [],
   "source": [
    "train_path = os.path.join('/data/tracking-nuclear', 'train.trks')\n",
    "val_path = os.path.join('/data/tracking-nuclear', 'val.trks')"
   ]
  },
  {
   "cell_type": "code",
   "execution_count": 13,
   "id": "ae133050",
   "metadata": {},
   "outputs": [
    {
     "data": {
      "application/vnd.jupyter.widget-view+json": {
       "model_id": "46398f9410604601bf98045fe51417c8",
       "version_major": 2,
       "version_minor": 0
      },
      "text/plain": [
       "  0%|          | 0/91 [00:00<?, ?it/s]"
      ]
     },
     "metadata": {},
     "output_type": "display_data"
    },
    {
     "name": "stderr",
     "output_type": "stream",
     "text": [
      "/usr/local/lib/python3.8/dist-packages/numpy/core/fromnumeric.py:3474: RuntimeWarning: Mean of empty slice.\n",
      "  return _methods._mean(a, axis=axis, dtype=dtype,\n",
      "/usr/local/lib/python3.8/dist-packages/numpy/core/_methods.py:189: RuntimeWarning: invalid value encountered in true_divide\n",
      "  ret = ret.dtype.type(ret / rcount)\n",
      "/usr/local/lib/python3.8/dist-packages/numpy/core/_methods.py:264: RuntimeWarning: Degrees of freedom <= 0 for slice\n",
      "  ret = _var(a, axis=axis, dtype=dtype, out=out, ddof=ddof,\n",
      "/usr/local/lib/python3.8/dist-packages/numpy/core/_methods.py:222: RuntimeWarning: invalid value encountered in true_divide\n",
      "  arrmean = um.true_divide(arrmean, div, out=arrmean, casting='unsafe',\n",
      "/usr/local/lib/python3.8/dist-packages/numpy/core/_methods.py:256: RuntimeWarning: invalid value encountered in true_divide\n",
      "  ret = ret.dtype.type(ret / rcount)\n"
     ]
    },
    {
     "name": "stdout",
     "output_type": "stream",
     "text": [
      "CPU times: user 6min 35s, sys: 5min 13s, total: 11min 49s\n",
      "Wall time: 12min 36s\n"
     ]
    }
   ],
   "source": [
    "%%time\n",
    "appearances = create_appearance_dataset(train_path)"
   ]
  },
  {
   "cell_type": "code",
   "execution_count": null,
   "id": "b1885fae",
   "metadata": {},
   "outputs": [],
   "source": [
    "print('hello')"
   ]
  }
 ],
 "metadata": {
  "kernelspec": {
   "display_name": "Python 3 (ipykernel)",
   "language": "python",
   "name": "python3"
  },
  "language_info": {
   "codemirror_mode": {
    "name": "ipython",
    "version": 3
   },
   "file_extension": ".py",
   "mimetype": "text/x-python",
   "name": "python",
   "nbconvert_exporter": "python",
   "pygments_lexer": "ipython3",
   "version": "3.8.10"
  }
 },
 "nbformat": 4,
 "nbformat_minor": 5
}
