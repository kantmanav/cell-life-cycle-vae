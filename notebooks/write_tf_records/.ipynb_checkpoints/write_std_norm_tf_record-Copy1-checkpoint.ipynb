{
 "cells": [
  {
   "cell_type": "code",
   "execution_count": 1,
   "id": "cdee5c10",
   "metadata": {},
   "outputs": [
    {
     "name": "stderr",
     "output_type": "stream",
     "text": [
      "2022-12-19 20:32:22.989660: I tensorflow/stream_executor/cuda/cuda_gpu_executor.cc:936] successful NUMA node read from SysFS had negative value (-1), but there must be at least one NUMA node, so returning NUMA node zero\n",
      "2022-12-19 20:32:23.039140: I tensorflow/stream_executor/cuda/cuda_gpu_executor.cc:936] successful NUMA node read from SysFS had negative value (-1), but there must be at least one NUMA node, so returning NUMA node zero\n",
      "2022-12-19 20:32:23.039650: I tensorflow/stream_executor/cuda/cuda_gpu_executor.cc:936] successful NUMA node read from SysFS had negative value (-1), but there must be at least one NUMA node, so returning NUMA node zero\n"
     ]
    },
    {
     "name": "stdout",
     "output_type": "stream",
     "text": [
      "2.8.0\n"
     ]
    }
   ],
   "source": [
    "import os\n",
    "import numpy as np\n",
    "\n",
    "import tensorflow as tf\n",
    "import tensorflow_addons as tfa\n",
    "gpus = tf.config.experimental.list_physical_devices('GPU')\n",
    "# I think the below should be commented out\n",
    "# for gpu in gpus:\n",
    "#       tf.config.experimental.set_memory_growth(gpu, True)\n",
    "print(tf.__version__)\n",
    "AUTOTUNE = tf.data.experimental.AUTOTUNE\n",
    "\n",
    "import deepcell\n",
    "# Changed from before due to new placement of Track, concat_tracks\n",
    "from deepcell_tracking.utils import load_trks\n",
    "from deepcell.data.tracking import Track, concat_tracks\n",
    "##############\n",
    "from sklearn.model_selection import train_test_split\n",
    "from deepcell.utils.data_utils import reshape_movie\n",
    "from deepcell.utils.transform_utils import erode_edges\n",
    "from deepcell.data import split_dataset\n",
    "from deepcell_toolbox.processing import normalize, histogram_normalization\n",
    "\n",
    "import spektral"
   ]
  },
  {
   "cell_type": "markdown",
   "id": "5d2af084",
   "metadata": {},
   "source": [
    "# Load dictionaries of usable (non-blank, non-border) images"
   ]
  },
  {
   "cell_type": "code",
   "execution_count": 2,
   "id": "3d2c3bfb",
   "metadata": {},
   "outputs": [],
   "source": [
    "import json\n",
    "def load_img_dict(file):\n",
    "    f = open(file)\n",
    "    d = json.load(f)\n",
    "    d = {int(k1): {int(k2): {int(k3): v for k3, v in d[k1][k2].items()} for k2, d[k1][k2] in d[k1].items()} for k1, d[k1] in d.items()}\n",
    "    return d\n",
    "def load_img_idx_dict(file):\n",
    "    f = open(file)\n",
    "    d = json.load(f)\n",
    "    d = {int(k): v for k, v in d.items()}\n",
    "    return d"
   ]
  },
  {
   "cell_type": "code",
   "execution_count": 3,
   "id": "99bf7b96",
   "metadata": {},
   "outputs": [],
   "source": [
    "# Of the form {batch: {cell: {frame: -1/idx, ...}, ...}, ...} where good_imgs[batch][cell][frame] = -1 if the image\n",
    "# is blank/on the border and idx if it is usable, where idx is the position in the list of usable images\n",
    "train_good_imgs = load_img_dict('/data/dataset_pruning/train_appearances_dict.json')\n",
    "train_blank_imgs = load_img_dict('/data/dataset_pruning/train_blank_dict.json')\n",
    "train_border_imgs = load_img_dict('/data/dataset_pruning/train_border_dict.json')\n",
    "val_good_imgs = load_img_dict('/data/dataset_pruning/val_appearances_dict.json')\n",
    "val_blank_imgs = load_img_dict('/data/dataset_pruning/val_blank_dict.json')\n",
    "val_border_imgs = load_img_dict('/data/dataset_pruning/val_border_dict.json')"
   ]
  },
  {
   "cell_type": "code",
   "execution_count": 4,
   "id": "d1f5b657",
   "metadata": {},
   "outputs": [],
   "source": [
    "def get_lst_idx_to_pos(good_imgs_dict):\n",
    "    lst_idx_to_pos = {}\n",
    "    for b in good_imgs_dict.keys():\n",
    "        for c in good_imgs_dict[b].keys():\n",
    "            for f in good_imgs_dict[b][c].keys():\n",
    "                idx = good_imgs_dict[b][c][f]\n",
    "                if idx != -1:\n",
    "                    lst_idx_to_pos = (b, f, c)\n",
    "    return lst_idx_to_pos\n",
    "\n",
    "# Dictionary of frames to split (time until splitting) for each image, in the format of usable image dictionary\n",
    "def get_life_cycle_dict(tracks):\n",
    "    batches, frames, cells = tracks.centroids.shape[:3]\n",
    "    \n",
    "    life_cycle_dict = {}\n",
    "    for batch in range(batches):\n",
    "        life_cycle_dict[batch] = {}\n",
    "        for cell in range(cells):\n",
    "            life_cycle_dict[batch][cell] = {}\n",
    "            for frame in range(frames):\n",
    "                life_cycle_dict[batch][cell][frame] = -1\n",
    "    \n",
    "    for batch in range(batches):\n",
    "        for cell in tracks.lineages[batch].keys():\n",
    "            if len(tracks.lineages[batch][cell]['daughters']) != 0:\n",
    "                cell_frames = tracks.lineages[batch][cell]['frames']\n",
    "                last_frame = cell_frames[-1]\n",
    "                for cell_frame in cell_frames:\n",
    "                    life_cycle_dict[batch][cell - 1][cell_frame] = last_frame - cell_frame + 1\n",
    "    \n",
    "    return life_cycle_dict\n",
    "\n",
    "# Should the cells in the dictionary be 0-indexed? What is the case in the good_imgs_dict?\n",
    "# Yes. It is 0-indexed wrt the cells"
   ]
  },
  {
   "cell_type": "markdown",
   "id": "189b1f45",
   "metadata": {},
   "source": [
    "# Write appearances array to TF Records"
   ]
  },
  {
   "cell_type": "code",
   "execution_count": 5,
   "id": "fa652aa7",
   "metadata": {},
   "outputs": [],
   "source": [
    "import csv\n",
    "import os\n",
    "\n",
    "from tensorflow.data import Dataset\n",
    "from tensorflow.io import serialize_tensor\n",
    "from tensorflow.keras.utils import to_categorical\n",
    "from tensorflow.keras.backend import is_sparse\n",
    "\n",
    "def _bytes_feature(value):\n",
    "    \"\"\"Returns a bytes_list from a string / byte.\"\"\"\n",
    "    if isinstance(value, type(tf.constant(0))):\n",
    "        # BytesList won't unpack a string from an EagerTensor.\n",
    "        value = value.numpy()\n",
    "    return tf.train.Feature(bytes_list=tf.train.BytesList(value=[value]))\n",
    "\n",
    "\n",
    "def _float_feature(value):\n",
    "    \"\"\"Returns a float_list from a float / double.\"\"\"\n",
    "    return tf.train.Feature(float_list=tf.train.FloatList(value=[value]))\n",
    "\n",
    "\n",
    "def _int64_feature(value):\n",
    "    \"\"\"Returns an int64_list from a bool / enum / int / uint.\"\"\"\n",
    "    return tf.train.Feature(int64_list=tf.train.Int64List(value=[value]))\n",
    "\n",
    "def serialize_array(array):\n",
    "    array = tf.io.serialize_tensor(array)\n",
    "    return array\n",
    "\n",
    "def create_tracking_example(image):\n",
    "    # define the dictionary -- the structure -- of our single example\n",
    "    data = {\n",
    "        'height' : _int64_feature(image.shape[0]),\n",
    "        'width' : _int64_feature(image.shape[1]),\n",
    "        'depth' : _int64_feature(image.shape[2]),\n",
    "        'raw_image' : _bytes_feature(serialize_array(image))\n",
    "    }\n",
    "    # create an Example, wrapping the single features\n",
    "    out = tf.train.Example(features=tf.train.Features(feature=data))\n",
    "    \n",
    "    return out"
   ]
  },
  {
   "cell_type": "code",
   "execution_count": 6,
   "id": "f31355ae",
   "metadata": {},
   "outputs": [],
   "source": [
    "# No (extra) normalization\n",
    "def write_tracking_dataset_to_tfr(track, filename, good_imgs):\n",
    "    print('Done calculating normalizations.')\n",
    "    filename = \"/data/tf_records/\" + filename + \".tfrecords\"\n",
    "    writer = tf.io.TFRecordWriter(filename) #create a writer that'll store our data to disk\n",
    "    count = 0\n",
    "\n",
    "    app = track.appearances\n",
    "    # Only write usable images to the record\n",
    "    for b in range(app.shape[0]):\n",
    "        print(b)\n",
    "        for f in range(app.shape[1]):\n",
    "            for c in range(app.shape[2]):\n",
    "                # Check if the given image is usable\n",
    "                if good_imgs[b][c][f] != -1:\n",
    "                    current_image = app[b, f, c]\n",
    "\n",
    "                    out = create_tracking_example(current_image)\n",
    "\n",
    "                    if out is not None:\n",
    "                        writer.write(out.SerializeToString())\n",
    "                        count += 1\n",
    "\n",
    "    writer.close()\n",
    "    print(f'Wrote {count} elements to TFRecord')\n",
    "    return count"
   ]
  },
  {
   "cell_type": "code",
   "execution_count": 7,
   "id": "9107ebe2",
   "metadata": {
    "scrolled": true
   },
   "outputs": [],
   "source": [
    "train_trks = load_trks(os.path.join('/data', 'train.trks'))\n",
    "# val_trks = load_trks(os.path.join('/data', 'val.trks'))"
   ]
  },
  {
   "cell_type": "code",
   "execution_count": 8,
   "id": "91099331",
   "metadata": {},
   "outputs": [],
   "source": [
    "from skimage.exposure import rescale_intensity\n",
    "\n",
    "def norm(X, size):\n",
    "    X_norm = histogram_normalization(X, kernel_size=size)\n",
    "    \n",
    "    X_rescaled = np.zeros(X_norm.shape)\n",
    "    for img_idx in range(X.shape[0]):\n",
    "        x = X[img_idx]\n",
    "        x = rescale_intensity(x, out_range=(-0.5, 0.5))\n",
    "        X_rescaled[img_idx] = x\n",
    "            \n",
    "    return X_rescaled"
   ]
  },
  {
   "cell_type": "code",
   "execution_count": 14,
   "id": "9da4b014",
   "metadata": {
    "scrolled": true
   },
   "outputs": [
    {
     "name": "stdout",
     "output_type": "stream",
     "text": [
      "Done calculating normalizations.\n",
      "0\n",
      "1\n",
      "2\n",
      "3\n",
      "4\n",
      "5\n",
      "6\n",
      "7\n",
      "8\n",
      "9\n",
      "10\n",
      "11\n",
      "12\n",
      "13\n",
      "14\n",
      "15\n",
      "16\n",
      "17\n",
      "18\n",
      "19\n",
      "20\n",
      "21\n",
      "22\n",
      "23\n",
      "24\n",
      "25\n",
      "26\n",
      "Wrote 89436 elements to TFRecord\n"
     ]
    }
   ],
   "source": [
    "with tf.device('/cpu:0'):\n",
    "    val_tracks = Track(tracked_data=val_trks,\n",
    "                   appearance_dim=64,\n",
    "                   distance_threshold=64,\n",
    "                   crop_mode='fixed')\n",
    "\n",
    "    print('Done creating Track objects.')\n",
    "\n",
    "    write_tracking_dataset_to_tfr(val_tracks, filename='val_big_norm_contracted', good_imgs=val_good_imgs)"
   ]
  },
  {
   "cell_type": "code",
   "execution_count": null,
   "id": "e186c303",
   "metadata": {},
   "outputs": [
    {
     "name": "stderr",
     "output_type": "stream",
     "text": [
      "2022-12-19 20:38:37.086318: I tensorflow/core/platform/cpu_feature_guard.cc:151] This TensorFlow binary is optimized with oneAPI Deep Neural Network Library (oneDNN) to use the following CPU instructions in performance-critical operations:  AVX2 FMA\n",
      "To enable them in other operations, rebuild TensorFlow with the appropriate compiler flags.\n",
      "2022-12-19 20:38:37.088740: I tensorflow/stream_executor/cuda/cuda_gpu_executor.cc:936] successful NUMA node read from SysFS had negative value (-1), but there must be at least one NUMA node, so returning NUMA node zero\n",
      "2022-12-19 20:38:37.089277: I tensorflow/stream_executor/cuda/cuda_gpu_executor.cc:936] successful NUMA node read from SysFS had negative value (-1), but there must be at least one NUMA node, so returning NUMA node zero\n",
      "2022-12-19 20:38:37.089518: I tensorflow/stream_executor/cuda/cuda_gpu_executor.cc:936] successful NUMA node read from SysFS had negative value (-1), but there must be at least one NUMA node, so returning NUMA node zero\n",
      "2022-12-19 20:38:38.180775: I tensorflow/stream_executor/cuda/cuda_gpu_executor.cc:936] successful NUMA node read from SysFS had negative value (-1), but there must be at least one NUMA node, so returning NUMA node zero\n",
      "2022-12-19 20:38:38.181076: I tensorflow/stream_executor/cuda/cuda_gpu_executor.cc:936] successful NUMA node read from SysFS had negative value (-1), but there must be at least one NUMA node, so returning NUMA node zero\n",
      "2022-12-19 20:38:38.181321: I tensorflow/stream_executor/cuda/cuda_gpu_executor.cc:936] successful NUMA node read from SysFS had negative value (-1), but there must be at least one NUMA node, so returning NUMA node zero\n",
      "2022-12-19 20:38:38.182064: I tensorflow/core/common_runtime/gpu/gpu_device.cc:1525] Created device /job:localhost/replica:0/task:0/device:GPU:0 with 197 MB memory:  -> device: 0, name: NVIDIA RTX A6000, pci bus id: 0000:05:00.0, compute capability: 8.6\n",
      "100%|███████████████████████████████████████████| 91/91 [05:10<00:00,  3.41s/it]\n",
      " 33%|██████████████▏                            | 30/91 [03:26<08:11,  8.05s/it]/usr/local/lib/python3.8/dist-packages/numpy/core/fromnumeric.py:3474: RuntimeWarning: Mean of empty slice.\n",
      "  return _methods._mean(a, axis=axis, dtype=dtype,\n",
      "/usr/local/lib/python3.8/dist-packages/numpy/core/_methods.py:189: RuntimeWarning: invalid value encountered in true_divide\n",
      "  ret = ret.dtype.type(ret / rcount)\n",
      "/usr/local/lib/python3.8/dist-packages/numpy/core/_methods.py:264: RuntimeWarning: Degrees of freedom <= 0 for slice\n",
      "  ret = _var(a, axis=axis, dtype=dtype, out=out, ddof=ddof,\n",
      "/usr/local/lib/python3.8/dist-packages/numpy/core/_methods.py:222: RuntimeWarning: invalid value encountered in true_divide\n",
      "  arrmean = um.true_divide(arrmean, div, out=arrmean, casting='unsafe',\n",
      "/usr/local/lib/python3.8/dist-packages/numpy/core/_methods.py:256: RuntimeWarning: invalid value encountered in true_divide\n",
      "  ret = ret.dtype.type(ret / rcount)\n",
      "100%|███████████████████████████████████████████| 91/91 [08:10<00:00,  5.39s/it]\n"
     ]
    }
   ],
   "source": [
    "with tf.device('/cpu:0'):\n",
    "    train_tracks = Track(tracked_data=train_trks,\n",
    "                   appearance_dim=64,\n",
    "                   distance_threshold=64,\n",
    "                   crop_mode='fixed')\n",
    "\n",
    "    print('Done with creating Track objects.')\n",
    "\n",
    "    write_tracking_dataset_to_tfr(train_tracks, filename='train_big_norm_contracted', good_imgs=train_good_imgs)"
   ]
  },
  {
   "cell_type": "code",
   "execution_count": 9,
   "id": "6ddf2e0d",
   "metadata": {},
   "outputs": [
    {
     "ename": "NameError",
     "evalue": "name 'train_tracks' is not defined",
     "output_type": "error",
     "traceback": [
      "\u001b[0;31m---------------------------------------------------------------------------\u001b[0m",
      "\u001b[0;31mNameError\u001b[0m                                 Traceback (most recent call last)",
      "Input \u001b[0;32mIn [9]\u001b[0m, in \u001b[0;36m<cell line: 1>\u001b[0;34m()\u001b[0m\n\u001b[0;32m----> 1\u001b[0m train_life_cycle_dict \u001b[38;5;241m=\u001b[39m get_life_cycle_dict(\u001b[43mtrain_tracks\u001b[49m)\n\u001b[1;32m      2\u001b[0m val_life_cycle_dict \u001b[38;5;241m=\u001b[39m get_life_cycle_dict(val_tracks)\n",
      "\u001b[0;31mNameError\u001b[0m: name 'train_tracks' is not defined"
     ]
    }
   ],
   "source": [
    "train_life_cycle_dict = get_life_cycle_dict(train_tracks)\n",
    "val_life_cycle_dict = get_life_cycle_dict(val_tracks)"
   ]
  },
  {
   "cell_type": "markdown",
   "id": "4890cbb3",
   "metadata": {},
   "source": [
    "# Load images from TF Records"
   ]
  },
  {
   "cell_type": "code",
   "execution_count": 4,
   "id": "5edf965d",
   "metadata": {},
   "outputs": [],
   "source": [
    "def parse_tfr_element(element):\n",
    "    #use the same structure as above; it's kinda an outline of the structure we now want to create\n",
    "    data = {\n",
    "        'height': tf.io.FixedLenFeature([], tf.int64),\n",
    "        'width':tf.io.FixedLenFeature([], tf.int64),\n",
    "        'depth':tf.io.FixedLenFeature([], tf.int64),\n",
    "        'raw_image' : tf.io.FixedLenFeature([], tf.string)\n",
    "    }\n",
    "\n",
    "\n",
    "    content = tf.io.parse_single_example(element, data)\n",
    "\n",
    "    height = content['height']\n",
    "    width = content['width']\n",
    "    depth = content['depth']\n",
    "    raw_image = content['raw_image']\n",
    "    \n",
    "\n",
    "    #get our 'feature'-- our image -- and reshape it appropriately\n",
    "    feature = tf.io.parse_tensor(raw_image, out_type=tf.float32)\n",
    "    feature = tf.reshape(feature, shape=[height,width,depth])\n",
    "    return (feature, feature)"
   ]
  },
  {
   "cell_type": "code",
   "execution_count": 5,
   "id": "34053119",
   "metadata": {},
   "outputs": [],
   "source": [
    "def get_dataset(filename, batch_size=1, buffer_size=256,\n",
    "                    seed=None):\n",
    "    #create the dataset\n",
    "    dataset = tf.data.TFRecordDataset(filename)\n",
    "\n",
    "    #pass every single feature through our mapping function\n",
    "    dataset = dataset.map(\n",
    "      parse_tfr_element\n",
    "    )\n",
    "    \n",
    "    dataset = dataset.shuffle(buffer_size, seed=seed)\n",
    "\n",
    "    dataset = dataset.repeat().batch(batch_size)\n",
    "    \n",
    "    dataset = dataset.prefetch(tf.data.AUTOTUNE)\n",
    "\n",
    "    return dataset"
   ]
  },
  {
   "cell_type": "code",
   "execution_count": 6,
   "id": "25daa6f6",
   "metadata": {},
   "outputs": [],
   "source": [
    "val_dataset = get_dataset(\"/tf_records/val_big_std_norm.tfrecords\", batch_size=100)\n",
    "train_dataset = get_dataset(\"/tf_records/train_big_std_norm.tfrecords\", batch_size=100)"
   ]
  },
  {
   "cell_type": "code",
   "execution_count": 7,
   "id": "026880e4",
   "metadata": {},
   "outputs": [],
   "source": [
    "import tensorflow as tf\n",
    "import tensorflow_probability as tfp\n",
    "tfd = tfp.distributions\n",
    "tfpl = tfp.layers\n",
    "tfk = tf.keras\n",
    "tfkl = tf.keras.layers"
   ]
  },
  {
   "cell_type": "code",
   "execution_count": 8,
   "id": "bbf24d42",
   "metadata": {},
   "outputs": [],
   "source": [
    "class VAE:\n",
    "    \n",
    "    def __init__(self, dim_z, kl_weight, learning_rate, n_filters, n_layers, side):\n",
    "        # change dim from (28, 28, 1)\n",
    "        self.dim_x = (side, side, 1)\n",
    "        self.dim_z = dim_z\n",
    "        self.kl_weight = kl_weight\n",
    "        self.learning_rate = learning_rate\n",
    "        self.n_filters = n_filters\n",
    "        self.n_layers = n_layers\n",
    "        self.side = side\n",
    "\n",
    "    # Sequential API encoder\n",
    "    def encoder_z(self):\n",
    "        # define prior distribution for the code, which is an isotropic Gaussian\n",
    "        prior = tfd.Independent(tfd.Normal(loc=tf.zeros(self.dim_z), scale=1.), \n",
    "                                reinterpreted_batch_ndims=1)\n",
    "        # build layers argument for tfk.Sequential()\n",
    "        input_shape = self.dim_x\n",
    "        layers = [tfkl.InputLayer(input_shape=input_shape)]\n",
    "        for i in range(self.n_layers):\n",
    "            layers.append(tfkl.Conv2D(filters=self.n_filters, kernel_size=3, strides=(2,2), \n",
    "                                  padding='valid', activation='relu'))\n",
    "        layers.append(tfkl.Flatten())\n",
    "        # the following two lines set the output to be a probabilistic distribution\n",
    "        layers.append(tfkl.Dense(tfpl.IndependentNormal.params_size(self.dim_z), \n",
    "                                 activation=None, name='z_params'))\n",
    "        layers.append(tfpl.IndependentNormal(self.dim_z, \n",
    "            convert_to_tensor_fn=tfd.Distribution.sample, \n",
    "            activity_regularizer=tfpl.KLDivergenceRegularizer(prior, weight=self.kl_weight), \n",
    "            name='z_layer'))\n",
    "        return tfk.Sequential(layers, name='encoder')\n",
    "    \n",
    "    # Sequential API decoder\n",
    "    def decoder_x(self):\n",
    "        layers = [tfkl.InputLayer(input_shape=self.dim_z)]\n",
    "        # probably 7 before since 28/2/2 = 7, so changing to 32/2/2 = 8\n",
    "        frac = 2**self.n_layers\n",
    "        layers.append(tfkl.Dense(int((self.side/frac)**2*32), activation=None))\n",
    "        layers.append(tfkl.Reshape((int(self.side/frac),int(self.side/frac),32)))\n",
    "        for i in range(self.n_layers):\n",
    "            layers.append(tfkl.Conv2DTranspose(filters=self.n_filters, kernel_size=3, strides=2, \n",
    "                                           padding='same', activation='relu'))\n",
    "        layers.append(tfkl.Conv2DTranspose(filters=1, kernel_size=3, strides=1, \n",
    "                                           padding='same'))\n",
    "        layers.append(tfkl.Flatten())\n",
    "        # note that here we don't need \n",
    "        # `tfkl.Dense(tfpl.IndependentBernoulli.params_size(self.dim_x))` because \n",
    "        # we've restored the desired input shape with the last Conv2DTranspose layer\n",
    "        layers.append(tfkl.Dense(tfpl.IndependentNormal.params_size(self.dim_x), \n",
    "                                 activation=None, name='x_params'))\n",
    "        layers.append(tfpl.IndependentNormal(self.dim_x,\n",
    "            name='x_layer'))\n",
    "        return tfk.Sequential(layers, name='decoder')\n",
    "    \n",
    "    def build_vae_keras_model(self):\n",
    "        x_input = tfk.Input(shape=self.dim_x)\n",
    "        encoder = self.encoder_z()\n",
    "        decoder = self.decoder_x()\n",
    "        z = encoder(x_input)\n",
    "\n",
    "        # compile VAE model\n",
    "        model = tfk.Model(inputs=x_input, outputs=decoder(z))\n",
    "        model.compile(loss=negative_log_likelihood, \n",
    "                      optimizer=tfk.optimizers.Adam(self.learning_rate))\n",
    "        return model\n",
    "\n",
    "# the negative of log-likelihood for probabilistic output\n",
    "negative_log_likelihood = lambda x, rv_x: -rv_x.log_prob(x)"
   ]
  },
  {
   "cell_type": "code",
   "execution_count": 9,
   "id": "534105d3",
   "metadata": {},
   "outputs": [
    {
     "name": "stderr",
     "output_type": "stream",
     "text": [
      "2022-12-14 02:09:00.513086: W tensorflow/python/util/util.cc:368] Sets are not currently considered sequences, but this may change in the future, so consider avoiding using them.\n"
     ]
    }
   ],
   "source": [
    "# VAE with 4 encoding and decoding layers, 64 filters per convolution, KL-divergence weight 1\n",
    "# dim_z, kl_weight, learning_rate, n_filters, n_layers, side\n",
    "vae = VAE(16, 1, 1e-3, 64, 4, 64)\n",
    "AE = vae.build_vae_keras_model()"
   ]
  },
  {
   "cell_type": "code",
   "execution_count": 10,
   "id": "071a6bb0",
   "metadata": {
    "scrolled": true
   },
   "outputs": [
    {
     "name": "stdout",
     "output_type": "stream",
     "text": [
      "Epoch 1/8\n"
     ]
    },
    {
     "name": "stderr",
     "output_type": "stream",
     "text": [
      "2022-12-14 02:11:10.743393: I tensorflow/stream_executor/cuda/cuda_dnn.cc:368] Loaded cuDNN version 8100\n"
     ]
    },
    {
     "name": "stdout",
     "output_type": "stream",
     "text": [
      "3838/3838 [==============================] - 154s 39ms/step - loss: 638913806336.0000 - val_loss: 20480.5156 - lr: 0.0010\n",
      "Epoch 2/8\n",
      "3838/3838 [==============================] - 153s 40ms/step - loss: nan - val_loss: nan - lr: 0.0010\n",
      "Epoch 3/8\n",
      "3838/3838 [==============================] - 153s 40ms/step - loss: nan - val_loss: nan - lr: 0.0010\n",
      "Epoch 4/8\n",
      "3837/3838 [============================>.] - ETA: 0s - loss: nan\n",
      "Epoch 4: ReduceLROnPlateau reducing learning rate to 0.0005000000237487257.\n",
      "3838/3838 [==============================] - 152s 40ms/step - loss: nan - val_loss: nan - lr: 0.0010\n",
      "Epoch 5/8\n",
      "3838/3838 [==============================] - 152s 40ms/step - loss: nan - val_loss: nan - lr: 5.0000e-04\n",
      "Epoch 6/8\n",
      "3838/3838 [==============================] - 152s 40ms/step - loss: nan - val_loss: nan - lr: 5.0000e-04\n",
      "Epoch 7/8\n",
      "3837/3838 [============================>.] - ETA: 0s - loss: nan\n",
      "Epoch 7: ReduceLROnPlateau reducing learning rate to 0.0002500000118743628.\n",
      "3838/3838 [==============================] - 152s 40ms/step - loss: nan - val_loss: nan - lr: 5.0000e-04\n",
      "Epoch 8/8\n",
      "3838/3838 [==============================] - 152s 40ms/step - loss: nan - val_loss: nan - lr: 2.5000e-04\n"
     ]
    }
   ],
   "source": [
    "from tensorflow_addons.optimizers import RectifiedAdam as RAdam\n",
    "from deepcell import train_utils\n",
    "\n",
    "steps_per_epoch = 3838\n",
    "validation_steps = 895\n",
    "n_epochs = 8\n",
    "# model_path = '/data/models/big_img_4_layers_16_embed_10_beta'\n",
    "\n",
    "train_callbacks = [\n",
    "    tf.keras.callbacks.ReduceLROnPlateau(\n",
    "      \n",
    "        monitor='val_loss', factor=0.5, verbose=1,\n",
    "        patience=3, min_lr=1e-7)#,\n",
    "#     tf.keras.callbacks.ModelCheckpoint(\n",
    "#         model_path, monitor='val_loss',\n",
    "#         save_best_only=True, verbose=1,\n",
    "#         save_weights_only=True)\n",
    "]\n",
    "\n",
    "loss_history = AE.fit(\n",
    "    train_dataset,\n",
    "    steps_per_epoch=steps_per_epoch,\n",
    "    validation_data=val_dataset,\n",
    "    validation_steps=validation_steps,\n",
    "    epochs=n_epochs,\n",
    "    verbose=1,\n",
    "    callbacks=train_callbacks\n",
    ")"
   ]
  },
  {
   "cell_type": "code",
   "execution_count": 11,
   "id": "75fa6a2d",
   "metadata": {
    "scrolled": true
   },
   "outputs": [
    {
     "data": {
      "text/plain": [
       "<matplotlib.image.AxesImage at 0x7f3e680ca9d0>"
      ]
     },
     "execution_count": 11,
     "metadata": {},
     "output_type": "execute_result"
    },
    {
     "data": {
      "image/png": "[encoded data removed]",
      "text/plain": [
       "<Figure size 432x288 with 1 Axes>"
      ]
     },
     "metadata": {
      "needs_background": "light"
     },
     "output_type": "display_data"
    },
    {
     "data": {
      "image/png": "[encoded data removed]",
      "text/plain": [
       "<Figure size 432x288 with 1 Axes>"
      ]
     },
     "metadata": {
      "needs_background": "light"
     },
     "output_type": "display_data"
    }
   ],
   "source": [
    "import matplotlib.pyplot as plt\n",
    "\n",
    "x = np.array([val_tracks.appearances[2][13][6]])\n",
    "xhat = AE(x).mean()\n",
    "\n",
    "fig, ax = plt.subplots()\n",
    "ax.imshow(x[0])\n",
    "\n",
    "fig, ax = plt.subplots()\n",
    "ax.imshow(xhat[0])"
   ]
  },
  {
   "cell_type": "code",
   "execution_count": 12,
   "id": "2018ab20",
   "metadata": {},
   "outputs": [],
   "source": [
    "val_dataset = get_dataset(\"/data/tf_records/val_big.tfrecords\", batch_size=100)\n",
    "train_dataset = get_dataset(\"/data/tf_records/train_big.tfrecords\", batch_size=100)"
   ]
  },
  {
   "cell_type": "code",
   "execution_count": 13,
   "id": "7b3fd1f4",
   "metadata": {},
   "outputs": [],
   "source": [
    "# VAE with 4 encoding and decoding layers, 64 filters per convolution, KL-divergence weight 1\n",
    "# dim_z, kl_weight, learning_rate, n_filters, n_layers, side\n",
    "vae2 = VAE(16, 1, 1e-3, 64, 4, 64)\n",
    "AE2 = vae.build_vae_keras_model()"
   ]
  },
  {
   "cell_type": "code",
   "execution_count": 15,
   "id": "774b7667",
   "metadata": {},
   "outputs": [
    {
     "name": "stdout",
     "output_type": "stream",
     "text": [
      "Epoch 1/4\n",
      "3838/3838 [==============================] - 154s 40ms/step - loss: -5496.5293 - val_loss: 5227.3755 - lr: 0.0010\n",
      "Epoch 2/4\n",
      "3838/3838 [==============================] - 154s 40ms/step - loss: -6287.4819 - val_loss: 570.2474 - lr: 0.0010\n",
      "Epoch 3/4\n",
      "3838/3838 [==============================] - 153s 40ms/step - loss: -6690.2344 - val_loss: -1890.8573 - lr: 0.0010\n",
      "Epoch 4/4\n",
      "3838/3838 [==============================] - 153s 40ms/step - loss: -5318.7632 - val_loss: -2278.5364 - lr: 0.0010\n"
     ]
    }
   ],
   "source": [
    "from tensorflow_addons.optimizers import RectifiedAdam as RAdam\n",
    "from deepcell import train_utils\n",
    "\n",
    "steps_per_epoch = 3838\n",
    "validation_steps = 895\n",
    "n_epochs = 4\n",
    "# model_path = '/data/models/big_img_4_layers_16_embed_10_beta'\n",
    "\n",
    "train_callbacks = [\n",
    "    tf.keras.callbacks.ReduceLROnPlateau(\n",
    "      \n",
    "        monitor='val_loss', factor=0.5, verbose=1,\n",
    "        patience=3, min_lr=1e-7)#,\n",
    "#     tf.keras.callbacks.ModelCheckpoint(\n",
    "#         model_path, monitor='val_loss',\n",
    "#         save_best_only=True, verbose=1,\n",
    "#         save_weights_only=True)\n",
    "]\n",
    "\n",
    "loss_history = AE2.fit(\n",
    "    train_dataset,\n",
    "    steps_per_epoch=steps_per_epoch,\n",
    "    validation_data=val_dataset,\n",
    "    validation_steps=validation_steps,\n",
    "    epochs=n_epochs,\n",
    "    verbose=1,\n",
    "    callbacks=train_callbacks\n",
    ")"
   ]
  },
  {
   "cell_type": "code",
   "execution_count": 17,
   "id": "785cde1e",
   "metadata": {},
   "outputs": [
    {
     "data": {
      "text/plain": [
       "<matplotlib.image.AxesImage at 0x7f3e600dcbe0>"
      ]
     },
     "execution_count": 17,
     "metadata": {},
     "output_type": "execute_result"
    },
    {
     "data": {
      "image/png": "[encoded data removed]",
      "text/plain": [
       "<Figure size 432x288 with 1 Axes>"
      ]
     },
     "metadata": {
      "needs_background": "light"
     },
     "output_type": "display_data"
    },
    {
     "data": {
      "image/png": "[encoded data removed]",
      "text/plain": [
       "<Figure size 432x288 with 1 Axes>"
      ]
     },
     "metadata": {
      "needs_background": "light"
     },
     "output_type": "display_data"
    }
   ],
   "source": [
    "import matplotlib.pyplot as plt\n",
    "\n",
    "x = np.array([val_tracks.appearances[2][13][6]])\n",
    "xhat = AE2(x).mean()\n",
    "\n",
    "fig, ax = plt.subplots()\n",
    "ax.imshow(x[0])\n",
    "\n",
    "fig, ax = plt.subplots()\n",
    "ax.imshow(xhat[0])"
   ]
  },
  {
   "cell_type": "code",
   "execution_count": null,
   "id": "b7ee4daa",
   "metadata": {},
   "outputs": [],
   "source": []
  }
 ],
 "metadata": {
  "kernelspec": {
   "display_name": "Python 3 (ipykernel)",
   "language": "python",
   "name": "python3"
  },
  "language_info": {
   "codemirror_mode": {
    "name": "ipython",
    "version": 3
   },
   "file_extension": ".py",
   "mimetype": "text/x-python",
   "name": "python",
   "nbconvert_exporter": "python",
   "pygments_lexer": "ipython3",
   "version": "3.8.10"
  }
 },
 "nbformat": 4,
 "nbformat_minor": 5
}
