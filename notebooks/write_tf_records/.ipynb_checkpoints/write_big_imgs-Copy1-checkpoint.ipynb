{
 "cells": [
  {
   "cell_type": "code",
   "execution_count": 1,
   "id": "cdee5c10",
   "metadata": {},
   "outputs": [
    {
     "name": "stderr",
     "output_type": "stream",
     "text": [
      "2023-02-08 06:31:06.371438: I tensorflow/stream_executor/cuda/cuda_gpu_executor.cc:936] successful NUMA node read from SysFS had negative value (-1), but there must be at least one NUMA node, so returning NUMA node zero\n",
      "2023-02-08 06:31:06.378002: I tensorflow/stream_executor/cuda/cuda_gpu_executor.cc:936] successful NUMA node read from SysFS had negative value (-1), but there must be at least one NUMA node, so returning NUMA node zero\n",
      "2023-02-08 06:31:06.379337: I tensorflow/stream_executor/cuda/cuda_gpu_executor.cc:936] successful NUMA node read from SysFS had negative value (-1), but there must be at least one NUMA node, so returning NUMA node zero\n"
     ]
    },
    {
     "name": "stdout",
     "output_type": "stream",
     "text": [
      "2.8.0\n"
     ]
    }
   ],
   "source": [
    "import os\n",
    "import numpy as np\n",
    "\n",
    "import tensorflow as tf\n",
    "import tensorflow_addons as tfa\n",
    "gpus = tf.config.experimental.list_physical_devices('GPU')\n",
    "for gpu in gpus:\n",
    "      tf.config.experimental.set_memory_growth(gpu, True)\n",
    "print(tf.__version__)\n",
    "AUTOTUNE = tf.data.experimental.AUTOTUNE\n",
    "\n",
    "import deepcell\n",
    "# Changed from before due to new placement of Track, concat_tracks\n",
    "from deepcell_tracking.utils import load_trks\n",
    "from deepcell.data.tracking import Track, concat_tracks\n",
    "##############\n",
    "from sklearn.model_selection import train_test_split\n",
    "from deepcell.utils.data_utils import reshape_movie\n",
    "from deepcell.utils.transform_utils import erode_edges\n",
    "from deepcell.data import split_dataset\n",
    "from deepcell_toolbox.processing import normalize, histogram_normalization\n",
    "\n",
    "import spektral"
   ]
  },
  {
   "cell_type": "markdown",
   "id": "5d2af084",
   "metadata": {},
   "source": [
    "# Load dictionaries of usable (non-blank, non-border) images"
   ]
  },
  {
   "cell_type": "code",
   "execution_count": 2,
   "id": "3d2c3bfb",
   "metadata": {},
   "outputs": [],
   "source": [
    "import json\n",
    "def load_img_dict(file):\n",
    "    f = open(file)\n",
    "    d = json.load(f)\n",
    "    d = {int(k1): {int(k2): {int(k3): v for k3, v in d[k1][k2].items()} for k2, d[k1][k2] in d[k1].items()} for k1, d[k1] in d.items()}\n",
    "    return d\n",
    "def load_img_idx_dict(file):\n",
    "    f = open(file)\n",
    "    d = json.load(f)\n",
    "    d = {int(k): v for k, v in d.items()}\n",
    "    return d"
   ]
  },
  {
   "cell_type": "code",
   "execution_count": 3,
   "id": "99bf7b96",
   "metadata": {},
   "outputs": [],
   "source": [
    "# Of the form {batch: {cell: {frame: -1/idx, ...}, ...}, ...} where good_imgs[batch][cell][frame] = -1 if the image\n",
    "# is blank/on the border and idx if it is usable, where idx is the position in the list of usable images\n",
    "train_good_imgs = load_img_dict('/data/dataset_pruning/train_appearances_dict.json')\n",
    "train_blank_imgs = load_img_dict('/data/dataset_pruning/train_blank_dict.json')\n",
    "train_border_imgs = load_img_dict('/data/dataset_pruning/train_border_dict.json')\n",
    "val_good_imgs = load_img_dict('/data/dataset_pruning/val_appearances_dict.json')\n",
    "val_blank_imgs = load_img_dict('/data/dataset_pruning/val_blank_dict.json')\n",
    "val_border_imgs = load_img_dict('/data/dataset_pruning/val_border_dict.json')"
   ]
  },
  {
   "cell_type": "code",
   "execution_count": 4,
   "id": "d1f5b657",
   "metadata": {},
   "outputs": [],
   "source": [
    "def get_lst_idx_to_pos(good_imgs_dict):\n",
    "    lst_idx_to_pos = {}\n",
    "    for b in good_imgs_dict.keys():\n",
    "        for c in good_imgs_dict[b].keys():\n",
    "            for f in good_imgs_dict[b][c].keys():\n",
    "                idx = good_imgs_dict[b][c][f]\n",
    "                if idx != -1:\n",
    "                    lst_idx_to_pos = (b, f, c)\n",
    "    return lst_idx_to_pos\n",
    "\n",
    "# Dictionary of frames to split (time until splitting) for each image, in the format of usable image dictionary\n",
    "def get_life_cycle_dict(tracks):\n",
    "    batches, frames, cells = tracks.centroids.shape[:3]\n",
    "    \n",
    "    life_cycle_dict = {}\n",
    "    for batch in range(batches):\n",
    "        life_cycle_dict[batch] = {}\n",
    "        for cell in range(cells):\n",
    "            life_cycle_dict[batch][cell] = {}\n",
    "            for frame in range(frames):\n",
    "                life_cycle_dict[batch][cell][frame] = -1\n",
    "    \n",
    "    for batch in range(batches):\n",
    "        for cell in tracks.lineages[batch].keys():\n",
    "            if len(tracks.lineages[batch][cell]['daughters']) != 0:\n",
    "                cell_frames = tracks.lineages[batch][cell]['frames']\n",
    "                last_frame = cell_frames[-1]\n",
    "                for cell_frame in cell_frames:\n",
    "                    life_cycle_dict[batch][cell - 1][cell_frame] = last_frame - cell_frame + 1\n",
    "    \n",
    "    return life_cycle_dict\n",
    "\n",
    "# Should the cells in the dictionary be 0-indexed? What is the case in the good_imgs_dict?\n",
    "# Yes. It is 0-indexed wrt the cells"
   ]
  },
  {
   "cell_type": "markdown",
   "id": "e048f5a7",
   "metadata": {},
   "source": [
    "# Write appearances array to TF Records"
   ]
  },
  {
   "cell_type": "code",
   "execution_count": 5,
   "id": "6180981a",
   "metadata": {},
   "outputs": [],
   "source": [
    "from skimage.exposure import rescale_intensity\n",
    "\n",
    "def norm(X, size):\n",
    "    X_norm = histogram_normalization(X, kernel_size=size)\n",
    "    \n",
    "    X_rescaled = np.zeros(X_norm.shape)\n",
    "    for img_idx in range(X.shape[0]):\n",
    "        x = X[img_idx]\n",
    "        x = rescale_intensity(x, out_range=(0,1))\n",
    "        X_rescaled[img_idx] = x\n",
    "            \n",
    "    return X_rescaled"
   ]
  },
  {
   "cell_type": "code",
   "execution_count": 6,
   "id": "81117c98",
   "metadata": {},
   "outputs": [],
   "source": [
    "import csv\n",
    "import os\n",
    "\n",
    "from tensorflow.data import Dataset\n",
    "from tensorflow.io import serialize_tensor\n",
    "from tensorflow.keras.utils import to_categorical\n",
    "from tensorflow.keras.backend import is_sparse\n",
    "\n",
    "def _bytes_feature(value):\n",
    "    \"\"\"Returns a bytes_list from a string / byte.\"\"\"\n",
    "    if isinstance(value, type(tf.constant(0))):\n",
    "        # BytesList won't unpack a string from an EagerTensor.\n",
    "        value = value.numpy()\n",
    "    return tf.train.Feature(bytes_list=tf.train.BytesList(value=[value]))\n",
    "\n",
    "\n",
    "def _float_feature(value):\n",
    "    \"\"\"Returns a float_list from a float / double.\"\"\"\n",
    "    return tf.train.Feature(float_list=tf.train.FloatList(value=[value]))\n",
    "\n",
    "\n",
    "def _int64_feature(value):\n",
    "    \"\"\"Returns an int64_list from a bool / enum / int / uint.\"\"\"\n",
    "    return tf.train.Feature(int64_list=tf.train.Int64List(value=[value]))\n",
    "\n",
    "def serialize_array(array):\n",
    "    array = tf.io.serialize_tensor(array)\n",
    "    return array\n",
    "\n",
    "def create_tracking_example(image):\n",
    "    # define the dictionary -- the structure -- of our single example\n",
    "    data = {\n",
    "        'height' : _int64_feature(image.shape[0]),\n",
    "        'width' : _int64_feature(image.shape[1]),\n",
    "        'depth' : _int64_feature(image.shape[2]),\n",
    "        'raw_image' : _bytes_feature(serialize_array(image))\n",
    "    }\n",
    "    # create an Example, wrapping the single features\n",
    "    out = tf.train.Example(features=tf.train.Features(feature=data))\n",
    "    \n",
    "    return out"
   ]
  },
  {
   "cell_type": "code",
   "execution_count": 7,
   "id": "f94e4ab3",
   "metadata": {},
   "outputs": [],
   "source": [
    "# Does normalize\n",
    "def write_tracking_dataset_to_tfr(track, filename, good_imgs):\n",
    "    print('Started writing to TFRecord.')\n",
    "    filename = \"/data/tf_records/\" + filename + \".tfrecords\"\n",
    "    writer = tf.io.TFRecordWriter(filename) #create a writer that'll store our data to disk\n",
    "    count = 0\n",
    "\n",
    "    app_type = track.appearances.dtype\n",
    "    app = norm(track.appearances, 64).astype(app_type)\n",
    "    print('Done calculating normalizations.')\n",
    "    # Only write usable images to the record\n",
    "    for b in range(app.shape[0]):\n",
    "        print(b)\n",
    "        for f in range(app.shape[1]):\n",
    "            for c in range(app.shape[2]):\n",
    "                # Check if the given image is usable\n",
    "                if good_imgs[b][c][f] != -1:\n",
    "                    current_image = app[b, f, c]\n",
    "\n",
    "                    out = create_tracking_example(current_image)\n",
    "\n",
    "                    if out is not None:\n",
    "                        writer.write(out.SerializeToString())\n",
    "                        count += 1\n",
    "\n",
    "    writer.close()\n",
    "    print(f'Wrote {count} elements to TFRecord')\n",
    "    return count"
   ]
  },
  {
   "cell_type": "code",
   "execution_count": 8,
   "id": "4e10e6ac",
   "metadata": {},
   "outputs": [],
   "source": [
    "# train_trks = load_trks(os.path.join('/data', 'train.trks'))\n",
    "# val_trks = load_trks(os.path.join('/data', 'val.trks'))\n",
    "\n",
    "train_trks = load_trks(os.path.join('/data/tracking-nuclear', 'train.trks'))\n",
    "val_trks = load_trks(os.path.join('/data/tracking-nuclear', 'val.trks'))"
   ]
  },
  {
   "cell_type": "code",
   "execution_count": 9,
   "id": "cd82d1d7",
   "metadata": {},
   "outputs": [
    {
     "name": "stderr",
     "output_type": "stream",
     "text": [
      "2023-02-08 06:33:42.001682: I tensorflow/core/platform/cpu_feature_guard.cc:151] This TensorFlow binary is optimized with oneAPI Deep Neural Network Library (oneDNN) to use the following CPU instructions in performance-critical operations:  AVX2 AVX512F FMA\n",
      "To enable them in other operations, rebuild TensorFlow with the appropriate compiler flags.\n",
      "2023-02-08 06:33:42.003343: I tensorflow/stream_executor/cuda/cuda_gpu_executor.cc:936] successful NUMA node read from SysFS had negative value (-1), but there must be at least one NUMA node, so returning NUMA node zero\n",
      "2023-02-08 06:33:42.004904: I tensorflow/stream_executor/cuda/cuda_gpu_executor.cc:936] successful NUMA node read from SysFS had negative value (-1), but there must be at least one NUMA node, so returning NUMA node zero\n",
      "2023-02-08 06:33:42.006207: I tensorflow/stream_executor/cuda/cuda_gpu_executor.cc:936] successful NUMA node read from SysFS had negative value (-1), but there must be at least one NUMA node, so returning NUMA node zero\n",
      "2023-02-08 06:33:42.467974: I tensorflow/stream_executor/cuda/cuda_gpu_executor.cc:936] successful NUMA node read from SysFS had negative value (-1), but there must be at least one NUMA node, so returning NUMA node zero\n",
      "2023-02-08 06:33:42.468736: I tensorflow/stream_executor/cuda/cuda_gpu_executor.cc:936] successful NUMA node read from SysFS had negative value (-1), but there must be at least one NUMA node, so returning NUMA node zero\n",
      "2023-02-08 06:33:42.469284: I tensorflow/stream_executor/cuda/cuda_gpu_executor.cc:936] successful NUMA node read from SysFS had negative value (-1), but there must be at least one NUMA node, so returning NUMA node zero\n",
      "2023-02-08 06:33:42.469828: I tensorflow/core/common_runtime/gpu/gpu_device.cc:1525] Created device /job:localhost/replica:0/task:0/device:GPU:0 with 20664 MB memory:  -> device: 0, name: NVIDIA A10, pci bus id: 0000:06:00.0, compute capability: 8.6\n",
      "100%|███████████████████████████████████████████████████████████████████████████████████████████████████████████████████████████████████████████████████████████████████████| 27/27 [01:18<00:00,  2.91s/it]\n",
      "100%|███████████████████████████████████████████████████████████████████████████████████████████████████████████████████████████████████████████████████████████████████████| 27/27 [00:56<00:00,  2.09s/it]\n"
     ]
    },
    {
     "name": "stdout",
     "output_type": "stream",
     "text": [
      "Done creating Track objects.\n",
      "Started writing to TFRecord.\n",
      "Done calculating normalizations.\n",
      "0\n",
      "1\n",
      "2\n",
      "3\n",
      "4\n",
      "5\n",
      "6\n",
      "7\n",
      "8\n",
      "9\n",
      "10\n",
      "11\n",
      "12\n",
      "13\n",
      "14\n",
      "15\n",
      "16\n",
      "17\n",
      "18\n",
      "19\n",
      "20\n",
      "21\n",
      "22\n",
      "23\n",
      "24\n",
      "25\n",
      "26\n",
      "Wrote 89436 elements to TFRecord\n"
     ]
    }
   ],
   "source": [
    "with tf.device('/cpu:0'):\n",
    "    val_tracks = Track(tracked_data=val_trks,\n",
    "                   appearance_dim=64,\n",
    "                   distance_threshold=64,\n",
    "                   crop_mode='resize')\n",
    "\n",
    "    print('Done creating Track objects.')\n",
    "\n",
    "    write_tracking_dataset_to_tfr(val_tracks, filename='val_big', good_imgs=val_good_imgs)"
   ]
  },
  {
   "cell_type": "code",
   "execution_count": 11,
   "id": "2ea53623",
   "metadata": {},
   "outputs": [
    {
     "name": "stdout",
     "output_type": "stream",
     "text": [
      "hello\n"
     ]
    }
   ],
   "source": [
    "print('hello')"
   ]
  },
  {
   "cell_type": "code",
   "execution_count": 10,
   "id": "e186c303",
   "metadata": {},
   "outputs": [
    {
     "name": "stderr",
     "output_type": "stream",
     "text": [
      "100%|███████████████████████████████████████████████████████████████████████████████████████████████████████████████████████████████████████████████████████████████████████| 91/91 [04:43<00:00,  3.12s/it]\n",
      "100%|███████████████████████████████████████████████████████████████████████████████████████████████████████████████████████████████████████████████████████████████████████| 91/91 [05:52<00:00,  3.87s/it]\n"
     ]
    },
    {
     "name": "stdout",
     "output_type": "stream",
     "text": [
      "Done with creating Track objects.\n",
      "Started writing to TFRecord.\n",
      "Done calculating normalizations.\n",
      "0\n",
      "1\n",
      "2\n",
      "3\n",
      "4\n",
      "5\n",
      "6\n",
      "7\n",
      "8\n",
      "9\n",
      "10\n",
      "11\n",
      "12\n",
      "13\n",
      "14\n",
      "15\n",
      "16\n",
      "17\n",
      "18\n",
      "19\n",
      "20\n",
      "21\n",
      "22\n",
      "23\n",
      "24\n",
      "25\n",
      "26\n",
      "27\n",
      "28\n",
      "29\n",
      "30\n",
      "31\n",
      "32\n",
      "33\n",
      "34\n",
      "35\n",
      "36\n",
      "37\n",
      "38\n",
      "39\n",
      "40\n",
      "41\n",
      "42\n",
      "43\n",
      "44\n",
      "45\n",
      "46\n",
      "47\n",
      "48\n",
      "49\n",
      "50\n",
      "51\n",
      "52\n",
      "53\n",
      "54\n",
      "55\n",
      "56\n",
      "57\n",
      "58\n",
      "59\n",
      "60\n",
      "61\n",
      "62\n",
      "63\n",
      "64\n",
      "65\n",
      "66\n",
      "67\n",
      "68\n",
      "69\n",
      "70\n",
      "71\n",
      "72\n",
      "73\n",
      "74\n",
      "75\n",
      "76\n",
      "77\n",
      "78\n",
      "79\n",
      "80\n",
      "81\n",
      "82\n",
      "83\n",
      "84\n",
      "85\n",
      "86\n",
      "87\n",
      "88\n",
      "89\n",
      "90\n",
      "Wrote 383800 elements to TFRecord\n"
     ]
    }
   ],
   "source": [
    "with tf.device('/cpu:0'):\n",
    "    train_tracks = Track(tracked_data=train_trks,\n",
    "                   appearance_dim=64,\n",
    "                   distance_threshold=64,\n",
    "                   crop_mode='resize')\n",
    "\n",
    "    print('Done with creating Track objects.')\n",
    "\n",
    "    write_tracking_dataset_to_tfr(train_tracks, filename='train_big', good_imgs=train_good_imgs)"
   ]
  },
  {
   "cell_type": "code",
   "execution_count": 9,
   "id": "4d523304",
   "metadata": {},
   "outputs": [
    {
     "ename": "NameError",
     "evalue": "name 'train_tracks' is not defined",
     "output_type": "error",
     "traceback": [
      "\u001b[0;31m---------------------------------------------------------------------------\u001b[0m",
      "\u001b[0;31mNameError\u001b[0m                                 Traceback (most recent call last)",
      "Input \u001b[0;32mIn [9]\u001b[0m, in \u001b[0;36m<cell line: 1>\u001b[0;34m()\u001b[0m\n\u001b[0;32m----> 1\u001b[0m train_life_cycle_dict \u001b[38;5;241m=\u001b[39m get_life_cycle_dict(\u001b[43mtrain_tracks\u001b[49m)\n\u001b[1;32m      2\u001b[0m val_life_cycle_dict \u001b[38;5;241m=\u001b[39m get_life_cycle_dict(val_tracks)\n",
      "\u001b[0;31mNameError\u001b[0m: name 'train_tracks' is not defined"
     ]
    }
   ],
   "source": [
    "train_life_cycle_dict = get_life_cycle_dict(train_tracks)\n",
    "val_life_cycle_dict = get_life_cycle_dict(val_tracks)"
   ]
  },
  {
   "cell_type": "code",
   "execution_count": 49,
   "id": "c404dab3",
   "metadata": {},
   "outputs": [],
   "source": [
    "train_life_cycle_dict = get_life_cycle_dict(train_tracks)\n",
    "val_life_cycle_dict = get_life_cycle_dict(val_tracks)"
   ]
  },
  {
   "cell_type": "code",
   "execution_count": 45,
   "id": "98abb1f7",
   "metadata": {
    "scrolled": true
   },
   "outputs": [
    {
     "data": {
      "text/plain": [
       "dict_keys([0, 1, 2, 3, 4, 5, 6, 7, 8, 9, 10, 11, 12, 13, 14, 15, 16, 17, 18, 19, 20, 21, 22, 23, 24, 25, 26, 27, 28, 29, 30, 31, 32, 33, 34, 35, 36, 37, 38, 39, 40, 41, 42, 43, 44, 45, 46, 47, 48, 49, 50, 51, 52, 53, 54, 55, 56, 57, 58, 59, 60, 61, 62, 63, 64, 65, 66, 67, 68, 69, 70, 71, 72, 73, 74, 75, 76, 77, 78, 79, 80, 81, 82, 83, 84, 85, 86, 87, 88, 89, 90, 91, 92, 93, 94, 95, 96, 97, 98, 99, 100, 101, 102, 103, 104, 105, 106, 107, 108, 109, 110, 111, 112, 113, 114, 115, 116, 117, 118, 119, 120, 121, 122, 123, 124, 125, 126, 127, 128, 129, 130, 131, 132, 133, 134, 135, 136, 137, 138, 139, 140, 141, 142, 143, 144, 145, 146, 147, 148, 149, 150, 151, 152, 153, 154, 155, 156, 157, 158, 159, 160, 161, 162, 163, 164, 165, 166, 167, 168, 169, 170, 171, 172, 173, 174, 175, 176, 177, 178, 179, 180, 181, 182, 183, 184, 185, 186, 187, 188, 189, 190, 191, 192, 193, 194, 195, 196, 197, 198, 199, 200, 201, 202, 203, 204, 205, 206, 207, 208, 209, 210, 211, 212, 213, 214, 215, 216, 217, 218, 219, 220, 221, 222, 223, 224, 225, 226, 227, 228, 229, 230, 231, 232, 233, 234, 235, 236, 237, 238, 239, 240, 241, 242, 243, 244, 245, 246, 247, 248, 249, 250, 251, 252, 253, 254, 255, 256, 257, 258, 259, 260, 261, 262, 263, 264, 265, 266, 267, 268, 269, 270, 271, 272, 273, 274, 275, 276, 277, 278, 279, 280, 281, 282, 283, 284, 285, 286, 287, 288, 289, 290, 291, 292, 293, 294, 295, 296, 297, 298, 299, 300, 301, 302, 303, 304, 305, 306, 307, 308, 309, 310, 311, 312, 313, 314, 315, 316, 317, 318, 319, 320, 321, 322, 323, 324, 325, 326, 327, 328, 329, 330, 331, 332, 333, 334, 335, 336, 337, 338, 339, 340, 341, 342, 343, 344, 345, 346, 347, 348, 349, 350, 351, 352, 353, 354, 355, 356, 357, 358, 359, 360, 361, 362, 363, 364, 365, 366, 367, 368, 369, 370, 371, 372, 373, 374, 375, 376, 377, 378, 379, 380, 381, 382, 383, 384, 385, 386, 387, 388, 389, 390, 391, 392, 393, 394, 395, 396, 397, 398, 399, 400, 401, 402, 403, 404])"
      ]
     },
     "execution_count": 45,
     "metadata": {},
     "output_type": "execute_result"
    }
   ],
   "source": [
    "train_good_imgs[0].keys()"
   ]
  },
  {
   "cell_type": "code",
   "execution_count": 53,
   "id": "1b30997e",
   "metadata": {},
   "outputs": [
    {
     "data": {
      "text/plain": [
       "(27, 71, 277, 64, 64, 1)"
      ]
     },
     "execution_count": 53,
     "metadata": {},
     "output_type": "execute_result"
    }
   ],
   "source": [
    "val_tracks.appearances.shape"
   ]
  },
  {
   "cell_type": "code",
   "execution_count": 74,
   "id": "5394de01",
   "metadata": {},
   "outputs": [
    {
     "name": "stdout",
     "output_type": "stream",
     "text": [
      "[-0.93320346 -0.769327   -0.49970767 -0.04140493  0.3206768   0.6389078\n",
      "  1.0618794   0.92431337  1.3710897   1.6732838   1.9098271   2.1664166\n",
      "  2.5590684   2.3533459   2.1571453   2.1872144   2.0992622   1.995524\n",
      "  1.716884    1.6138974   1.2638433   1.0568678   0.9766837   0.33220327\n",
      " -0.01334046 -0.37667507 -0.7259774  -0.8740676  -0.9973508  -0.89812285\n",
      " -0.5641056  -0.24737805  0.13725547  0.47227502  0.79626924  1.0776657\n",
      "  1.4207036   1.5176764   1.9529262   2.0624278   2.335555    2.0441356\n",
      "  2.065184    2.0052965   1.7449484   1.6910747   1.382115    1.2961676\n",
      "  1.1257762   0.8115544   0.5654892   0.18511541 -0.25314128 -0.580393\n",
      " -0.8522675  -0.93595976 -1.0266681  -0.93621033 -0.7838604  -0.4573604\n",
      " -0.02862557  0.3976035   0.63690317  0.7920095   1.3352573   1.4585406\n",
      "  1.6848103   1.7747669   1.9764802   1.6757896   1.5863341   1.585833\n",
      "  1.3500413   1.3858737   1.135298    1.1064818   0.8381154   0.4211576\n",
      "  0.15830381 -0.2243251  -0.45310062 -0.72196823 -0.8740676  -1.0008589\n",
      " -1.0329325  -0.97003806 -0.8312192  -0.64153343 -0.2644172   0.02925739\n",
      "  0.43218294  0.6995471   0.84488094  1.0924497   1.3101997   1.206211\n",
      "  1.5515041   1.4808418   1.360315    1.1385555   1.0643852   0.9641549\n",
      "  0.858412    0.59280187  0.17534296 -0.02611981 -0.17546286 -0.502464\n",
      " -0.76231086 -0.8928608  -0.9477368  -1.0594935  -0.9808128  -0.7983938\n",
      " -0.53879744 -0.2551459   0.11871287  0.32218024  0.5015924   0.91955245\n",
      "  1.1320405   1.3149607   1.2059604   1.0949553   0.9200536   0.85966486\n",
      "  0.8138096   0.7318713   0.5722547   0.08313114 -0.06896824 -0.2982449\n",
      " -0.4901858  -0.7222188  -0.77208334 -0.89686996 -0.9888312  -1.0697671\n",
      " -1.0046175  -0.92894363 -0.7650672  -0.5808942  -0.4202752  -0.05543716\n",
      "  0.25377312  0.5263994   0.62462497  0.8807132   0.83134985  0.60533065\n",
      "  0.62813306  0.39610004  0.33145154  0.29837558 -0.16744444 -0.21680783\n",
      " -0.48066393 -0.660076   -0.79764205 -0.85803074 -0.9720427  -1.014891\n",
      " -1.0770339  -0.9973508  -0.9304471  -0.7888719  -0.6001885  -0.4851743\n",
      " -0.22683086  0.05506668  0.26179153  0.2918606   0.33946997  0.26755476\n",
      "  0.25352255  0.12297266  0.02048725 -0.29999894 -0.5084778  -0.6946555\n",
      " -0.7354993  -0.86204    -0.9324517  -0.97730476 -0.99960595 -1.0647557\n",
      " -1.056236   -0.98833007 -0.9592633  -0.8946148  -0.6818761  -0.5736275\n",
      " -0.3834406  -0.16619156 -0.1739594  -0.07673609 -0.10179364 -0.25238958\n",
      " -0.38694865 -0.484172   -0.59467584 -0.7407614  -0.8545227  -0.913408\n",
      " -0.9622702  -1.0081255  -1.0171462  -1.0211555  -1.0294244  -1.0346866\n",
      " -0.99860364 -0.9281919  -0.7983938  -0.7222188  -0.6934026  -0.5500734\n",
      " -0.5818965  -0.6357702  -0.65305996 -0.7991455  -0.7911271  -0.89712054\n",
      " -0.9206747  -0.9562564  -0.96678054 -1.0006083  -1.0484682  -1.046213\n",
      " -1.0577395  -1.0256659  -0.9888312  -0.97504956 -0.9179183  -0.8668009\n",
      " -0.85527444 -0.843748   -0.8462537  -0.85778016 -0.9011298  -0.9474862\n",
      " -0.9820657  -0.99359214 -1.027921   -1.0529785  -1.0301762  -0.991337\n",
      " -1.0106313  -0.9858243  -1.0016105  -0.99785197 -1.009629   -0.9928404\n",
      " -1.0121348  -1.0241624  -1.0482177 ]\n",
      "0.0 1.0\n"
     ]
    }
   ],
   "source": [
    "app = val_tracks.appearances[0][0][0]\n",
    "np.nonzero(app)\n",
    "print(app[np.nonzero(app)])\n",
    "mean = np.mean(app[np.nonzero(app)])\n",
    "std = np.std(app[np.nonzero(app)])\n",
    "print(mean, std)"
   ]
  },
  {
   "cell_type": "code",
   "execution_count": 77,
   "id": "1a3bdf4e",
   "metadata": {},
   "outputs": [
    {
     "name": "stdout",
     "output_type": "stream",
     "text": [
      "-1.8626451e-09 0.24951124\n"
     ]
    }
   ],
   "source": [
    "mean = np.mean(app)\n",
    "std = np.std(app)\n",
    "print(mean, std)"
   ]
  },
  {
   "cell_type": "code",
   "execution_count": 75,
   "id": "20edef25",
   "metadata": {},
   "outputs": [
    {
     "data": {
      "text/plain": [
       "<matplotlib.image.AxesImage at 0x7fd1a8673970>"
      ]
     },
     "execution_count": 75,
     "metadata": {},
     "output_type": "execute_result"
    },
    {
     "data": {
      "image/png": "[encoded data removed]",
      "text/plain": [
       "<Figure size 432x288 with 1 Axes>"
      ]
     },
     "metadata": {
      "needs_background": "light"
     },
     "output_type": "display_data"
    }
   ],
   "source": [
    "import matplotlib.pyplot as plt\n",
    "\n",
    "# batch, frame, cell\n",
    "x = np.array([val_tracks.appearances[0][0][0]])\n",
    "fig, ax = plt.subplots()\n",
    "ax.imshow(x[0])"
   ]
  },
  {
   "cell_type": "code",
   "execution_count": 30,
   "id": "99dd8019",
   "metadata": {},
   "outputs": [
    {
     "data": {
      "text/plain": [
       "(27, 71, 277, 64, 64, 1)"
      ]
     },
     "execution_count": 30,
     "metadata": {},
     "output_type": "execute_result"
    }
   ],
   "source": [
    "old_norm_app.shape"
   ]
  },
  {
   "cell_type": "code",
   "execution_count": 5,
   "id": "9107ebe2",
   "metadata": {
    "scrolled": true
   },
   "outputs": [],
   "source": [
    "# train_trks = load_trks(os.path.join('/data/tracking-nuclear', 'train.trks'))\n",
    "val_trks = load_trks(os.path.join('/data/tracking-nuclear', 'val.trks'))"
   ]
  },
  {
   "cell_type": "code",
   "execution_count": 32,
   "id": "fd965adb",
   "metadata": {},
   "outputs": [],
   "source": [
    "X = val_trks['X'].astype('float32')"
   ]
  },
  {
   "cell_type": "code",
   "execution_count": 33,
   "id": "a6f5d05a",
   "metadata": {},
   "outputs": [
    {
     "data": {
      "text/plain": [
       "numpy.ndarray"
      ]
     },
     "execution_count": 33,
     "metadata": {},
     "output_type": "execute_result"
    }
   ],
   "source": [
    "type(X)"
   ]
  },
  {
   "cell_type": "code",
   "execution_count": 28,
   "id": "8a0c9883",
   "metadata": {},
   "outputs": [],
   "source": [
    "app_type = val_tracks.appearances.dtype\n",
    "old_norm_app = old_norm(val_tracks.appearances, 64).astype(app_type)"
   ]
  },
  {
   "cell_type": "code",
   "execution_count": 29,
   "id": "12b1f7fe",
   "metadata": {},
   "outputs": [
    {
     "data": {
      "text/plain": [
       "numpy.ndarray"
      ]
     },
     "execution_count": 29,
     "metadata": {},
     "output_type": "execute_result"
    }
   ],
   "source": [
    "type(old_norm_app)"
   ]
  },
  {
   "cell_type": "code",
   "execution_count": 68,
   "id": "1e72624a",
   "metadata": {},
   "outputs": [
    {
     "data": {
      "text/plain": [
       "(27, 71, 277, 64, 64, 1)"
      ]
     },
     "execution_count": 68,
     "metadata": {},
     "output_type": "execute_result"
    }
   ],
   "source": [
    "val_tracks.appearances.shape"
   ]
  },
  {
   "cell_type": "code",
   "execution_count": null,
   "id": "9c7d7c6b",
   "metadata": {},
   "outputs": [],
   "source": []
  },
  {
   "cell_type": "code",
   "execution_count": 50,
   "id": "cf4c856b",
   "metadata": {},
   "outputs": [
    {
     "name": "stdout",
     "output_type": "stream",
     "text": [
      "[1.3255142]\n",
      "[0.]\n"
     ]
    },
    {
     "data": {
      "image/png": "[encoded data removed]",
      "text/plain": [
       "<Figure size 432x288 with 1 Axes>"
      ]
     },
     "metadata": {
      "needs_background": "light"
     },
     "output_type": "display_data"
    }
   ],
   "source": [
    "import matplotlib.pyplot as plt\n",
    "\n",
    "# batch, frame, cell\n",
    "x = np.array([val_tracks.appearances[26][2][16]])\n",
    "fig, ax = plt.subplots()\n",
    "ax.imshow(x[0])\n",
    "print(x[0, 30, 35])\n",
    "print(x[0, 0, 60])"
   ]
  },
  {
   "cell_type": "code",
   "execution_count": 51,
   "id": "d4800d69",
   "metadata": {},
   "outputs": [
    {
     "name": "stdout",
     "output_type": "stream",
     "text": [
      "[0.58282375]\n",
      "[0.44303143]\n"
     ]
    },
    {
     "data": {
      "image/png": "[encoded data removed]",
      "text/plain": [
       "<Figure size 432x288 with 1 Axes>"
      ]
     },
     "metadata": {
      "needs_background": "light"
     },
     "output_type": "display_data"
    }
   ],
   "source": [
    "x = np.array([old_norm_app[26][2][16]])\n",
    "fig, ax = plt.subplots()\n",
    "ax.imshow(x[0])\n",
    "print(x[0, 30, 35])\n",
    "print(x[0, 0, 60])"
   ]
  },
  {
   "cell_type": "code",
   "execution_count": 65,
   "id": "e95029af",
   "metadata": {
    "scrolled": true
   },
   "outputs": [
    {
     "name": "stdout",
     "output_type": "stream",
     "text": [
      "3\n"
     ]
    }
   ],
   "source": [
    "app_type = val_tracks.appearances.dtype\n",
    "norm_app = norm(val_tracks.appearances).astype(app_type)"
   ]
  },
  {
   "cell_type": "code",
   "execution_count": 66,
   "id": "c23f1b15",
   "metadata": {},
   "outputs": [
    {
     "data": {
      "text/plain": [
       "(27, 71, 277, 64, 64, 1)"
      ]
     },
     "execution_count": 66,
     "metadata": {},
     "output_type": "execute_result"
    }
   ],
   "source": [
    "norm_app.shape"
   ]
  },
  {
   "cell_type": "code",
   "execution_count": 67,
   "id": "6fda256c",
   "metadata": {},
   "outputs": [
    {
     "name": "stdout",
     "output_type": "stream",
     "text": [
      "[1.3255143]\n",
      "[0.]\n"
     ]
    },
    {
     "data": {
      "image/png": "[encoded data removed]",
      "text/plain": [
       "<Figure size 432x288 with 1 Axes>"
      ]
     },
     "metadata": {
      "needs_background": "light"
     },
     "output_type": "display_data"
    }
   ],
   "source": [
    "x = np.array([norm_app[26][2][16]])\n",
    "fig, ax = plt.subplots()\n",
    "ax.imshow(x[0])\n",
    "print(x[0, 30, 35])\n",
    "print(x[0, 0, 60])"
   ]
  },
  {
   "cell_type": "code",
   "execution_count": null,
   "id": "d7e14a81",
   "metadata": {},
   "outputs": [],
   "source": []
  },
  {
   "cell_type": "code",
   "execution_count": null,
   "id": "f576d185",
   "metadata": {},
   "outputs": [],
   "source": []
  },
  {
   "cell_type": "code",
   "execution_count": null,
   "id": "7b311a55",
   "metadata": {},
   "outputs": [],
   "source": [
    "import matplotlib.pyplot as plt\n",
    "\n",
    "x = np.array([val_tracks.appearances[26][2][16]])\n",
    "fig, ax = plt.subplots()\n",
    "ax.imshow(x[0])"
   ]
  },
  {
   "cell_type": "code",
   "execution_count": null,
   "id": "202b16b0",
   "metadata": {},
   "outputs": [],
   "source": []
  },
  {
   "cell_type": "code",
   "execution_count": null,
   "id": "9428c1bc",
   "metadata": {},
   "outputs": [],
   "source": []
  },
  {
   "cell_type": "code",
   "execution_count": null,
   "id": "0abcad89",
   "metadata": {},
   "outputs": [],
   "source": []
  },
  {
   "cell_type": "code",
   "execution_count": null,
   "id": "27d49a0d",
   "metadata": {},
   "outputs": [],
   "source": []
  }
 ],
 "metadata": {
  "kernelspec": {
   "display_name": "Python 3 (ipykernel)",
   "language": "python",
   "name": "python3"
  },
  "language_info": {
   "codemirror_mode": {
    "name": "ipython",
    "version": 3
   },
   "file_extension": ".py",
   "mimetype": "text/x-python",
   "name": "python",
   "nbconvert_exporter": "python",
   "pygments_lexer": "ipython3",
   "version": "3.8.10"
  }
 },
 "nbformat": 4,
 "nbformat_minor": 5
}
