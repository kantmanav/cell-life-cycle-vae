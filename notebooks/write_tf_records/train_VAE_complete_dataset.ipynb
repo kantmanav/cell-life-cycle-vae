{
 "cells": [
  {
   "cell_type": "code",
   "execution_count": 1,
   "id": "cdee5c10",
   "metadata": {},
   "outputs": [
    {
     "name": "stdout",
     "output_type": "stream",
     "text": [
      "2.8.0\n"
     ]
    }
   ],
   "source": [
    "import os\n",
    "import numpy as np\n",
    "\n",
    "import tensorflow as tf\n",
    "import tensorflow_addons as tfa\n",
    "gpus = tf.config.experimental.list_physical_devices('GPU')\n",
    "for gpu in gpus:\n",
    "      tf.config.experimental.set_memory_growth(gpu, True)\n",
    "print(tf.__version__)\n",
    "AUTOTUNE = tf.data.experimental.AUTOTUNE\n",
    "\n",
    "import deepcell\n",
    "# Changed from before due to new placement of Track, concat_tracks\n",
    "from deepcell_tracking.utils import load_trks\n",
    "from deepcell.data.tracking import Track, concat_tracks\n",
    "##############\n",
    "from sklearn.model_selection import train_test_split\n",
    "from deepcell.utils.data_utils import reshape_movie\n",
    "from deepcell.utils.transform_utils import erode_edges\n",
    "from deepcell.data import split_dataset\n",
    "from deepcell_toolbox.processing import normalize, histogram_normalization\n",
    "\n",
    "import spektral"
   ]
  },
  {
   "cell_type": "markdown",
   "id": "4890cbb3",
   "metadata": {},
   "source": [
    "# Load images from TF Records"
   ]
  },
  {
   "cell_type": "code",
   "execution_count": 2,
   "id": "5edf965d",
   "metadata": {},
   "outputs": [],
   "source": [
    "def parse_tfr_element(element):\n",
    "    #use the same structure as above; it's kinda an outline of the structure we now want to create\n",
    "    data = {\n",
    "        'height': tf.io.FixedLenFeature([], tf.int64),\n",
    "        'width':tf.io.FixedLenFeature([], tf.int64),\n",
    "        'depth':tf.io.FixedLenFeature([], tf.int64),\n",
    "        'raw_image' : tf.io.FixedLenFeature([], tf.string)\n",
    "    }\n",
    "\n",
    "\n",
    "    content = tf.io.parse_single_example(element, data)\n",
    "\n",
    "    height = content['height']\n",
    "    width = content['width']\n",
    "    depth = content['depth']\n",
    "    raw_image = content['raw_image']\n",
    "    \n",
    "\n",
    "    #get our 'feature'-- our image -- and reshape it appropriately\n",
    "    feature = tf.io.parse_tensor(raw_image, out_type=tf.float32)\n",
    "    feature = tf.reshape(feature, shape=[height,width,depth])\n",
    "    return (feature, feature)"
   ]
  },
  {
   "cell_type": "code",
   "execution_count": 3,
   "id": "34053119",
   "metadata": {},
   "outputs": [],
   "source": [
    "def get_dataset(filename, batch_size=1, buffer_size=256,\n",
    "                    seed=None):\n",
    "    #create the dataset\n",
    "    dataset = tf.data.TFRecordDataset(filename)\n",
    "\n",
    "    #pass every single feature through our mapping function\n",
    "    dataset = dataset.map(\n",
    "      parse_tfr_element\n",
    "    )\n",
    "    \n",
    "    dataset = dataset.shuffle(buffer_size, seed=seed)\n",
    "\n",
    "    dataset = dataset.repeat().batch(batch_size)\n",
    "    \n",
    "    dataset = dataset.prefetch(tf.data.AUTOTUNE)\n",
    "\n",
    "    return dataset"
   ]
  },
  {
   "cell_type": "code",
   "execution_count": 4,
   "id": "25daa6f6",
   "metadata": {},
   "outputs": [
    {
     "name": "stderr",
     "output_type": "stream",
     "text": [
      "2022-08-26 05:40:57.272323: I tensorflow/core/platform/cpu_feature_guard.cc:151] This TensorFlow binary is optimized with oneAPI Deep Neural Network Library (oneDNN) to use the following CPU instructions in performance-critical operations:  AVX2 FMA\n",
      "To enable them in other operations, rebuild TensorFlow with the appropriate compiler flags.\n",
      "2022-08-26 05:40:58.000153: I tensorflow/core/common_runtime/gpu/gpu_device.cc:1525] Created device /job:localhost/replica:0/task:0/device:GPU:0 with 14128 MB memory:  -> device: 0, name: Tesla V100-DGXS-16GB, pci bus id: 0000:0f:00.0, compute capability: 7.0\n"
     ]
    }
   ],
   "source": [
    "val_dataset = get_dataset(\"/data/tf_records/val_big_full.tfrecords\", batch_size=100)\n",
    "train_dataset = get_dataset(\"/data/tf_records/train_big_full.tfrecords\", batch_size=100)"
   ]
  },
  {
   "cell_type": "code",
   "execution_count": 5,
   "id": "fe016c28",
   "metadata": {},
   "outputs": [],
   "source": [
    "for sample in val_dataset.take(5310):\n",
    "    if np.any((sample[0] < 0)|(sample[0] > 1 )):\n",
    "        print('Not normalized')\n",
    "\n",
    "for sample in train_dataset.take(26167):\n",
    "    if np.any((sample[0] < 0)|(sample[0] > 1 )):\n",
    "        print('Not normalized')"
   ]
  },
  {
   "cell_type": "code",
   "execution_count": 6,
   "id": "026880e4",
   "metadata": {},
   "outputs": [],
   "source": [
    "import tensorflow as tf\n",
    "import tensorflow_probability as tfp\n",
    "tfd = tfp.distributions\n",
    "tfpl = tfp.layers\n",
    "tfk = tf.keras\n",
    "tfkl = tf.keras.layers"
   ]
  },
  {
   "cell_type": "code",
   "execution_count": 7,
   "id": "bbf24d42",
   "metadata": {},
   "outputs": [],
   "source": [
    "class VAE:\n",
    "    \n",
    "    def __init__(self, dim_z, kl_weight, learning_rate, n_filters, n_layers, side):\n",
    "        # change dim from (28, 28, 1)\n",
    "        self.dim_x = (side, side, 1)\n",
    "        self.dim_z = dim_z\n",
    "        self.kl_weight = kl_weight\n",
    "        self.learning_rate = learning_rate\n",
    "        self.n_filters = n_filters\n",
    "        self.n_layers = n_layers\n",
    "        self.side = side\n",
    "\n",
    "    # Sequential API encoder\n",
    "    def encoder_z(self):\n",
    "        # define prior distribution for the code, which is an isotropic Gaussian\n",
    "        prior = tfd.Independent(tfd.Normal(loc=tf.zeros(self.dim_z), scale=1.), \n",
    "                                reinterpreted_batch_ndims=1)\n",
    "        # build layers argument for tfk.Sequential()\n",
    "        input_shape = self.dim_x\n",
    "        layers = [tfkl.InputLayer(input_shape=input_shape)]\n",
    "        for i in range(self.n_layers):\n",
    "            layers.append(tfkl.Conv2D(filters=self.n_filters, kernel_size=3, strides=(2,2), \n",
    "                                  padding='valid', activation='relu'))\n",
    "        layers.append(tfkl.Flatten())\n",
    "        # the following two lines set the output to be a probabilistic distribution\n",
    "        layers.append(tfkl.Dense(tfpl.IndependentNormal.params_size(self.dim_z), \n",
    "                                 activation=None, name='z_params'))\n",
    "        layers.append(tfpl.IndependentNormal(self.dim_z, \n",
    "            convert_to_tensor_fn=tfd.Distribution.sample, \n",
    "            activity_regularizer=tfpl.KLDivergenceRegularizer(prior, weight=self.kl_weight), \n",
    "            name='z_layer'))\n",
    "        return tfk.Sequential(layers, name='encoder')\n",
    "    \n",
    "    # Sequential API decoder\n",
    "    def decoder_x(self):\n",
    "        layers = [tfkl.InputLayer(input_shape=self.dim_z)]\n",
    "        # probably 7 before since 28/2/2 = 7, so changing to 32/2/2 = 8\n",
    "        frac = 2**self.n_layers\n",
    "        layers.append(tfkl.Dense(int((self.side/frac)**2*32), activation=None))\n",
    "        layers.append(tfkl.Reshape((int(self.side/frac),int(self.side/frac),32)))\n",
    "        for i in range(self.n_layers):\n",
    "            layers.append(tfkl.Conv2DTranspose(filters=self.n_filters, kernel_size=3, strides=2, \n",
    "                                           padding='same', activation='relu'))\n",
    "        layers.append(tfkl.Conv2DTranspose(filters=1, kernel_size=3, strides=1, \n",
    "                                           padding='same'))\n",
    "        layers.append(tfkl.Flatten())\n",
    "        # note that here we don't need \n",
    "        # `tfkl.Dense(tfpl.IndependentBernoulli.params_size(self.dim_x))` because \n",
    "        # we've restored the desired input shape with the last Conv2DTranspose layer\n",
    "        layers.append(tfkl.Dense(tfpl.IndependentNormal.params_size(self.dim_x), \n",
    "                                 activation=None, name='x_params'))\n",
    "        layers.append(tfpl.IndependentNormal(self.dim_x,\n",
    "            name='x_layer'))\n",
    "        return tfk.Sequential(layers, name='decoder')\n",
    "    \n",
    "    def build_vae_keras_model(self):\n",
    "        x_input = tfk.Input(shape=self.dim_x)\n",
    "        encoder = self.encoder_z()\n",
    "        decoder = self.decoder_x()\n",
    "        z = encoder(x_input)\n",
    "\n",
    "        # compile VAE model\n",
    "        model = tfk.Model(inputs=x_input, outputs=decoder(z))\n",
    "        model.compile(loss=negative_log_likelihood, \n",
    "                      optimizer=tfk.optimizers.Adam(self.learning_rate))\n",
    "        return model\n",
    "\n",
    "# the negative of log-likelihood for probabilistic output\n",
    "negative_log_likelihood = lambda x, rv_x: -rv_x.log_prob(x)"
   ]
  },
  {
   "cell_type": "code",
   "execution_count": 10,
   "id": "534105d3",
   "metadata": {},
   "outputs": [],
   "source": [
    "# VAE with 4 encoding and decoding layers, 64 filters per convolution, KL-divergence weight 1\n",
    "vae = VAE(16, 1, 1e-3, 64, 4, 64)\n",
    "AE = vae.build_vae_keras_model()"
   ]
  },
  {
   "cell_type": "code",
   "execution_count": 11,
   "id": "071a6bb0",
   "metadata": {
    "scrolled": true
   },
   "outputs": [
    {
     "name": "stdout",
     "output_type": "stream",
     "text": [
      "Epoch 1/8\n",
      "26166/26167 [============================>.] - ETA: 0s - loss: -7939.8706\n",
      "Epoch 1: val_loss improved from inf to 24875.70898, saving model to /data/models/big_img_4_layers_full_dataset\n",
      "26167/26167 [==============================] - 627s 24ms/step - loss: -7939.9341 - val_loss: 24875.7090 - lr: 0.0010\n",
      "Epoch 2/8\n",
      "26167/26167 [==============================] - ETA: 0s - loss: -9257.0479\n",
      "Epoch 2: val_loss improved from 24875.70898 to 1808.11523, saving model to /data/models/big_img_4_layers_full_dataset\n",
      "26167/26167 [==============================] - 607s 23ms/step - loss: -9257.0479 - val_loss: 1808.1152 - lr: 0.0010\n",
      "Epoch 3/8\n",
      "26167/26167 [==============================] - ETA: 0s - loss: -9738.2266\n",
      "Epoch 3: val_loss did not improve from 1808.11523\n",
      "26167/26167 [==============================] - 610s 23ms/step - loss: -9738.2266 - val_loss: 234794.4219 - lr: 0.0010\n",
      "Epoch 4/8\n",
      "26167/26167 [==============================] - ETA: 0s - loss: -8696.3311\n",
      "Epoch 4: val_loss did not improve from 1808.11523\n",
      "26167/26167 [==============================] - 603s 23ms/step - loss: -8696.3311 - val_loss: 16105.0303 - lr: 0.0010\n",
      "Epoch 5/8\n",
      "26167/26167 [==============================] - ETA: 0s - loss: -8714.3535\n",
      "Epoch 5: val_loss improved from 1808.11523 to -293.72629, saving model to /data/models/big_img_4_layers_full_dataset\n",
      "26167/26167 [==============================] - 620s 24ms/step - loss: -8714.3535 - val_loss: -293.7263 - lr: 0.0010\n",
      "Epoch 6/8\n",
      "26167/26167 [==============================] - ETA: 0s - loss: -10259.8750\n",
      "Epoch 6: val_loss did not improve from -293.72629\n",
      "26167/26167 [==============================] - 618s 24ms/step - loss: -10259.8750 - val_loss: 434331.1562 - lr: 0.0010\n",
      "Epoch 7/8\n",
      "26167/26167 [==============================] - ETA: 0s - loss: -10364.2461\n",
      "Epoch 7: val_loss did not improve from -293.72629\n",
      "26167/26167 [==============================] - 602s 23ms/step - loss: -10364.2461 - val_loss: 55046.9336 - lr: 0.0010\n",
      "Epoch 8/8\n",
      "26167/26167 [==============================] - ETA: 0s - loss: nan\n",
      "Epoch 8: ReduceLROnPlateau reducing learning rate to 0.0005000000237487257.\n",
      "\n",
      "Epoch 8: val_loss did not improve from -293.72629\n",
      "26167/26167 [==============================] - 603s 23ms/step - loss: nan - val_loss: nan - lr: 0.0010\n"
     ]
    }
   ],
   "source": [
    "from tensorflow_addons.optimizers import RectifiedAdam as RAdam\n",
    "from deepcell import train_utils\n",
    "\n",
    "steps_per_epoch = 26167\n",
    "validation_steps = 5310\n",
    "n_epochs = 8\n",
    "model_path = '/data/models/big_img_4_layers_full_dataset'\n",
    "\n",
    "train_callbacks = [\n",
    "    tf.keras.callbacks.ReduceLROnPlateau(\n",
    "        monitor='val_loss', factor=0.5, verbose=1,\n",
    "        patience=3, min_lr=1e-7),\n",
    "    tf.keras.callbacks.ModelCheckpoint(\n",
    "        model_path, monitor='val_loss',\n",
    "        save_best_only=True, verbose=1,\n",
    "        save_weights_only=True)\n",
    "]\n",
    "\n",
    "loss_history = AE.fit(\n",
    "    train_dataset,\n",
    "    steps_per_epoch=steps_per_epoch,\n",
    "    validation_data=val_dataset,\n",
    "    validation_steps=validation_steps,\n",
    "    epochs=n_epochs,\n",
    "    verbose=1,\n",
    "    callbacks=train_callbacks\n",
    ")"
   ]
  },
  {
   "cell_type": "code",
   "execution_count": 13,
   "id": "dac297e6",
   "metadata": {},
   "outputs": [
    {
     "name": "stderr",
     "output_type": "stream",
     "text": [
      "100%|███████████████████████████████████████████| 27/27 [02:01<00:00,  4.51s/it]\n",
      "100%|███████████████████████████████████████████| 27/27 [02:39<00:00,  5.90s/it]\n"
     ]
    },
    {
     "name": "stdout",
     "output_type": "stream",
     "text": [
      "Done creating Track objects.\n"
     ]
    }
   ],
   "source": [
    "val_trks = load_trks(os.path.join('/data/tracking-nuclear', 'val.trks'))\n",
    "with tf.device('/cpu:0'):\n",
    "    val_tracks = Track(tracked_data=val_trks,\n",
    "                   appearance_dim=64,\n",
    "                   distance_threshold=64,\n",
    "                   crop_mode='fixed')\n",
    "\n",
    "    print('Done creating Track objects.')\n",
    "\n",
    "#     write_tracking_dataset_to_tfr(val_tracks, filename='val_big', good_imgs=val_good_imgs)"
   ]
  },
  {
   "cell_type": "code",
   "execution_count": 12,
   "id": "1e133dd4",
   "metadata": {
    "scrolled": true
   },
   "outputs": [
    {
     "ename": "NameError",
     "evalue": "name 'train_tracks' is not defined",
     "output_type": "error",
     "traceback": [
      "\u001b[0;31m---------------------------------------------------------------------------\u001b[0m",
      "\u001b[0;31mNameError\u001b[0m                                 Traceback (most recent call last)",
      "Input \u001b[0;32mIn [12]\u001b[0m, in \u001b[0;36m<cell line: 3>\u001b[0;34m()\u001b[0m\n\u001b[1;32m      1\u001b[0m \u001b[38;5;28;01mimport\u001b[39;00m \u001b[38;5;21;01mmatplotlib\u001b[39;00m\u001b[38;5;21;01m.\u001b[39;00m\u001b[38;5;21;01mpyplot\u001b[39;00m \u001b[38;5;28;01mas\u001b[39;00m \u001b[38;5;21;01mplt\u001b[39;00m\n\u001b[0;32m----> 3\u001b[0m x \u001b[38;5;241m=\u001b[39m np\u001b[38;5;241m.\u001b[39marray([\u001b[43mtrain_tracks\u001b[49m\u001b[38;5;241m.\u001b[39mappearances[\u001b[38;5;241m0\u001b[39m][\u001b[38;5;241m2\u001b[39m][\u001b[38;5;241m16\u001b[39m]])\n\u001b[1;32m      4\u001b[0m xhat \u001b[38;5;241m=\u001b[39m AE(x)\u001b[38;5;241m.\u001b[39mmean()\n\u001b[1;32m      6\u001b[0m fig, ax \u001b[38;5;241m=\u001b[39m plt\u001b[38;5;241m.\u001b[39msubplots()\n",
      "\u001b[0;31mNameError\u001b[0m: name 'train_tracks' is not defined"
     ]
    }
   ],
   "source": [
    "import matplotlib.pyplot as plt\n",
    "\n",
    "x = np.array([train_tracks.appearances[0][2][16]])\n",
    "xhat = AE(x).mean()\n",
    "\n",
    "fig, ax = plt.subplots()\n",
    "ax.imshow(x[0])\n",
    "\n",
    "fig, ax = plt.subplots()\n",
    "ax.imshow(xhat[0])"
   ]
  },
  {
   "cell_type": "code",
   "execution_count": 16,
   "id": "74d65a26",
   "metadata": {
    "scrolled": true
   },
   "outputs": [
    {
     "data": {
      "text/plain": [
       "<matplotlib.image.AxesImage at 0x7fb7b81c9d00>"
      ]
     },
     "execution_count": 16,
     "metadata": {},
     "output_type": "execute_result"
    },
    {
     "data": {
      "image/png": "[encoded data removed]",
      "text/plain": [
       "<Figure size 432x288 with 1 Axes>"
      ]
     },
     "metadata": {
      "needs_background": "light"
     },
     "output_type": "display_data"
    },
    {
     "data": {
      "image/png": "[encoded data removed]",
      "text/plain": [
       "<Figure size 432x288 with 1 Axes>"
      ]
     },
     "metadata": {
      "needs_background": "light"
     },
     "output_type": "display_data"
    }
   ],
   "source": [
    "x = np.array([train_tracks.appearances[0][2][11]])\n",
    "xhat = AE(x).mean()\n",
    "\n",
    "fig, ax = plt.subplots()\n",
    "ax.imshow(x[0])\n",
    "\n",
    "fig, ax = plt.subplots()\n",
    "ax.imshow(xhat[0])"
   ]
  },
  {
   "cell_type": "code",
   "execution_count": 28,
   "id": "b0008a58",
   "metadata": {},
   "outputs": [
    {
     "data": {
      "text/plain": [
       "tensorflow.python.framework.ops.EagerTensor"
      ]
     },
     "execution_count": 28,
     "metadata": {},
     "output_type": "execute_result"
    }
   ],
   "source": [
    "type(xhat)"
   ]
  },
  {
   "cell_type": "code",
   "execution_count": 17,
   "id": "80f9ffb2",
   "metadata": {
    "scrolled": true
   },
   "outputs": [
    {
     "data": {
      "text/plain": [
       "<matplotlib.image.AxesImage at 0x7fb7b8138df0>"
      ]
     },
     "execution_count": 17,
     "metadata": {},
     "output_type": "execute_result"
    },
    {
     "data": {
      "image/png": "[encoded data removed]",
      "text/plain": [
       "<Figure size 432x288 with 1 Axes>"
      ]
     },
     "metadata": {
      "needs_background": "light"
     },
     "output_type": "display_data"
    },
    {
     "data": {
      "image/png": "[encoded data removed]",
      "text/plain": [
       "<Figure size 432x288 with 1 Axes>"
      ]
     },
     "metadata": {
      "needs_background": "light"
     },
     "output_type": "display_data"
    }
   ],
   "source": [
    "x = np.array([train_tracks.appearances[0][12][8]])\n",
    "xhat = AE(x).mean()\n",
    "\n",
    "fig, ax = plt.subplots()\n",
    "ax.imshow(x[0])\n",
    "\n",
    "fig, ax = plt.subplots()\n",
    "ax.imshow(xhat[0])"
   ]
  },
  {
   "cell_type": "code",
   "execution_count": 12,
   "id": "8eb342fd",
   "metadata": {},
   "outputs": [
    {
     "name": "stderr",
     "output_type": "stream",
     "text": [
      "2022-08-23 22:54:31.704047: W tensorflow/python/util/util.cc:368] Sets are not currently considered sequences, but this may change in the future, so consider avoiding using them.\n",
      "/usr/local/lib/python3.8/dist-packages/tensorflow_addons/optimizers/rectified_adam.py:120: UserWarning: The `lr` argument is deprecated, use `learning_rate` instead.\n",
      "  super().__init__(name, **kwargs)\n"
     ]
    }
   ],
   "source": [
    "# Compressing embedding space to 16 dimensions\n",
    "vae_comp = VAE(16, 1, 1e-3, 64, 4, 64)\n",
    "AE_comp = vae_comp.build_vae_keras_model()"
   ]
  },
  {
   "cell_type": "code",
   "execution_count": 13,
   "id": "ab755422",
   "metadata": {
    "scrolled": true
   },
   "outputs": [
    {
     "name": "stdout",
     "output_type": "stream",
     "text": [
      "Epoch 1/8\n"
     ]
    },
    {
     "name": "stderr",
     "output_type": "stream",
     "text": [
      "2022-08-23 22:55:01.031066: I tensorflow/stream_executor/cuda/cuda_dnn.cc:368] Loaded cuDNN version 8100\n"
     ]
    },
    {
     "name": "stdout",
     "output_type": "stream",
     "text": [
      "3838/3838 [==============================] - ETA: 0s - loss: 22999.0859\n",
      "Epoch 1: val_loss improved from inf to -6000.75781, saving model to /data/models/big_img_4_layers_comp_RAdam\n",
      "3838/3838 [==============================] - 237s 60ms/step - loss: 22999.0859 - val_loss: -6000.7578 - lr: 0.0010\n",
      "Epoch 2/8\n",
      "3838/3838 [==============================] - ETA: 0s - loss: 8133.9956\n",
      "Epoch 2: val_loss improved from -6000.75781 to -6886.40723, saving model to /data/models/big_img_4_layers_comp_RAdam\n",
      "3838/3838 [==============================] - 217s 56ms/step - loss: 8133.9956 - val_loss: -6886.4072 - lr: 0.0010\n",
      "Epoch 3/8\n",
      "3838/3838 [==============================] - ETA: 0s - loss: 1154.2805\n",
      "Epoch 3: val_loss improved from -6886.40723 to -8277.78125, saving model to /data/models/big_img_4_layers_comp_RAdam\n",
      "3838/3838 [==============================] - 213s 56ms/step - loss: 1154.2805 - val_loss: -8277.7812 - lr: 0.0010\n",
      "Epoch 4/8\n",
      "3838/3838 [==============================] - ETA: 0s - loss: 23776.7363\n",
      "Epoch 4: val_loss did not improve from -8277.78125\n",
      "3838/3838 [==============================] - 199s 52ms/step - loss: 23776.7363 - val_loss: -7988.6011 - lr: 0.0010\n",
      "Epoch 5/8\n",
      "3838/3838 [==============================] - ETA: 0s - loss: 22951.7383\n",
      "Epoch 5: val_loss did not improve from -8277.78125\n",
      "3838/3838 [==============================] - 200s 52ms/step - loss: 22951.7383 - val_loss: -7619.2710 - lr: 0.0010\n",
      "Epoch 6/8\n",
      "3838/3838 [==============================] - ETA: 0s - loss: 5273.8237\n",
      "Epoch 6: val_loss improved from -8277.78125 to -8546.80469, saving model to /data/models/big_img_4_layers_comp_RAdam\n",
      "3838/3838 [==============================] - 216s 56ms/step - loss: 5273.8237 - val_loss: -8546.8047 - lr: 0.0010\n",
      "Epoch 7/8\n",
      "3838/3838 [==============================] - ETA: 0s - loss: 13167.6465\n",
      "Epoch 7: val_loss improved from -8546.80469 to -9040.73438, saving model to /data/models/big_img_4_layers_comp_RAdam\n",
      "3838/3838 [==============================] - 215s 56ms/step - loss: 13167.6465 - val_loss: -9040.7344 - lr: 0.0010\n",
      "Epoch 8/8\n",
      "3838/3838 [==============================] - ETA: 0s - loss: 1566.4801\n",
      "Epoch 8: val_loss did not improve from -9040.73438\n",
      "3838/3838 [==============================] - 199s 52ms/step - loss: 1566.4801 - val_loss: -8613.5029 - lr: 0.0010\n"
     ]
    }
   ],
   "source": [
    "from tensorflow_addons.optimizers import RectifiedAdam as RAdam\n",
    "from deepcell import train_utils\n",
    "\n",
    "steps_per_epoch = 3838\n",
    "validation_steps = 895\n",
    "n_epochs = 8\n",
    "model_path = '/data/models/big_img_4_layers_comp_RAdam'\n",
    "\n",
    "train_callbacks = [\n",
    "    tf.keras.callbacks.ReduceLROnPlateau(\n",
    "      \n",
    "        monitor='val_loss', factor=0.5, verbose=1,\n",
    "        patience=3, min_lr=1e-7),\n",
    "    tf.keras.callbacks.ModelCheckpoint(\n",
    "        model_path, monitor='val_loss',\n",
    "        save_best_only=True, verbose=1,\n",
    "        save_weights_only=True)\n",
    "]\n",
    "\n",
    "loss_history = AE_comp.fit(\n",
    "    train_dataset,\n",
    "    steps_per_epoch=steps_per_epoch,\n",
    "    validation_data=val_dataset,\n",
    "    validation_steps=validation_steps,\n",
    "    epochs=n_epochs,\n",
    "    verbose=1,\n",
    "    callbacks=train_callbacks\n",
    ")"
   ]
  },
  {
   "cell_type": "code",
   "execution_count": 17,
   "id": "cc7be0aa",
   "metadata": {},
   "outputs": [
    {
     "ename": "NameError",
     "evalue": "name 'val_good_imgs' is not defined",
     "output_type": "error",
     "traceback": [
      "\u001b[0;31m---------------------------------------------------------------------------\u001b[0m",
      "\u001b[0;31mNameError\u001b[0m                                 Traceback (most recent call last)",
      "Input \u001b[0;32mIn [17]\u001b[0m, in \u001b[0;36m<cell line: 1>\u001b[0;34m()\u001b[0m\n\u001b[0;32m----> 1\u001b[0m \u001b[43mval_good_imgs\u001b[49m[\u001b[38;5;241m2\u001b[39m]\n",
      "\u001b[0;31mNameError\u001b[0m: name 'val_good_imgs' is not defined"
     ]
    }
   ],
   "source": [
    "val_good_imgs[2]"
   ]
  },
  {
   "cell_type": "code",
   "execution_count": 15,
   "id": "b40b2af6",
   "metadata": {
    "scrolled": true
   },
   "outputs": [
    {
     "data": {
      "text/plain": [
       "<matplotlib.image.AxesImage at 0x7f9ad8557e50>"
      ]
     },
     "execution_count": 15,
     "metadata": {},
     "output_type": "execute_result"
    },
    {
     "data": {
      "image/png": "[encoded data removed]",
      "text/plain": [
       "<Figure size 432x288 with 1 Axes>"
      ]
     },
     "metadata": {
      "needs_background": "light"
     },
     "output_type": "display_data"
    },
    {
     "data": {
      "image/png": "[encoded data removed]",
      "text/plain": [
       "<Figure size 432x288 with 1 Axes>"
      ]
     },
     "metadata": {
      "needs_background": "light"
     },
     "output_type": "display_data"
    }
   ],
   "source": [
    "import matplotlib.pyplot as plt\n",
    "\n",
    "x = np.array([val_tracks.appearances[2][25][1]])\n",
    "xhat = AE(x).mean()\n",
    "\n",
    "fig, ax = plt.subplots()\n",
    "ax.imshow(x[0])\n",
    "\n",
    "fig, ax = plt.subplots()\n",
    "ax.imshow(xhat[0])"
   ]
  },
  {
   "cell_type": "code",
   "execution_count": 16,
   "id": "5e8e7cc2",
   "metadata": {},
   "outputs": [
    {
     "data": {
      "text/plain": [
       "<matplotlib.image.AxesImage at 0x7f9ad849f5b0>"
      ]
     },
     "execution_count": 16,
     "metadata": {},
     "output_type": "execute_result"
    },
    {
     "data": {
      "image/png": "[encoded data removed]",
      "text/plain": [
       "<Figure size 432x288 with 1 Axes>"
      ]
     },
     "metadata": {
      "needs_background": "light"
     },
     "output_type": "display_data"
    },
    {
     "data": {
      "image/png": "[encoded data removed]",
      "text/plain": [
       "<Figure size 432x288 with 1 Axes>"
      ]
     },
     "metadata": {
      "needs_background": "light"
     },
     "output_type": "display_data"
    }
   ],
   "source": [
    "import matplotlib.pyplot as plt\n",
    "\n",
    "x = np.array([val_tracks.appearances[2][13][6]])\n",
    "xhat = AE(x).mean()\n",
    "\n",
    "fig, ax = plt.subplots()\n",
    "ax.imshow(x[0])\n",
    "\n",
    "fig, ax = plt.subplots()\n",
    "ax.imshow(xhat[0])"
   ]
  },
  {
   "cell_type": "code",
   "execution_count": null,
   "id": "7c3cb81d",
   "metadata": {},
   "outputs": [],
   "source": []
  }
 ],
 "metadata": {
  "kernelspec": {
   "display_name": "Python 3 (ipykernel)",
   "language": "python",
   "name": "python3"
  },
  "language_info": {
   "codemirror_mode": {
    "name": "ipython",
    "version": 3
   },
   "file_extension": ".py",
   "mimetype": "text/x-python",
   "name": "python",
   "nbconvert_exporter": "python",
   "pygments_lexer": "ipython3",
   "version": "3.8.10"
  }
 },
 "nbformat": 4,
 "nbformat_minor": 5
}
