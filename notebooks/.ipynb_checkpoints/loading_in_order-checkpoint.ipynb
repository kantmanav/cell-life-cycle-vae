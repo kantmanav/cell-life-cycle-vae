{
 "cells": [
  {
   "cell_type": "code",
   "execution_count": 17,
   "id": "9a3843d9",
   "metadata": {},
   "outputs": [],
   "source": [
    "import os\n",
    "\n",
    "import deepcell\n",
    "# don't have to import load_tracks\n",
    "from deepcell.data.tracking import Track, concat_tracks\n",
    "\n",
    "import spektral"
   ]
  },
  {
   "cell_type": "code",
   "execution_count": 18,
   "id": "25c5517d",
   "metadata": {},
   "outputs": [
    {
     "data": {
      "text/plain": [
       "['val.trks',\n",
       " 'inputs.yaml',\n",
       " 'metadata.yaml',\n",
       " 'train.trks',\n",
       " '.gitignore',\n",
       " 'params.yaml',\n",
       " 'dvc.yaml',\n",
       " 'dvc.lock',\n",
       " 'data-source.npz',\n",
       " 'test.trks']"
      ]
     },
     "execution_count": 18,
     "metadata": {},
     "output_type": "execute_result"
    }
   ],
   "source": [
    "os.listdir('/training/tracking-nuclear')"
   ]
  },
  {
   "cell_type": "code",
   "execution_count": 21,
   "id": "eef4ab95",
   "metadata": {},
   "outputs": [
    {
     "name": "stdout",
     "output_type": "stream",
     "text": [
      "CPU times: user 15.1 s, sys: 1.63 s, total: 16.8 s\n",
      "Wall time: 16.8 s\n"
     ]
    }
   ],
   "source": [
    "%%time\n",
    "path_temp_trks = '/training/tracking-nuclear/test.trks'\n",
    "all_data = [load_trks(path_temp_trks)]"
   ]
  },
  {
   "cell_type": "code",
   "execution_count": 22,
   "id": "09c31bfd",
   "metadata": {},
   "outputs": [
    {
     "name": "stderr",
     "output_type": "stream",
     "text": [
      "100%|███████████████████████████████████████████| 12/12 [00:48<00:00,  4.02s/it]\n",
      "100%|███████████████████████████████████████████| 12/12 [00:50<00:00,  4.23s/it]\n",
      "2022-06-14 05:19:41.718717: I tensorflow/core/platform/cpu_feature_guard.cc:151] This TensorFlow binary is optimized with oneAPI Deep Neural Network Library (oneDNN) to use the following CPU instructions in performance-critical operations:  AVX2 FMA\n",
      "To enable them in other operations, rebuild TensorFlow with the appropriate compiler flags.\n",
      "2022-06-14 05:19:42.871263: I tensorflow/core/common_runtime/gpu/gpu_device.cc:1525] Created device /job:localhost/replica:0/task:0/device:GPU:0 with 10415 MB memory:  -> device: 0, name: NVIDIA GeForce GTX 1080 Ti, pci bus id: 0000:09:00.0, compute capability: 6.1\n"
     ]
    },
    {
     "name": "stdout",
     "output_type": "stream",
     "text": [
      "CPU times: user 7min 4s, sys: 8min 59s, total: 16min 3s\n",
      "Wall time: 1min 52s\n"
     ]
    }
   ],
   "source": [
    "%%time\n",
    "all_tracks = [Track(tracked_data=d) for d in all_data]"
   ]
  },
  {
   "cell_type": "code",
   "execution_count": 23,
   "id": "a51f1035",
   "metadata": {},
   "outputs": [
    {
     "name": "stdout",
     "output_type": "stream",
     "text": [
      "CPU times: user 359 ms, sys: 471 ms, total: 830 ms\n",
      "Wall time: 827 ms\n"
     ]
    }
   ],
   "source": [
    "%%time\n",
    "track_info = concat_tracks(all_tracks)"
   ]
  },
  {
   "cell_type": "code",
   "execution_count": null,
   "id": "97965bc8",
   "metadata": {},
   "outputs": [],
   "source": []
  }
 ],
 "metadata": {
  "kernelspec": {
   "display_name": "Python 3 (ipykernel)",
   "language": "python",
   "name": "python3"
  },
  "language_info": {
   "codemirror_mode": {
    "name": "ipython",
    "version": 3
   },
   "file_extension": ".py",
   "mimetype": "text/x-python",
   "name": "python",
   "nbconvert_exporter": "python",
   "pygments_lexer": "ipython3",
   "version": "3.8.10"
  }
 },
 "nbformat": 4,
 "nbformat_minor": 5
}
