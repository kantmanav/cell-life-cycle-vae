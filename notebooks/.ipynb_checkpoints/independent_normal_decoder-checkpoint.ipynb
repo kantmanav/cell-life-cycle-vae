{
 "cells": [
  {
   "cell_type": "markdown",
   "id": "827dda3c",
   "metadata": {},
   "source": [
    "# Get the actual data"
   ]
  },
  {
   "cell_type": "code",
   "execution_count": 1,
   "id": "976d33e0",
   "metadata": {},
   "outputs": [
    {
     "name": "stdout",
     "output_type": "stream",
     "text": [
      "2.8.0\n"
     ]
    }
   ],
   "source": [
    "import os\n",
    "import numpy as np\n",
    "\n",
    "import tensorflow as tf\n",
    "import tensorflow_addons as tfa\n",
    "gpus = tf.config.experimental.list_physical_devices('GPU')\n",
    "for gpu in gpus:\n",
    "      tf.config.experimental.set_memory_growth(gpu, True)\n",
    "print(tf.__version__)\n",
    "AUTOTUNE = tf.data.experimental.AUTOTUNE\n",
    "\n",
    "import deepcell\n",
    "# Changed from before due to new placement of Track, concat_tracks\n",
    "from deepcell_tracking.utils import load_trks\n",
    "from deepcell.data.tracking import Track, concat_tracks\n",
    "##############\n",
    "from sklearn.model_selection import train_test_split\n",
    "from deepcell.utils.data_utils import reshape_movie\n",
    "from deepcell.utils.transform_utils import erode_edges\n",
    "from deepcell.data import split_dataset\n",
    "from deepcell_toolbox.processing import normalize, histogram_normalization\n",
    "\n",
    "import spektral"
   ]
  },
  {
   "cell_type": "code",
   "execution_count": 2,
   "id": "4b37f190",
   "metadata": {},
   "outputs": [],
   "source": [
    "# data loading\n",
    "\n",
    "path_temp_trks = '/training/tracking-nuclear/test.trks'\n",
    "all_data = [load_trks(path_temp_trks)]"
   ]
  },
  {
   "cell_type": "code",
   "execution_count": 3,
   "id": "b1ea2606",
   "metadata": {},
   "outputs": [
    {
     "name": "stderr",
     "output_type": "stream",
     "text": [
      "100%|███████████████████████████████████████████| 12/12 [00:48<00:00,  4.03s/it]\n",
      "100%|███████████████████████████████████████████| 12/12 [00:55<00:00,  4.59s/it]\n",
      "2022-07-16 19:44:40.201277: I tensorflow/core/platform/cpu_feature_guard.cc:151] This TensorFlow binary is optimized with oneAPI Deep Neural Network Library (oneDNN) to use the following CPU instructions in performance-critical operations:  AVX2 FMA\n",
      "To enable them in other operations, rebuild TensorFlow with the appropriate compiler flags.\n",
      "2022-07-16 19:44:40.782518: I tensorflow/core/common_runtime/gpu/gpu_device.cc:1525] Created device /job:localhost/replica:0/task:0/device:GPU:0 with 10415 MB memory:  -> device: 0, name: NVIDIA GeForce GTX 1080 Ti, pci bus id: 0000:09:00.0, compute capability: 6.1\n"
     ]
    },
    {
     "name": "stdout",
     "output_type": "stream",
     "text": [
      "CPU times: user 7min 27s, sys: 9min 30s, total: 16min 57s\n",
      "Wall time: 1min 56s\n"
     ]
    }
   ],
   "source": [
    "%%time\n",
    "all_tracks = [Track(tracked_data=d) for d in all_data]"
   ]
  },
  {
   "cell_type": "code",
   "execution_count": 4,
   "id": "992ae626",
   "metadata": {},
   "outputs": [
    {
     "name": "stdout",
     "output_type": "stream",
     "text": [
      "CPU times: user 393 ms, sys: 477 ms, total: 870 ms\n",
      "Wall time: 867 ms\n"
     ]
    }
   ],
   "source": [
    "%%time\n",
    "track_info = concat_tracks(all_tracks)"
   ]
  },
  {
   "cell_type": "code",
   "execution_count": 14,
   "id": "4a105593",
   "metadata": {},
   "outputs": [],
   "source": [
    "# May need to correct later\n",
    "from skimage.exposure import rescale_intensity\n",
    "\n",
    "def norm(X):\n",
    "    X_norm = histogram_normalization(X, kernel_size=32)\n",
    "    \n",
    "    X_rescaled = np.zeros(X_norm.shape)\n",
    "    for img_idx in range(X.shape[0]):\n",
    "        x = X[img_idx]\n",
    "        x = rescale_intensity(x, out_range=(0,1))\n",
    "        X_rescaled[img_idx] = x\n",
    "            \n",
    "    return X_rescaled"
   ]
  },
  {
   "cell_type": "code",
   "execution_count": 6,
   "id": "398ff715",
   "metadata": {},
   "outputs": [
    {
     "name": "stdout",
     "output_type": "stream",
     "text": [
      "appearances (12, 71, 331, 32, 32, 1)\n",
      "centroids (12, 71, 331, 2)\n",
      "morphologies (12, 71, 331, 3)\n",
      "adj_matrices (12, 71, 331, 331)\n",
      "norm_adj_matrices (12, 71, 331, 331)\n",
      "temporal_adj_matrices (12, 70, 331, 331, 3)\n"
     ]
    }
   ],
   "source": [
    "for k, v in track_info.items():\n",
    "    print(k, v.shape)"
   ]
  },
  {
   "cell_type": "code",
   "execution_count": 7,
   "id": "d0c3369c",
   "metadata": {},
   "outputs": [
    {
     "data": {
      "text/plain": [
       "numpy.ndarray"
      ]
     },
     "execution_count": 7,
     "metadata": {},
     "output_type": "execute_result"
    }
   ],
   "source": [
    "type(track_info['appearances'])"
   ]
  },
  {
   "cell_type": "markdown",
   "id": "30198eb8",
   "metadata": {},
   "source": [
    "# Prune array of blank images, flatten"
   ]
  },
  {
   "cell_type": "code",
   "execution_count": 8,
   "id": "f0d7e3fe",
   "metadata": {
    "scrolled": true
   },
   "outputs": [
    {
     "name": "stdout",
     "output_type": "stream",
     "text": [
      "{0: {}, 1: {}, 2: {}, 3: {}, 4: {}, 5: {}, 6: {}, 7: {}, 8: {}, 9: {}, 10: {}, 11: {}}\n",
      "{0: {0: 49, 1: 50, 2: 17, 3: 50, 4: 38}, 1: {0: 50, 1: 50, 2: 48, 3: 50, 4: 50, 5: 1, 6: 50, 7: 50, 8: 7}, 2: {0: 65, 1: 53, 2: 65, 3: 27, 4: 54, 5: 65, 6: 65, 7: 43, 8: 39, 9: 65, 10: 3, 11: 32, 12: 55, 13: 36, 14: 47, 15: 31, 16: 65, 17: 17, 18: 65, 19: 65, 20: 37, 21: 25, 22: 18, 23: 65, 24: 38, 25: 44, 26: 65, 27: 65, 28: 33, 29: 29, 30: 65, 31: 65, 32: 65, 33: 65, 34: 30, 35: 56, 36: 65, 37: 32, 38: 58, 39: 65, 40: 65, 41: 39, 42: 65, 43: 65, 44: 51, 45: 65, 46: 33, 47: 54, 48: 65, 49: 65, 50: 65, 51: 65, 52: 29, 53: 65, 54: 65, 55: 65, 56: 65, 57: 65, 58: 65, 59: 65, 60: 65, 61: 65, 62: 52, 63: 65, 64: 48, 65: 65, 66: 65, 67: 24, 68: 65, 69: 65, 70: 19, 71: 55, 72: 65, 73: 30, 74: 65, 75: 35, 76: 65, 77: 65, 78: 29, 79: 26, 80: 65, 81: 65, 82: 65, 83: 65, 84: 65, 85: 27, 86: 65, 87: 1, 88: 37, 89: 65, 90: 52, 91: 65, 92: 65, 93: 10, 94: 51, 95: 18, 96: 37, 97: 1, 98: 65, 99: 65, 100: 19, 101: 65, 102: 43, 103: 65, 104: 28, 105: 38, 106: 39, 107: 65, 108: 41, 109: 20, 110: 65, 111: 65, 112: 55, 113: 65, 114: 65, 115: 65, 116: 6, 117: 65, 118: 23, 119: 65, 120: 34, 121: 37, 122: 39}, 3: {0: 6, 1: 1, 2: 10, 3: 55, 4: 9, 5: 18, 6: 55, 7: 19, 8: 55, 9: 20, 10: 55, 11: 55, 12: 55, 13: 55, 14: 18, 15: 55, 16: 7, 17: 55, 18: 21, 19: 55, 20: 55, 21: 6, 22: 55, 23: 55, 24: 55, 25: 55, 26: 34, 27: 55, 28: 18, 29: 55, 30: 55, 31: 55, 32: 37, 33: 55, 34: 55, 35: 34, 36: 13, 37: 55, 38: 55, 39: 55, 40: 55, 41: 44, 42: 55, 43: 55, 44: 55, 45: 54, 46: 55, 47: 55, 48: 55, 49: 55, 50: 55, 51: 55, 52: 55, 53: 55, 54: 55, 55: 55, 56: 55, 57: 55, 58: 11, 59: 35, 60: 55, 61: 55, 62: 55, 63: 10, 64: 55, 65: 55, 66: 55, 67: 55, 68: 19, 69: 55, 70: 55, 71: 55, 72: 22, 73: 55, 74: 37, 75: 8, 76: 17, 77: 55, 78: 10, 79: 10, 80: 55, 81: 18, 82: 19, 83: 55, 84: 55, 85: 13, 86: 55, 87: 55, 88: 55, 89: 29, 90: 55, 91: 55, 92: 55, 93: 55, 94: 55, 95: 55, 96: 55, 97: 55, 98: 55, 99: 55, 100: 55, 101: 55, 102: 55, 103: 55, 104: 55, 105: 22, 106: 53, 107: 55, 108: 55, 109: 2, 110: 54, 111: 55, 112: 55, 113: 55, 114: 55, 115: 55, 116: 55, 117: 55, 118: 38, 119: 24, 120: 55, 121: 55, 122: 55, 123: 55, 124: 55, 125: 55, 126: 55, 127: 55, 128: 55, 129: 55, 130: 55, 131: 55, 132: 55, 133: 55, 134: 55, 135: 55, 136: 55, 137: 7, 138: 55, 139: 55, 140: 55, 141: 55, 142: 6, 143: 55, 144: 55, 145: 55, 146: 55, 147: 55, 148: 55, 149: 55, 150: 55, 151: 55, 152: 55, 153: 55, 154: 55, 155: 55, 156: 55, 157: 55, 158: 55, 159: 55, 160: 55, 161: 55, 162: 55, 163: 55, 164: 55, 165: 55, 166: 55, 167: 55, 168: 55, 169: 55, 170: 55, 171: 20, 172: 55, 173: 55, 174: 55, 175: 1, 176: 55, 177: 55, 178: 2}, 4: {0: 45, 1: 19, 2: 45, 3: 45, 4: 9, 5: 45, 6: 45, 7: 45, 8: 45, 9: 45, 10: 45, 11: 45, 12: 45, 13: 11, 14: 45, 15: 45, 16: 25, 17: 10, 18: 45, 19: 45, 20: 43, 21: 45, 22: 45, 23: 45, 24: 37, 25: 45, 26: 45, 27: 45, 28: 45, 29: 45, 30: 45, 31: 45, 32: 45, 33: 45, 34: 45, 35: 45, 36: 36, 37: 6, 38: 45, 39: 45, 40: 27, 41: 45, 42: 5, 43: 45, 44: 45, 45: 36, 46: 45, 47: 45, 48: 7, 49: 43, 50: 45, 51: 45, 52: 45, 53: 29, 54: 14, 55: 45, 56: 13, 57: 45, 58: 45, 59: 12, 60: 45, 61: 45, 62: 45, 63: 45, 64: 45, 65: 45, 66: 45, 67: 45, 68: 45, 69: 23, 70: 45, 71: 45, 72: 6, 73: 45, 74: 45, 75: 45, 76: 4, 77: 1}, 5: {0: 71, 1: 71, 2: 71, 3: 71, 4: 61, 5: 17, 6: 71, 7: 71, 8: 71, 9: 14, 10: 69, 11: 71, 12: 11, 13: 71, 14: 10, 15: 71, 16: 71, 17: 71, 18: 10, 19: 71, 20: 71, 21: 71, 22: 67, 23: 12, 24: 71, 25: 71, 26: 15, 27: 17, 28: 71, 29: 71, 30: 61, 31: 36, 32: 71, 33: 71, 34: 24, 35: 71, 36: 56, 37: 71, 38: 71, 39: 56, 40: 5, 41: 71, 42: 9, 43: 71, 44: 71, 45: 71, 46: 71, 47: 7, 48: 42, 49: 41, 50: 71, 51: 71, 52: 12, 53: 71, 54: 71, 55: 5, 56: 11, 57: 37, 58: 71, 59: 1}, 6: {0: 71, 1: 71, 2: 71, 3: 71, 4: 7, 5: 30, 6: 71, 7: 71, 8: 71, 9: 67, 10: 71, 11: 71, 12: 59, 13: 71, 14: 67, 15: 10, 16: 71, 17: 71, 18: 71, 19: 71, 20: 71, 21: 57, 22: 71, 23: 71, 24: 58, 25: 4, 26: 71, 27: 40, 28: 26, 29: 38, 30: 71, 31: 71, 32: 71, 33: 71, 34: 53, 35: 71, 36: 71, 37: 71, 38: 71, 39: 71, 40: 71, 41: 71, 42: 71, 43: 71, 44: 9, 45: 71, 46: 71, 47: 45, 48: 71, 49: 71, 50: 29, 51: 71, 52: 71, 53: 3, 54: 28, 55: 71, 56: 50, 57: 71, 58: 71, 59: 40, 60: 71, 61: 4, 62: 3, 63: 71, 64: 71, 65: 13, 66: 41, 67: 71, 68: 71, 69: 53, 70: 71, 71: 71, 72: 71, 73: 48, 74: 71, 75: 45, 76: 71, 77: 46, 78: 71, 79: 62, 80: 71, 81: 71, 82: 71, 83: 71, 84: 71, 85: 8, 86: 71, 87: 28, 88: 71, 89: 71, 90: 71, 91: 71, 92: 11, 93: 37, 94: 53, 95: 71, 96: 61, 97: 71, 98: 71, 99: 71, 100: 71, 101: 71, 102: 5, 103: 35, 104: 71, 105: 71, 106: 71, 107: 71, 108: 71, 109: 71, 110: 71, 111: 7, 112: 71, 113: 71, 114: 46, 115: 71, 116: 71, 117: 1, 118: 71, 119: 71, 120: 43, 121: 71, 122: 71, 123: 22, 124: 23, 125: 62, 126: 52, 127: 44, 128: 71, 129: 11, 130: 71, 131: 24, 132: 25, 133: 71, 134: 26, 135: 71, 136: 71, 137: 52, 138: 71, 139: 11, 140: 36, 141: 18, 142: 71, 143: 29, 144: 71, 145: 71, 146: 34, 147: 60, 148: 71, 149: 41, 150: 71, 151: 63, 152: 71, 153: 71, 154: 71, 155: 71, 156: 63, 157: 64, 158: 71, 159: 65, 160: 71, 161: 71, 162: 67, 163: 71, 164: 16, 165: 71, 166: 8, 167: 71, 168: 71, 169: 71, 170: 71, 171: 71, 172: 71, 173: 71, 174: 21, 175: 71, 176: 71, 177: 71, 178: 69, 179: 8, 180: 71, 181: 71, 182: 1, 183: 71, 184: 50, 185: 56, 186: 2}, 7: {0: 45, 1: 45, 2: 45, 3: 45, 4: 45, 5: 45, 6: 45, 7: 45, 8: 45, 9: 39, 10: 39, 11: 45, 12: 2, 13: 45, 14: 2, 15: 45, 16: 45, 17: 1, 18: 45, 19: 45, 20: 23, 21: 45, 22: 45, 23: 45, 24: 45, 25: 45, 26: 45}, 8: {0: 33, 1: 45, 2: 27, 3: 29, 4: 45, 5: 45, 6: 2, 7: 45, 8: 45, 9: 45, 10: 26, 11: 2, 12: 45, 13: 45, 14: 45, 15: 45, 16: 20, 17: 45, 18: 45, 19: 42, 20: 45, 21: 45, 22: 45, 23: 45, 24: 45, 25: 45, 26: 45, 27: 2, 28: 33, 29: 45, 30: 45, 31: 45, 32: 45, 33: 45, 34: 45, 35: 45, 36: 45, 37: 38, 38: 32, 39: 45, 40: 45, 41: 45, 42: 45, 43: 45, 44: 45, 45: 45, 46: 21, 47: 37, 48: 45, 49: 45}, 9: {0: 45, 1: 45, 2: 45, 3: 45, 4: 45, 5: 45, 6: 45, 7: 45, 8: 32, 9: 45, 10: 45, 11: 45, 12: 45, 13: 45, 14: 45, 15: 45, 16: 45, 17: 45, 18: 45, 19: 45, 20: 38, 21: 45}, 10: {0: 45, 1: 45, 2: 45, 3: 45, 4: 45, 5: 40, 6: 45, 7: 45, 8: 2, 9: 45, 10: 45, 11: 14, 12: 45, 13: 45, 14: 45, 15: 45}, 11: {0: 45, 1: 41, 2: 45, 3: 45, 4: 45, 5: 45, 6: 45, 7: 2, 8: 2, 9: 45, 10: 45, 11: 45, 12: 45, 13: 45}}\n",
      "Non-blank images: 36953\n"
     ]
    }
   ],
   "source": [
    "app = track_info['appearances']\n",
    "batches = app.shape[0]\n",
    "frames = app.shape[1]\n",
    "cells = app.shape[2]\n",
    "\n",
    "real_img_nums_dict = dict.fromkeys(range(batches))\n",
    "for batch in range(batches):\n",
    "    real_img_nums_dict[batch] = {}\n",
    "print(real_img_nums_dict)\n",
    "\n",
    "# Gets number of real cells in each batch\n",
    "for batch in range(batches):\n",
    "    for cell in range(cells):\n",
    "        if np.max(app[batch, 0, cell]) != 0:\n",
    "            last_frame = 71\n",
    "            for frame in range(frames):\n",
    "                if np.max(app[batch, frame, cell]) == 0:\n",
    "                    last_frame = frame\n",
    "                    break\n",
    "            real_img_nums_dict[batch][cell] = last_frame\n",
    "        else:\n",
    "            break\n",
    "print(real_img_nums_dict)\n",
    "\n",
    "num_real_imgs = sum([sum([num_frames for num_frames in real_img_nums_dict[batch].values()]) for batch in real_img_nums_dict.keys()])\n",
    "print(\"Non-blank images: \" + str(num_real_imgs))"
   ]
  },
  {
   "cell_type": "code",
   "execution_count": 13,
   "id": "5afe0448",
   "metadata": {},
   "outputs": [
    {
     "name": "stdout",
     "output_type": "stream",
     "text": [
      "(36953, 32, 32, 1)\n"
     ]
    }
   ],
   "source": [
    "real_img_list = []\n",
    "for batch in range(batches):\n",
    "    for cell in real_img_nums_dict[batch].keys():\n",
    "        for frame in range(real_img_nums_dict[batch][cell]):\n",
    "            real_img_list.append(app[batch][frame][cell])\n",
    "appearances = np.array(real_img_list)\n",
    "print(appearances.shape)"
   ]
  },
  {
   "cell_type": "code",
   "execution_count": 10,
   "id": "d2732128",
   "metadata": {},
   "outputs": [],
   "source": [
    "# Gets index of non-blank image (from original array) in (pruned) array of non-blank images\n",
    "def get_real_idx(batch, frame, cell):\n",
    "    assert (cell in real_img_nums_dict[batch].keys() and frame < real_img_nums_dict[batch][cell]), \"Blank image\"\n",
    "    idx = 0\n",
    "    for b in range(batch):\n",
    "        idx += sum(real_img_nums_dict[b].values())\n",
    "    for c in range(cell):\n",
    "        idx += real_img_nums_dict[batch][c]\n",
    "    idx += frame\n",
    "    return idx"
   ]
  },
  {
   "cell_type": "code",
   "execution_count": 15,
   "id": "4aae9313",
   "metadata": {},
   "outputs": [],
   "source": [
    "# Normalize appearances\n",
    "appearances = norm(appearances)\n",
    "\n",
    "train_ds = tf.data.Dataset.from_tensor_slices((appearances, appearances))\n",
    "train_ds = train_ds.batch(100)\n",
    "train_ds = train_ds.prefetch(tf.data.AUTOTUNE)"
   ]
  },
  {
   "cell_type": "markdown",
   "id": "e9cdbede",
   "metadata": {},
   "source": [
    "# Specify the model with independent normal decoder output"
   ]
  },
  {
   "cell_type": "code",
   "execution_count": 16,
   "id": "5663cc3c",
   "metadata": {},
   "outputs": [],
   "source": [
    "import tensorflow as tf\n",
    "import tensorflow_probability as tfp\n",
    "tfd = tfp.distributions\n",
    "tfpl = tfp.layers\n",
    "tfk = tf.keras\n",
    "tfkl = tf.keras.layers"
   ]
  },
  {
   "cell_type": "code",
   "execution_count": 27,
   "id": "5adc258f",
   "metadata": {},
   "outputs": [],
   "source": [
    "class VAE_MNIST:\n",
    "    \n",
    "    def __init__(self, dim_z, kl_weight, learning_rate):\n",
    "        # change dim from (28, 28, 1)\n",
    "        self.dim_x = (32, 32, 1)\n",
    "        self.dim_z = dim_z\n",
    "        self.kl_weight = kl_weight\n",
    "        self.learning_rate = learning_rate\n",
    "\n",
    "    # Sequential API encoder\n",
    "    def encoder_z(self):\n",
    "        # define prior distribution for the code, which is an isotropic Gaussian\n",
    "        prior = tfd.Independent(tfd.Normal(loc=tf.zeros(self.dim_z), scale=1.), \n",
    "                                reinterpreted_batch_ndims=1)\n",
    "        # build layers argument for tfk.Sequential()\n",
    "        input_shape = self.dim_x\n",
    "        layers = [tfkl.InputLayer(input_shape=input_shape)]\n",
    "        layers.append(tfkl.Conv2D(filters=32, kernel_size=3, strides=(2,2), \n",
    "                                  padding='valid', activation='relu'))\n",
    "        layers.append(tfkl.Conv2D(filters=64, kernel_size=3, strides=(2,2), \n",
    "                                  padding='valid', activation='relu'))\n",
    "        layers.append(tfkl.Flatten())\n",
    "        # the following two lines set the output to be a probabilistic distribution\n",
    "        layers.append(tfkl.Dense(tfpl.IndependentNormal.params_size(self.dim_z), \n",
    "                                 activation=None, name='z_params'))\n",
    "        layers.append(tfpl.IndependentNormal(self.dim_z, \n",
    "            convert_to_tensor_fn=tfd.Distribution.sample, \n",
    "            activity_regularizer=tfpl.KLDivergenceRegularizer(prior, weight=self.kl_weight), \n",
    "            name='z_layer'))\n",
    "        return tfk.Sequential(layers, name='encoder')\n",
    "    \n",
    "    # Sequential API decoder\n",
    "    def decoder_x(self):\n",
    "        layers = [tfkl.InputLayer(input_shape=self.dim_z)]\n",
    "        # probably 7 before since 28/2/2 = 7, so changing to 32/2/2 = 8\n",
    "        layers.append(tfkl.Dense(8*8*32, activation=None))\n",
    "        layers.append(tfkl.Reshape((8,8,32)))\n",
    "        layers.append(tfkl.Conv2DTranspose(filters=64, kernel_size=3, strides=2, \n",
    "                                           padding='same', activation='relu'))\n",
    "        layers.append(tfkl.Conv2DTranspose(filters=32, kernel_size=3, strides=2, \n",
    "                                           padding='same', activation='relu'))\n",
    "        layers.append(tfkl.Conv2DTranspose(filters=1, kernel_size=3, strides=1, \n",
    "                                           padding='same'))\n",
    "        layers.append(tfkl.Flatten())\n",
    "        # note that here we don't need \n",
    "        # `tfkl.Dense(tfpl.IndependentBernoulli.params_size(self.dim_x))` because \n",
    "        # we've restored the desired input shape with the last Conv2DTranspose layer\n",
    "        layers.append(tfkl.Dense(tfpl.IndependentNormal.params_size(1024), \n",
    "                                 activation=None, name='x_params'))\n",
    "        layers.append(tfpl.IndependentNormal(self.dim_x,\n",
    "            name='x_layer'))\n",
    "        return tfk.Sequential(layers, name='decoder')\n",
    "    \n",
    "    def build_vae_keras_model(self):\n",
    "        x_input = tfk.Input(shape=self.dim_x)\n",
    "        encoder = self.encoder_z()\n",
    "        decoder = self.decoder_x()\n",
    "        z = encoder(x_input)\n",
    "\n",
    "        # compile VAE model\n",
    "        model = tfk.Model(inputs=x_input, outputs=decoder(z))\n",
    "        model.compile(loss=negative_log_likelihood, \n",
    "                      optimizer=tfk.optimizers.Adam(self.learning_rate))\n",
    "        return model\n",
    "\n",
    "# the negative of log-likelihood for probabilistic output\n",
    "negative_log_likelihood = lambda x, rv_x: -rv_x.log_prob(x)"
   ]
  },
  {
   "cell_type": "code",
   "execution_count": 28,
   "id": "3b4441a2",
   "metadata": {},
   "outputs": [],
   "source": [
    "vae = VAE_MNIST(1024, 1, 1e-3)"
   ]
  },
  {
   "cell_type": "code",
   "execution_count": 29,
   "id": "89c714b3",
   "metadata": {},
   "outputs": [],
   "source": [
    "AE = vae.build_vae_keras_model()"
   ]
  },
  {
   "cell_type": "code",
   "execution_count": 30,
   "id": "959aa809",
   "metadata": {},
   "outputs": [
    {
     "ename": "InvalidArgumentError",
     "evalue": "Graph execution error:\n\nDetected at node 'model_1/decoder/x_layer/IndependentNormal/Reshape' defined at (most recent call last):\n    File \"/usr/lib/python3.8/runpy.py\", line 194, in _run_module_as_main\n      return _run_code(code, main_globals, None,\n    File \"/usr/lib/python3.8/runpy.py\", line 87, in _run_code\n      exec(code, run_globals)\n    File \"/usr/local/lib/python3.8/dist-packages/ipykernel_launcher.py\", line 17, in <module>\n      app.launch_new_instance()\n    File \"/usr/local/lib/python3.8/dist-packages/traitlets/config/application.py\", line 972, in launch_instance\n      app.start()\n    File \"/usr/local/lib/python3.8/dist-packages/ipykernel/kernelapp.py\", line 712, in start\n      self.io_loop.start()\n    File \"/usr/local/lib/python3.8/dist-packages/tornado/platform/asyncio.py\", line 199, in start\n      self.asyncio_loop.run_forever()\n    File \"/usr/lib/python3.8/asyncio/base_events.py\", line 570, in run_forever\n      self._run_once()\n    File \"/usr/lib/python3.8/asyncio/base_events.py\", line 1859, in _run_once\n      handle._run()\n    File \"/usr/lib/python3.8/asyncio/events.py\", line 81, in _run\n      self._context.run(self._callback, *self._args)\n    File \"/usr/local/lib/python3.8/dist-packages/ipykernel/kernelbase.py\", line 504, in dispatch_queue\n      await self.process_one()\n    File \"/usr/local/lib/python3.8/dist-packages/ipykernel/kernelbase.py\", line 493, in process_one\n      await dispatch(*args)\n    File \"/usr/local/lib/python3.8/dist-packages/ipykernel/kernelbase.py\", line 400, in dispatch_shell\n      await result\n    File \"/usr/local/lib/python3.8/dist-packages/ipykernel/kernelbase.py\", line 724, in execute_request\n      reply_content = await reply_content\n    File \"/usr/local/lib/python3.8/dist-packages/ipykernel/ipkernel.py\", line 383, in do_execute\n      res = shell.run_cell(\n    File \"/usr/local/lib/python3.8/dist-packages/ipykernel/zmqshell.py\", line 528, in run_cell\n      return super().run_cell(*args, **kwargs)\n    File \"/usr/local/lib/python3.8/dist-packages/IPython/core/interactiveshell.py\", line 2880, in run_cell\n      result = self._run_cell(\n    File \"/usr/local/lib/python3.8/dist-packages/IPython/core/interactiveshell.py\", line 2935, in _run_cell\n      return runner(coro)\n    File \"/usr/local/lib/python3.8/dist-packages/IPython/core/async_helpers.py\", line 129, in _pseudo_sync_runner\n      coro.send(None)\n    File \"/usr/local/lib/python3.8/dist-packages/IPython/core/interactiveshell.py\", line 3134, in run_cell_async\n      has_raised = await self.run_ast_nodes(code_ast.body, cell_name,\n    File \"/usr/local/lib/python3.8/dist-packages/IPython/core/interactiveshell.py\", line 3337, in run_ast_nodes\n      if await self.run_code(code, result, async_=asy):\n    File \"/usr/local/lib/python3.8/dist-packages/IPython/core/interactiveshell.py\", line 3397, in run_code\n      exec(code_obj, self.user_global_ns, self.user_ns)\n    File \"/tmp/ipykernel_498/4011314736.py\", line 15, in <cell line: 15>\n      loss_history = AE.fit(\n    File \"/usr/local/lib/python3.8/dist-packages/keras/utils/traceback_utils.py\", line 64, in error_handler\n      return fn(*args, **kwargs)\n    File \"/usr/local/lib/python3.8/dist-packages/keras/engine/training.py\", line 1384, in fit\n      tmp_logs = self.train_function(iterator)\n    File \"/usr/local/lib/python3.8/dist-packages/keras/engine/training.py\", line 1021, in train_function\n      return step_function(self, iterator)\n    File \"/usr/local/lib/python3.8/dist-packages/keras/engine/training.py\", line 1010, in step_function\n      outputs = model.distribute_strategy.run(run_step, args=(data,))\n    File \"/usr/local/lib/python3.8/dist-packages/keras/engine/training.py\", line 1000, in run_step\n      outputs = model.train_step(data)\n    File \"/usr/local/lib/python3.8/dist-packages/keras/engine/training.py\", line 859, in train_step\n      y_pred = self(x, training=True)\n    File \"/usr/local/lib/python3.8/dist-packages/keras/utils/traceback_utils.py\", line 64, in error_handler\n      return fn(*args, **kwargs)\n    File \"/usr/local/lib/python3.8/dist-packages/keras/engine/base_layer.py\", line 1096, in __call__\n      outputs = call_fn(inputs, *args, **kwargs)\n    File \"/usr/local/lib/python3.8/dist-packages/keras/utils/traceback_utils.py\", line 92, in error_handler\n      return fn(*args, **kwargs)\n    File \"/usr/local/lib/python3.8/dist-packages/keras/engine/functional.py\", line 451, in call\n      return self._run_internal_graph(\n    File \"/usr/local/lib/python3.8/dist-packages/keras/engine/functional.py\", line 589, in _run_internal_graph\n      outputs = node.layer(*args, **kwargs)\n    File \"/usr/local/lib/python3.8/dist-packages/keras/utils/traceback_utils.py\", line 64, in error_handler\n      return fn(*args, **kwargs)\n    File \"/usr/local/lib/python3.8/dist-packages/keras/engine/base_layer.py\", line 1096, in __call__\n      outputs = call_fn(inputs, *args, **kwargs)\n    File \"/usr/local/lib/python3.8/dist-packages/keras/utils/traceback_utils.py\", line 92, in error_handler\n      return fn(*args, **kwargs)\n    File \"/usr/local/lib/python3.8/dist-packages/keras/engine/sequential.py\", line 374, in call\n      return super(Sequential, self).call(inputs, training=training, mask=mask)\n    File \"/usr/local/lib/python3.8/dist-packages/keras/engine/functional.py\", line 451, in call\n      return self._run_internal_graph(\n    File \"/usr/local/lib/python3.8/dist-packages/keras/engine/functional.py\", line 589, in _run_internal_graph\n      outputs = node.layer(*args, **kwargs)\n    File \"/usr/local/lib/python3.8/dist-packages/tensorflow_probability/python/layers/distribution_layer.py\", line 220, in __call__\n      distribution, _ = super(DistributionLambda, self).__call__(\n    File \"/usr/local/lib/python3.8/dist-packages/keras/utils/traceback_utils.py\", line 64, in error_handler\n      return fn(*args, **kwargs)\n    File \"/usr/local/lib/python3.8/dist-packages/keras/engine/base_layer.py\", line 1096, in __call__\n      outputs = call_fn(inputs, *args, **kwargs)\n    File \"/usr/local/lib/python3.8/dist-packages/keras/utils/traceback_utils.py\", line 92, in error_handler\n      return fn(*args, **kwargs)\n    File \"/usr/local/lib/python3.8/dist-packages/tensorflow_probability/python/layers/distribution_layer.py\", line 226, in call\n      distribution, value = super(DistributionLambda, self).call(\n    File \"/usr/local/lib/python3.8/dist-packages/keras/layers/core/lambda_layer.py\", line 196, in call\n      result = self.function(inputs, **kwargs)\n    File \"/usr/local/lib/python3.8/dist-packages/tensorflow_probability/python/layers/distribution_layer.py\", line 166, in _fn\n      d = make_distribution_fn(*fargs, **fkwargs)\n    File \"/usr/local/lib/python3.8/dist-packages/tensorflow_probability/python/layers/distribution_layer.py\", line 952, in <lambda>\n      lambda t: IndependentNormal.new(t, event_shape, validate_args),\n    File \"/usr/local/lib/python3.8/dist-packages/tensorflow_probability/python/layers/distribution_layer.py\", line 977, in new\n      loc=tf.reshape(loc_params, output_shape),\nNode: 'model_1/decoder/x_layer/IndependentNormal/Reshape'\nInput to reshape is a tensor with 204800 values, but the requested shape has 102400\n\t [[{{node model_1/decoder/x_layer/IndependentNormal/Reshape}}]] [Op:__inference_train_function_6257]",
     "output_type": "error",
     "traceback": [
      "\u001b[0;31m---------------------------------------------------------------------------\u001b[0m",
      "\u001b[0;31mInvalidArgumentError\u001b[0m                      Traceback (most recent call last)",
      "Input \u001b[0;32mIn [30]\u001b[0m, in \u001b[0;36m<cell line: 15>\u001b[0;34m()\u001b[0m\n\u001b[1;32m      3\u001b[0m n_epochs \u001b[38;5;241m=\u001b[39m \u001b[38;5;241m1\u001b[39m\n\u001b[1;32m      5\u001b[0m \u001b[38;5;66;03m# train_callbacks = [\u001b[39;00m\n\u001b[1;32m      6\u001b[0m \u001b[38;5;66;03m#     tf.keras.callbacks.ModelCheckpoint(\u001b[39;00m\n\u001b[1;32m      7\u001b[0m \u001b[38;5;66;03m#         model_path, monitor='val_loss',\u001b[39;00m\n\u001b[0;32m   (...)\u001b[0m\n\u001b[1;32m     12\u001b[0m \u001b[38;5;66;03m#         patience=3, min_lr=1e-7)\u001b[39;00m\n\u001b[1;32m     13\u001b[0m \u001b[38;5;66;03m# ]\u001b[39;00m\n\u001b[0;32m---> 15\u001b[0m loss_history \u001b[38;5;241m=\u001b[39m \u001b[43mAE\u001b[49m\u001b[38;5;241;43m.\u001b[39;49m\u001b[43mfit\u001b[49m\u001b[43m(\u001b[49m\n\u001b[1;32m     16\u001b[0m \u001b[43m    \u001b[49m\u001b[43mtrain_ds\u001b[49m\u001b[43m,\u001b[49m\n\u001b[1;32m     17\u001b[0m \u001b[38;5;66;43;03m#    steps_per_epoch=steps_per_epoch,\u001b[39;49;00m\n\u001b[1;32m     18\u001b[0m \u001b[38;5;66;43;03m#    validation_data=val_ds,\u001b[39;49;00m\n\u001b[1;32m     19\u001b[0m \u001b[38;5;66;43;03m#    validation_steps=validation_steps,\u001b[39;49;00m\n\u001b[1;32m     20\u001b[0m \u001b[43m    \u001b[49m\u001b[43mepochs\u001b[49m\u001b[38;5;241;43m=\u001b[39;49m\u001b[43mn_epochs\u001b[49m\u001b[43m,\u001b[49m\n\u001b[1;32m     21\u001b[0m \u001b[43m    \u001b[49m\u001b[43mverbose\u001b[49m\u001b[38;5;241;43m=\u001b[39;49m\u001b[38;5;241;43m1\u001b[39;49m\u001b[43m,\u001b[49m\n\u001b[1;32m     22\u001b[0m \u001b[38;5;66;43;03m#    callbacks=train_callbacks\u001b[39;49;00m\n\u001b[1;32m     23\u001b[0m \u001b[43m)\u001b[49m\n",
      "File \u001b[0;32m/usr/local/lib/python3.8/dist-packages/keras/utils/traceback_utils.py:67\u001b[0m, in \u001b[0;36mfilter_traceback.<locals>.error_handler\u001b[0;34m(*args, **kwargs)\u001b[0m\n\u001b[1;32m     65\u001b[0m \u001b[38;5;28;01mexcept\u001b[39;00m \u001b[38;5;167;01mException\u001b[39;00m \u001b[38;5;28;01mas\u001b[39;00m e:  \u001b[38;5;66;03m# pylint: disable=broad-except\u001b[39;00m\n\u001b[1;32m     66\u001b[0m   filtered_tb \u001b[38;5;241m=\u001b[39m _process_traceback_frames(e\u001b[38;5;241m.\u001b[39m__traceback__)\n\u001b[0;32m---> 67\u001b[0m   \u001b[38;5;28;01mraise\u001b[39;00m e\u001b[38;5;241m.\u001b[39mwith_traceback(filtered_tb) \u001b[38;5;28;01mfrom\u001b[39;00m \u001b[38;5;28mNone\u001b[39m\n\u001b[1;32m     68\u001b[0m \u001b[38;5;28;01mfinally\u001b[39;00m:\n\u001b[1;32m     69\u001b[0m   \u001b[38;5;28;01mdel\u001b[39;00m filtered_tb\n",
      "File \u001b[0;32m/usr/local/lib/python3.8/dist-packages/tensorflow/python/eager/execute.py:54\u001b[0m, in \u001b[0;36mquick_execute\u001b[0;34m(op_name, num_outputs, inputs, attrs, ctx, name)\u001b[0m\n\u001b[1;32m     52\u001b[0m \u001b[38;5;28;01mtry\u001b[39;00m:\n\u001b[1;32m     53\u001b[0m   ctx\u001b[38;5;241m.\u001b[39mensure_initialized()\n\u001b[0;32m---> 54\u001b[0m   tensors \u001b[38;5;241m=\u001b[39m pywrap_tfe\u001b[38;5;241m.\u001b[39mTFE_Py_Execute(ctx\u001b[38;5;241m.\u001b[39m_handle, device_name, op_name,\n\u001b[1;32m     55\u001b[0m                                       inputs, attrs, num_outputs)\n\u001b[1;32m     56\u001b[0m \u001b[38;5;28;01mexcept\u001b[39;00m core\u001b[38;5;241m.\u001b[39m_NotOkStatusException \u001b[38;5;28;01mas\u001b[39;00m e:\n\u001b[1;32m     57\u001b[0m   \u001b[38;5;28;01mif\u001b[39;00m name \u001b[38;5;129;01mis\u001b[39;00m \u001b[38;5;129;01mnot\u001b[39;00m \u001b[38;5;28;01mNone\u001b[39;00m:\n",
      "\u001b[0;31mInvalidArgumentError\u001b[0m: Graph execution error:\n\nDetected at node 'model_1/decoder/x_layer/IndependentNormal/Reshape' defined at (most recent call last):\n    File \"/usr/lib/python3.8/runpy.py\", line 194, in _run_module_as_main\n      return _run_code(code, main_globals, None,\n    File \"/usr/lib/python3.8/runpy.py\", line 87, in _run_code\n      exec(code, run_globals)\n    File \"/usr/local/lib/python3.8/dist-packages/ipykernel_launcher.py\", line 17, in <module>\n      app.launch_new_instance()\n    File \"/usr/local/lib/python3.8/dist-packages/traitlets/config/application.py\", line 972, in launch_instance\n      app.start()\n    File \"/usr/local/lib/python3.8/dist-packages/ipykernel/kernelapp.py\", line 712, in start\n      self.io_loop.start()\n    File \"/usr/local/lib/python3.8/dist-packages/tornado/platform/asyncio.py\", line 199, in start\n      self.asyncio_loop.run_forever()\n    File \"/usr/lib/python3.8/asyncio/base_events.py\", line 570, in run_forever\n      self._run_once()\n    File \"/usr/lib/python3.8/asyncio/base_events.py\", line 1859, in _run_once\n      handle._run()\n    File \"/usr/lib/python3.8/asyncio/events.py\", line 81, in _run\n      self._context.run(self._callback, *self._args)\n    File \"/usr/local/lib/python3.8/dist-packages/ipykernel/kernelbase.py\", line 504, in dispatch_queue\n      await self.process_one()\n    File \"/usr/local/lib/python3.8/dist-packages/ipykernel/kernelbase.py\", line 493, in process_one\n      await dispatch(*args)\n    File \"/usr/local/lib/python3.8/dist-packages/ipykernel/kernelbase.py\", line 400, in dispatch_shell\n      await result\n    File \"/usr/local/lib/python3.8/dist-packages/ipykernel/kernelbase.py\", line 724, in execute_request\n      reply_content = await reply_content\n    File \"/usr/local/lib/python3.8/dist-packages/ipykernel/ipkernel.py\", line 383, in do_execute\n      res = shell.run_cell(\n    File \"/usr/local/lib/python3.8/dist-packages/ipykernel/zmqshell.py\", line 528, in run_cell\n      return super().run_cell(*args, **kwargs)\n    File \"/usr/local/lib/python3.8/dist-packages/IPython/core/interactiveshell.py\", line 2880, in run_cell\n      result = self._run_cell(\n    File \"/usr/local/lib/python3.8/dist-packages/IPython/core/interactiveshell.py\", line 2935, in _run_cell\n      return runner(coro)\n    File \"/usr/local/lib/python3.8/dist-packages/IPython/core/async_helpers.py\", line 129, in _pseudo_sync_runner\n      coro.send(None)\n    File \"/usr/local/lib/python3.8/dist-packages/IPython/core/interactiveshell.py\", line 3134, in run_cell_async\n      has_raised = await self.run_ast_nodes(code_ast.body, cell_name,\n    File \"/usr/local/lib/python3.8/dist-packages/IPython/core/interactiveshell.py\", line 3337, in run_ast_nodes\n      if await self.run_code(code, result, async_=asy):\n    File \"/usr/local/lib/python3.8/dist-packages/IPython/core/interactiveshell.py\", line 3397, in run_code\n      exec(code_obj, self.user_global_ns, self.user_ns)\n    File \"/tmp/ipykernel_498/4011314736.py\", line 15, in <cell line: 15>\n      loss_history = AE.fit(\n    File \"/usr/local/lib/python3.8/dist-packages/keras/utils/traceback_utils.py\", line 64, in error_handler\n      return fn(*args, **kwargs)\n    File \"/usr/local/lib/python3.8/dist-packages/keras/engine/training.py\", line 1384, in fit\n      tmp_logs = self.train_function(iterator)\n    File \"/usr/local/lib/python3.8/dist-packages/keras/engine/training.py\", line 1021, in train_function\n      return step_function(self, iterator)\n    File \"/usr/local/lib/python3.8/dist-packages/keras/engine/training.py\", line 1010, in step_function\n      outputs = model.distribute_strategy.run(run_step, args=(data,))\n    File \"/usr/local/lib/python3.8/dist-packages/keras/engine/training.py\", line 1000, in run_step\n      outputs = model.train_step(data)\n    File \"/usr/local/lib/python3.8/dist-packages/keras/engine/training.py\", line 859, in train_step\n      y_pred = self(x, training=True)\n    File \"/usr/local/lib/python3.8/dist-packages/keras/utils/traceback_utils.py\", line 64, in error_handler\n      return fn(*args, **kwargs)\n    File \"/usr/local/lib/python3.8/dist-packages/keras/engine/base_layer.py\", line 1096, in __call__\n      outputs = call_fn(inputs, *args, **kwargs)\n    File \"/usr/local/lib/python3.8/dist-packages/keras/utils/traceback_utils.py\", line 92, in error_handler\n      return fn(*args, **kwargs)\n    File \"/usr/local/lib/python3.8/dist-packages/keras/engine/functional.py\", line 451, in call\n      return self._run_internal_graph(\n    File \"/usr/local/lib/python3.8/dist-packages/keras/engine/functional.py\", line 589, in _run_internal_graph\n      outputs = node.layer(*args, **kwargs)\n    File \"/usr/local/lib/python3.8/dist-packages/keras/utils/traceback_utils.py\", line 64, in error_handler\n      return fn(*args, **kwargs)\n    File \"/usr/local/lib/python3.8/dist-packages/keras/engine/base_layer.py\", line 1096, in __call__\n      outputs = call_fn(inputs, *args, **kwargs)\n    File \"/usr/local/lib/python3.8/dist-packages/keras/utils/traceback_utils.py\", line 92, in error_handler\n      return fn(*args, **kwargs)\n    File \"/usr/local/lib/python3.8/dist-packages/keras/engine/sequential.py\", line 374, in call\n      return super(Sequential, self).call(inputs, training=training, mask=mask)\n    File \"/usr/local/lib/python3.8/dist-packages/keras/engine/functional.py\", line 451, in call\n      return self._run_internal_graph(\n    File \"/usr/local/lib/python3.8/dist-packages/keras/engine/functional.py\", line 589, in _run_internal_graph\n      outputs = node.layer(*args, **kwargs)\n    File \"/usr/local/lib/python3.8/dist-packages/tensorflow_probability/python/layers/distribution_layer.py\", line 220, in __call__\n      distribution, _ = super(DistributionLambda, self).__call__(\n    File \"/usr/local/lib/python3.8/dist-packages/keras/utils/traceback_utils.py\", line 64, in error_handler\n      return fn(*args, **kwargs)\n    File \"/usr/local/lib/python3.8/dist-packages/keras/engine/base_layer.py\", line 1096, in __call__\n      outputs = call_fn(inputs, *args, **kwargs)\n    File \"/usr/local/lib/python3.8/dist-packages/keras/utils/traceback_utils.py\", line 92, in error_handler\n      return fn(*args, **kwargs)\n    File \"/usr/local/lib/python3.8/dist-packages/tensorflow_probability/python/layers/distribution_layer.py\", line 226, in call\n      distribution, value = super(DistributionLambda, self).call(\n    File \"/usr/local/lib/python3.8/dist-packages/keras/layers/core/lambda_layer.py\", line 196, in call\n      result = self.function(inputs, **kwargs)\n    File \"/usr/local/lib/python3.8/dist-packages/tensorflow_probability/python/layers/distribution_layer.py\", line 166, in _fn\n      d = make_distribution_fn(*fargs, **fkwargs)\n    File \"/usr/local/lib/python3.8/dist-packages/tensorflow_probability/python/layers/distribution_layer.py\", line 952, in <lambda>\n      lambda t: IndependentNormal.new(t, event_shape, validate_args),\n    File \"/usr/local/lib/python3.8/dist-packages/tensorflow_probability/python/layers/distribution_layer.py\", line 977, in new\n      loc=tf.reshape(loc_params, output_shape),\nNode: 'model_1/decoder/x_layer/IndependentNormal/Reshape'\nInput to reshape is a tensor with 204800 values, but the requested shape has 102400\n\t [[{{node model_1/decoder/x_layer/IndependentNormal/Reshape}}]] [Op:__inference_train_function_6257]"
     ]
    }
   ],
   "source": [
    "# steps_per_epoch = 2048\n",
    "# validation_steps = 100\n",
    "n_epochs = 1\n",
    "\n",
    "# train_callbacks = [\n",
    "#     tf.keras.callbacks.ModelCheckpoint(\n",
    "#         model_path, monitor='val_loss',\n",
    "#         save_best_only=True, verbose=1,\n",
    "#         save_weights_only=False),\n",
    "#     tf.keras.callbacks.ReduceLROnPlateau(\n",
    "#         monitor='val_loss', factor=0.5, verbose=1,\n",
    "#         patience=3, min_lr=1e-7)\n",
    "# ]\n",
    "\n",
    "loss_history = AE.fit(\n",
    "    train_ds,\n",
    "#    steps_per_epoch=steps_per_epoch,\n",
    "#    validation_data=val_ds,\n",
    "#    validation_steps=validation_steps,\n",
    "    epochs=n_epochs,\n",
    "    verbose=1,\n",
    "#    callbacks=train_callbacks\n",
    ")"
   ]
  },
  {
   "cell_type": "code",
   "execution_count": null,
   "id": "6dccfc1e",
   "metadata": {},
   "outputs": [],
   "source": []
  }
 ],
 "metadata": {
  "kernelspec": {
   "display_name": "Python 3 (ipykernel)",
   "language": "python",
   "name": "python3"
  },
  "language_info": {
   "codemirror_mode": {
    "name": "ipython",
    "version": 3
   },
   "file_extension": ".py",
   "mimetype": "text/x-python",
   "name": "python",
   "nbconvert_exporter": "python",
   "pygments_lexer": "ipython3",
   "version": "3.8.10"
  }
 },
 "nbformat": 4,
 "nbformat_minor": 5
}
