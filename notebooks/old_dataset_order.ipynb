{
 "cells": [
  {
   "cell_type": "code",
   "execution_count": 1,
   "id": "4e515fcb",
   "metadata": {},
   "outputs": [
    {
     "name": "stdout",
     "output_type": "stream",
     "text": [
      "2.8.0\n"
     ]
    }
   ],
   "source": [
    "import os\n",
    "import numpy as np\n",
    "\n",
    "import tensorflow as tf\n",
    "import tensorflow_addons as tfa\n",
    "gpus = tf.config.experimental.list_physical_devices('GPU')\n",
    "for gpu in gpus:\n",
    "      tf.config.experimental.set_memory_growth(gpu, True)\n",
    "print(tf.__version__)\n",
    "AUTOTUNE = tf.data.experimental.AUTOTUNE\n",
    "\n",
    "import deepcell\n",
    "# Changed from before due to new placement of Track, concat_tracks\n",
    "from deepcell_tracking.utils import load_trks\n",
    "from deepcell.data.tracking import Track, concat_tracks\n",
    "##############\n",
    "from sklearn.model_selection import train_test_split\n",
    "from deepcell.utils.data_utils import reshape_movie\n",
    "from deepcell.utils.transform_utils import erode_edges\n",
    "from deepcell.data import split_dataset\n",
    "from deepcell_toolbox.processing import normalize, histogram_normalization\n",
    "\n",
    "import spektral"
   ]
  },
  {
   "cell_type": "code",
   "execution_count": 2,
   "id": "fced1d89",
   "metadata": {},
   "outputs": [],
   "source": [
    "# data loading\n",
    "\n",
    "path_temp_trks = '/data/3T3_nuc_s0-s2.trks'\n",
    "all_data = [load_trks(path_temp_trks)]"
   ]
  },
  {
   "cell_type": "code",
   "execution_count": 3,
   "id": "c8c0aab7",
   "metadata": {},
   "outputs": [
    {
     "name": "stderr",
     "output_type": "stream",
     "text": [
      " 75%|█████████████████████████████████           | 9/12 [00:29<00:08,  2.90s/it]/usr/local/lib/python3.8/dist-packages/deepcell_tracking/utils.py:544: UserWarning: Lineage 57 has daughter 78 in a non-subsequent frame.\n",
      "  warnings.warn('Lineage {} has daughter {} in a '\n",
      "/usr/local/lib/python3.8/dist-packages/deepcell_tracking/utils.py:569: UserWarning: Cell 57 ends in frame 10 but daughter 78 first appears in frame 12.\n",
      "  warnings.warn(\n",
      "100%|███████████████████████████████████████████| 12/12 [00:37<00:00,  3.13s/it]\n",
      "100%|███████████████████████████████████████████| 11/11 [00:48<00:00,  4.45s/it]\n",
      "2022-06-28 04:38:51.836599: I tensorflow/core/platform/cpu_feature_guard.cc:151] This TensorFlow binary is optimized with oneAPI Deep Neural Network Library (oneDNN) to use the following CPU instructions in performance-critical operations:  AVX2 FMA\n",
      "To enable them in other operations, rebuild TensorFlow with the appropriate compiler flags.\n",
      "2022-06-28 04:38:52.536792: I tensorflow/core/common_runtime/gpu/gpu_device.cc:1525] Created device /job:localhost/replica:0/task:0/device:GPU:0 with 10415 MB memory:  -> device: 0, name: NVIDIA GeForce GTX 1080 Ti, pci bus id: 0000:09:00.0, compute capability: 6.1\n"
     ]
    },
    {
     "name": "stdout",
     "output_type": "stream",
     "text": [
      "CPU times: user 1min 38s, sys: 7.29 s, total: 1min 46s\n",
      "Wall time: 1min 33s\n"
     ]
    }
   ],
   "source": [
    "%%time\n",
    "all_tracks = [Track(tracked_data=d) for d in all_data]"
   ]
  },
  {
   "cell_type": "code",
   "execution_count": 4,
   "id": "db5f3e6d",
   "metadata": {},
   "outputs": [
    {
     "name": "stdout",
     "output_type": "stream",
     "text": [
      "CPU times: user 154 ms, sys: 204 ms, total: 357 ms\n",
      "Wall time: 355 ms\n"
     ]
    }
   ],
   "source": [
    "%%time\n",
    "track_info = concat_tracks(all_tracks)"
   ]
  },
  {
   "cell_type": "code",
   "execution_count": 5,
   "id": "f615b9af",
   "metadata": {},
   "outputs": [],
   "source": [
    "from skimage.exposure import rescale_intensity\n",
    "\n",
    "def norm(X):\n",
    "    X_norm = histogram_normalization(X, kernel_size=32)\n",
    "    \n",
    "    X_rescaled = np.zeros(X_norm.shape)\n",
    "    for batch in range(X.shape[0]):\n",
    "        for frame in range(X.shape[1]):\n",
    "            x = X[batch, frame]\n",
    "            x = rescale_intensity(x, out_range=(0,1))\n",
    "            X_rescaled[batch, frame] = x\n",
    "            \n",
    "    return X_rescaled"
   ]
  },
  {
   "cell_type": "code",
   "execution_count": 6,
   "id": "0d27f8ad",
   "metadata": {},
   "outputs": [
    {
     "name": "stdout",
     "output_type": "stream",
     "text": [
      "appearances (11, 71, 168, 32, 32, 1)\n",
      "centroids (11, 71, 168, 2)\n",
      "morphologies (11, 71, 168, 3)\n",
      "adj_matrices (11, 71, 168, 168)\n",
      "norm_adj_matrices (11, 71, 168, 168)\n",
      "temporal_adj_matrices (11, 70, 168, 168, 3)\n"
     ]
    }
   ],
   "source": [
    "for k, v in track_info.items():\n",
    "    print(k, v.shape)"
   ]
  },
  {
   "cell_type": "code",
   "execution_count": 7,
   "id": "2e615180",
   "metadata": {
    "scrolled": true
   },
   "outputs": [
    {
     "name": "stderr",
     "output_type": "stream",
     "text": [
      "WARNING:root:Found constant value array in batch 137 and channel 0. Normalizing as zeros.\n",
      "WARNING:root:Found constant value array in batch 138 and channel 0. Normalizing as zeros.\n",
      "WARNING:root:Found constant value array in batch 139 and channel 0. Normalizing as zeros.\n",
      "WARNING:root:Found constant value array in batch 140 and channel 0. Normalizing as zeros.\n",
      "WARNING:root:Found constant value array in batch 141 and channel 0. Normalizing as zeros.\n",
      "WARNING:root:Found constant value array in batch 142 and channel 0. Normalizing as zeros.\n",
      "WARNING:root:Found constant value array in batch 143 and channel 0. Normalizing as zeros.\n",
      "WARNING:root:Found constant value array in batch 144 and channel 0. Normalizing as zeros.\n",
      "WARNING:root:Found constant value array in batch 145 and channel 0. Normalizing as zeros.\n",
      "WARNING:root:Found constant value array in batch 146 and channel 0. Normalizing as zeros.\n",
      "WARNING:root:Found constant value array in batch 147 and channel 0. Normalizing as zeros.\n",
      "WARNING:root:Found constant value array in batch 148 and channel 0. Normalizing as zeros.\n",
      "WARNING:root:Found constant value array in batch 149 and channel 0. Normalizing as zeros.\n",
      "WARNING:root:Found constant value array in batch 150 and channel 0. Normalizing as zeros.\n",
      "WARNING:root:Found constant value array in batch 151 and channel 0. Normalizing as zeros.\n",
      "WARNING:root:Found constant value array in batch 152 and channel 0. Normalizing as zeros.\n",
      "WARNING:root:Found constant value array in batch 153 and channel 0. Normalizing as zeros.\n",
      "WARNING:root:Found constant value array in batch 154 and channel 0. Normalizing as zeros.\n",
      "WARNING:root:Found constant value array in batch 155 and channel 0. Normalizing as zeros.\n",
      "WARNING:root:Found constant value array in batch 156 and channel 0. Normalizing as zeros.\n",
      "WARNING:root:Found constant value array in batch 157 and channel 0. Normalizing as zeros.\n",
      "WARNING:root:Found constant value array in batch 158 and channel 0. Normalizing as zeros.\n",
      "WARNING:root:Found constant value array in batch 159 and channel 0. Normalizing as zeros.\n",
      "WARNING:root:Found constant value array in batch 160 and channel 0. Normalizing as zeros.\n",
      "WARNING:root:Found constant value array in batch 161 and channel 0. Normalizing as zeros.\n",
      "WARNING:root:Found constant value array in batch 162 and channel 0. Normalizing as zeros.\n",
      "WARNING:root:Found constant value array in batch 163 and channel 0. Normalizing as zeros.\n",
      "WARNING:root:Found constant value array in batch 164 and channel 0. Normalizing as zeros.\n",
      "WARNING:root:Found constant value array in batch 165 and channel 0. Normalizing as zeros.\n",
      "WARNING:root:Found constant value array in batch 166 and channel 0. Normalizing as zeros.\n",
      "WARNING:root:Found constant value array in batch 167 and channel 0. Normalizing as zeros.\n",
      "WARNING:root:Found constant value array in batch 470 and channel 0. Normalizing as zeros.\n",
      "WARNING:root:Found constant value array in batch 471 and channel 0. Normalizing as zeros.\n",
      "WARNING:root:Found constant value array in batch 472 and channel 0. Normalizing as zeros.\n",
      "WARNING:root:Found constant value array in batch 473 and channel 0. Normalizing as zeros.\n",
      "WARNING:root:Found constant value array in batch 474 and channel 0. Normalizing as zeros.\n",
      "WARNING:root:Found constant value array in batch 475 and channel 0. Normalizing as zeros.\n",
      "WARNING:root:Found constant value array in batch 476 and channel 0. Normalizing as zeros.\n",
      "WARNING:root:Found constant value array in batch 477 and channel 0. Normalizing as zeros.\n",
      "WARNING:root:Found constant value array in batch 478 and channel 0. Normalizing as zeros.\n",
      "WARNING:root:Found constant value array in batch 479 and channel 0. Normalizing as zeros.\n",
      "WARNING:root:Found constant value array in batch 480 and channel 0. Normalizing as zeros.\n",
      "WARNING:root:Found constant value array in batch 481 and channel 0. Normalizing as zeros.\n",
      "WARNING:root:Found constant value array in batch 482 and channel 0. Normalizing as zeros.\n",
      "WARNING:root:Found constant value array in batch 483 and channel 0. Normalizing as zeros.\n",
      "WARNING:root:Found constant value array in batch 484 and channel 0. Normalizing as zeros.\n",
      "WARNING:root:Found constant value array in batch 485 and channel 0. Normalizing as zeros.\n",
      "WARNING:root:Found constant value array in batch 486 and channel 0. Normalizing as zeros.\n",
      "WARNING:root:Found constant value array in batch 487 and channel 0. Normalizing as zeros.\n",
      "WARNING:root:Found constant value array in batch 488 and channel 0. Normalizing as zeros.\n",
      "WARNING:root:Found constant value array in batch 489 and channel 0. Normalizing as zeros.\n",
      "WARNING:root:Found constant value array in batch 490 and channel 0. Normalizing as zeros.\n",
      "WARNING:root:Found constant value array in batch 491 and channel 0. Normalizing as zeros.\n",
      "WARNING:root:Found constant value array in batch 492 and channel 0. Normalizing as zeros.\n",
      "WARNING:root:Found constant value array in batch 493 and channel 0. Normalizing as zeros.\n",
      "WARNING:root:Found constant value array in batch 494 and channel 0. Normalizing as zeros.\n",
      "WARNING:root:Found constant value array in batch 495 and channel 0. Normalizing as zeros.\n",
      "WARNING:root:Found constant value array in batch 496 and channel 0. Normalizing as zeros.\n",
      "WARNING:root:Found constant value array in batch 497 and channel 0. Normalizing as zeros.\n",
      "WARNING:root:Found constant value array in batch 498 and channel 0. Normalizing as zeros.\n",
      "WARNING:root:Found constant value array in batch 499 and channel 0. Normalizing as zeros.\n",
      "WARNING:root:Found constant value array in batch 500 and channel 0. Normalizing as zeros.\n",
      "WARNING:root:Found constant value array in batch 501 and channel 0. Normalizing as zeros.\n",
      "WARNING:root:Found constant value array in batch 502 and channel 0. Normalizing as zeros.\n",
      "WARNING:root:Found constant value array in batch 503 and channel 0. Normalizing as zeros.\n",
      "WARNING:root:Found constant value array in batch 654 and channel 0. Normalizing as zeros.\n",
      "WARNING:root:Found constant value array in batch 655 and channel 0. Normalizing as zeros.\n",
      "WARNING:root:Found constant value array in batch 656 and channel 0. Normalizing as zeros.\n",
      "WARNING:root:Found constant value array in batch 657 and channel 0. Normalizing as zeros.\n",
      "WARNING:root:Found constant value array in batch 658 and channel 0. Normalizing as zeros.\n",
      "WARNING:root:Found constant value array in batch 659 and channel 0. Normalizing as zeros.\n",
      "WARNING:root:Found constant value array in batch 660 and channel 0. Normalizing as zeros.\n",
      "WARNING:root:Found constant value array in batch 661 and channel 0. Normalizing as zeros.\n",
      "WARNING:root:Found constant value array in batch 662 and channel 0. Normalizing as zeros.\n",
      "WARNING:root:Found constant value array in batch 663 and channel 0. Normalizing as zeros.\n",
      "WARNING:root:Found constant value array in batch 664 and channel 0. Normalizing as zeros.\n",
      "WARNING:root:Found constant value array in batch 665 and channel 0. Normalizing as zeros.\n",
      "WARNING:root:Found constant value array in batch 666 and channel 0. Normalizing as zeros.\n",
      "WARNING:root:Found constant value array in batch 667 and channel 0. Normalizing as zeros.\n",
      "WARNING:root:Found constant value array in batch 668 and channel 0. Normalizing as zeros.\n",
      "WARNING:root:Found constant value array in batch 669 and channel 0. Normalizing as zeros.\n",
      "WARNING:root:Found constant value array in batch 670 and channel 0. Normalizing as zeros.\n",
      "WARNING:root:Found constant value array in batch 671 and channel 0. Normalizing as zeros.\n",
      "WARNING:root:Found constant value array in batch 778 and channel 0. Normalizing as zeros.\n",
      "WARNING:root:Found constant value array in batch 779 and channel 0. Normalizing as zeros.\n",
      "WARNING:root:Found constant value array in batch 780 and channel 0. Normalizing as zeros.\n",
      "WARNING:root:Found constant value array in batch 781 and channel 0. Normalizing as zeros.\n",
      "WARNING:root:Found constant value array in batch 782 and channel 0. Normalizing as zeros.\n",
      "WARNING:root:Found constant value array in batch 783 and channel 0. Normalizing as zeros.\n",
      "WARNING:root:Found constant value array in batch 784 and channel 0. Normalizing as zeros.\n",
      "WARNING:root:Found constant value array in batch 785 and channel 0. Normalizing as zeros.\n",
      "WARNING:root:Found constant value array in batch 786 and channel 0. Normalizing as zeros.\n"
     ]
    },
    {
     "name": "stderr",
     "output_type": "stream",
     "text": [
      "WARNING:root:Found constant value array in batch 787 and channel 0. Normalizing as zeros.\n",
      "WARNING:root:Found constant value array in batch 788 and channel 0. Normalizing as zeros.\n",
      "WARNING:root:Found constant value array in batch 789 and channel 0. Normalizing as zeros.\n",
      "WARNING:root:Found constant value array in batch 790 and channel 0. Normalizing as zeros.\n",
      "WARNING:root:Found constant value array in batch 791 and channel 0. Normalizing as zeros.\n",
      "WARNING:root:Found constant value array in batch 792 and channel 0. Normalizing as zeros.\n",
      "WARNING:root:Found constant value array in batch 793 and channel 0. Normalizing as zeros.\n",
      "WARNING:root:Found constant value array in batch 794 and channel 0. Normalizing as zeros.\n",
      "WARNING:root:Found constant value array in batch 795 and channel 0. Normalizing as zeros.\n",
      "WARNING:root:Found constant value array in batch 796 and channel 0. Normalizing as zeros.\n",
      "WARNING:root:Found constant value array in batch 797 and channel 0. Normalizing as zeros.\n",
      "WARNING:root:Found constant value array in batch 798 and channel 0. Normalizing as zeros.\n",
      "WARNING:root:Found constant value array in batch 799 and channel 0. Normalizing as zeros.\n",
      "WARNING:root:Found constant value array in batch 800 and channel 0. Normalizing as zeros.\n",
      "WARNING:root:Found constant value array in batch 801 and channel 0. Normalizing as zeros.\n",
      "WARNING:root:Found constant value array in batch 802 and channel 0. Normalizing as zeros.\n",
      "WARNING:root:Found constant value array in batch 803 and channel 0. Normalizing as zeros.\n",
      "WARNING:root:Found constant value array in batch 804 and channel 0. Normalizing as zeros.\n",
      "WARNING:root:Found constant value array in batch 805 and channel 0. Normalizing as zeros.\n",
      "WARNING:root:Found constant value array in batch 806 and channel 0. Normalizing as zeros.\n",
      "WARNING:root:Found constant value array in batch 807 and channel 0. Normalizing as zeros.\n",
      "WARNING:root:Found constant value array in batch 808 and channel 0. Normalizing as zeros.\n",
      "WARNING:root:Found constant value array in batch 809 and channel 0. Normalizing as zeros.\n",
      "WARNING:root:Found constant value array in batch 810 and channel 0. Normalizing as zeros.\n",
      "WARNING:root:Found constant value array in batch 811 and channel 0. Normalizing as zeros.\n",
      "WARNING:root:Found constant value array in batch 812 and channel 0. Normalizing as zeros.\n",
      "WARNING:root:Found constant value array in batch 813 and channel 0. Normalizing as zeros.\n",
      "WARNING:root:Found constant value array in batch 814 and channel 0. Normalizing as zeros.\n",
      "WARNING:root:Found constant value array in batch 815 and channel 0. Normalizing as zeros.\n",
      "WARNING:root:Found constant value array in batch 816 and channel 0. Normalizing as zeros.\n",
      "WARNING:root:Found constant value array in batch 817 and channel 0. Normalizing as zeros.\n",
      "WARNING:root:Found constant value array in batch 818 and channel 0. Normalizing as zeros.\n",
      "WARNING:root:Found constant value array in batch 819 and channel 0. Normalizing as zeros.\n",
      "WARNING:root:Found constant value array in batch 820 and channel 0. Normalizing as zeros.\n",
      "WARNING:root:Found constant value array in batch 821 and channel 0. Normalizing as zeros.\n",
      "WARNING:root:Found constant value array in batch 822 and channel 0. Normalizing as zeros.\n",
      "WARNING:root:Found constant value array in batch 823 and channel 0. Normalizing as zeros.\n",
      "WARNING:root:Found constant value array in batch 824 and channel 0. Normalizing as zeros.\n",
      "WARNING:root:Found constant value array in batch 825 and channel 0. Normalizing as zeros.\n",
      "WARNING:root:Found constant value array in batch 826 and channel 0. Normalizing as zeros.\n",
      "WARNING:root:Found constant value array in batch 827 and channel 0. Normalizing as zeros.\n",
      "WARNING:root:Found constant value array in batch 828 and channel 0. Normalizing as zeros.\n",
      "WARNING:root:Found constant value array in batch 829 and channel 0. Normalizing as zeros.\n",
      "WARNING:root:Found constant value array in batch 830 and channel 0. Normalizing as zeros.\n",
      "WARNING:root:Found constant value array in batch 831 and channel 0. Normalizing as zeros.\n",
      "WARNING:root:Found constant value array in batch 832 and channel 0. Normalizing as zeros.\n",
      "WARNING:root:Found constant value array in batch 833 and channel 0. Normalizing as zeros.\n",
      "WARNING:root:Found constant value array in batch 834 and channel 0. Normalizing as zeros.\n",
      "WARNING:root:Found constant value array in batch 835 and channel 0. Normalizing as zeros.\n",
      "WARNING:root:Found constant value array in batch 836 and channel 0. Normalizing as zeros.\n",
      "WARNING:root:Found constant value array in batch 837 and channel 0. Normalizing as zeros.\n",
      "WARNING:root:Found constant value array in batch 838 and channel 0. Normalizing as zeros.\n",
      "WARNING:root:Found constant value array in batch 839 and channel 0. Normalizing as zeros.\n",
      "WARNING:root:Found constant value array in batch 940 and channel 0. Normalizing as zeros.\n",
      "WARNING:root:Found constant value array in batch 941 and channel 0. Normalizing as zeros.\n",
      "WARNING:root:Found constant value array in batch 942 and channel 0. Normalizing as zeros.\n",
      "WARNING:root:Found constant value array in batch 943 and channel 0. Normalizing as zeros.\n",
      "WARNING:root:Found constant value array in batch 944 and channel 0. Normalizing as zeros.\n",
      "WARNING:root:Found constant value array in batch 945 and channel 0. Normalizing as zeros.\n",
      "WARNING:root:Found constant value array in batch 946 and channel 0. Normalizing as zeros.\n",
      "WARNING:root:Found constant value array in batch 947 and channel 0. Normalizing as zeros.\n",
      "WARNING:root:Found constant value array in batch 948 and channel 0. Normalizing as zeros.\n",
      "WARNING:root:Found constant value array in batch 949 and channel 0. Normalizing as zeros.\n",
      "WARNING:root:Found constant value array in batch 950 and channel 0. Normalizing as zeros.\n",
      "WARNING:root:Found constant value array in batch 951 and channel 0. Normalizing as zeros.\n",
      "WARNING:root:Found constant value array in batch 952 and channel 0. Normalizing as zeros.\n",
      "WARNING:root:Found constant value array in batch 953 and channel 0. Normalizing as zeros.\n",
      "WARNING:root:Found constant value array in batch 954 and channel 0. Normalizing as zeros.\n",
      "WARNING:root:Found constant value array in batch 955 and channel 0. Normalizing as zeros.\n",
      "WARNING:root:Found constant value array in batch 956 and channel 0. Normalizing as zeros.\n",
      "WARNING:root:Found constant value array in batch 957 and channel 0. Normalizing as zeros.\n",
      "WARNING:root:Found constant value array in batch 958 and channel 0. Normalizing as zeros.\n",
      "WARNING:root:Found constant value array in batch 959 and channel 0. Normalizing as zeros.\n",
      "WARNING:root:Found constant value array in batch 960 and channel 0. Normalizing as zeros.\n",
      "WARNING:root:Found constant value array in batch 961 and channel 0. Normalizing as zeros.\n",
      "WARNING:root:Found constant value array in batch 962 and channel 0. Normalizing as zeros.\n",
      "WARNING:root:Found constant value array in batch 963 and channel 0. Normalizing as zeros.\n",
      "WARNING:root:Found constant value array in batch 964 and channel 0. Normalizing as zeros.\n",
      "WARNING:root:Found constant value array in batch 965 and channel 0. Normalizing as zeros.\n",
      "WARNING:root:Found constant value array in batch 966 and channel 0. Normalizing as zeros.\n",
      "WARNING:root:Found constant value array in batch 967 and channel 0. Normalizing as zeros.\n",
      "WARNING:root:Found constant value array in batch 968 and channel 0. Normalizing as zeros.\n",
      "WARNING:root:Found constant value array in batch 969 and channel 0. Normalizing as zeros.\n",
      "WARNING:root:Found constant value array in batch 970 and channel 0. Normalizing as zeros.\n",
      "WARNING:root:Found constant value array in batch 971 and channel 0. Normalizing as zeros.\n",
      "WARNING:root:Found constant value array in batch 972 and channel 0. Normalizing as zeros.\n",
      "WARNING:root:Found constant value array in batch 973 and channel 0. Normalizing as zeros.\n",
      "WARNING:root:Found constant value array in batch 974 and channel 0. Normalizing as zeros.\n",
      "WARNING:root:Found constant value array in batch 975 and channel 0. Normalizing as zeros.\n",
      "WARNING:root:Found constant value array in batch 976 and channel 0. Normalizing as zeros.\n",
      "WARNING:root:Found constant value array in batch 977 and channel 0. Normalizing as zeros.\n",
      "WARNING:root:Found constant value array in batch 978 and channel 0. Normalizing as zeros.\n"
     ]
    },
    {
     "name": "stderr",
     "output_type": "stream",
     "text": [
      "WARNING:root:Found constant value array in batch 979 and channel 0. Normalizing as zeros.\n",
      "WARNING:root:Found constant value array in batch 980 and channel 0. Normalizing as zeros.\n",
      "WARNING:root:Found constant value array in batch 981 and channel 0. Normalizing as zeros.\n",
      "WARNING:root:Found constant value array in batch 982 and channel 0. Normalizing as zeros.\n",
      "WARNING:root:Found constant value array in batch 983 and channel 0. Normalizing as zeros.\n",
      "WARNING:root:Found constant value array in batch 984 and channel 0. Normalizing as zeros.\n",
      "WARNING:root:Found constant value array in batch 985 and channel 0. Normalizing as zeros.\n",
      "WARNING:root:Found constant value array in batch 986 and channel 0. Normalizing as zeros.\n",
      "WARNING:root:Found constant value array in batch 987 and channel 0. Normalizing as zeros.\n",
      "WARNING:root:Found constant value array in batch 988 and channel 0. Normalizing as zeros.\n",
      "WARNING:root:Found constant value array in batch 989 and channel 0. Normalizing as zeros.\n",
      "WARNING:root:Found constant value array in batch 990 and channel 0. Normalizing as zeros.\n",
      "WARNING:root:Found constant value array in batch 991 and channel 0. Normalizing as zeros.\n",
      "WARNING:root:Found constant value array in batch 992 and channel 0. Normalizing as zeros.\n",
      "WARNING:root:Found constant value array in batch 993 and channel 0. Normalizing as zeros.\n",
      "WARNING:root:Found constant value array in batch 994 and channel 0. Normalizing as zeros.\n",
      "WARNING:root:Found constant value array in batch 995 and channel 0. Normalizing as zeros.\n",
      "WARNING:root:Found constant value array in batch 996 and channel 0. Normalizing as zeros.\n",
      "WARNING:root:Found constant value array in batch 997 and channel 0. Normalizing as zeros.\n",
      "WARNING:root:Found constant value array in batch 998 and channel 0. Normalizing as zeros.\n",
      "WARNING:root:Found constant value array in batch 999 and channel 0. Normalizing as zeros.\n",
      "WARNING:root:Found constant value array in batch 1000 and channel 0. Normalizing as zeros.\n",
      "WARNING:root:Found constant value array in batch 1001 and channel 0. Normalizing as zeros.\n",
      "WARNING:root:Found constant value array in batch 1002 and channel 0. Normalizing as zeros.\n",
      "WARNING:root:Found constant value array in batch 1003 and channel 0. Normalizing as zeros.\n",
      "WARNING:root:Found constant value array in batch 1004 and channel 0. Normalizing as zeros.\n",
      "WARNING:root:Found constant value array in batch 1005 and channel 0. Normalizing as zeros.\n",
      "WARNING:root:Found constant value array in batch 1006 and channel 0. Normalizing as zeros.\n",
      "WARNING:root:Found constant value array in batch 1007 and channel 0. Normalizing as zeros.\n",
      "WARNING:root:Found constant value array in batch 1110 and channel 0. Normalizing as zeros.\n",
      "WARNING:root:Found constant value array in batch 1111 and channel 0. Normalizing as zeros.\n",
      "WARNING:root:Found constant value array in batch 1112 and channel 0. Normalizing as zeros.\n",
      "WARNING:root:Found constant value array in batch 1113 and channel 0. Normalizing as zeros.\n",
      "WARNING:root:Found constant value array in batch 1114 and channel 0. Normalizing as zeros.\n",
      "WARNING:root:Found constant value array in batch 1115 and channel 0. Normalizing as zeros.\n",
      "WARNING:root:Found constant value array in batch 1116 and channel 0. Normalizing as zeros.\n",
      "WARNING:root:Found constant value array in batch 1117 and channel 0. Normalizing as zeros.\n",
      "WARNING:root:Found constant value array in batch 1118 and channel 0. Normalizing as zeros.\n",
      "WARNING:root:Found constant value array in batch 1119 and channel 0. Normalizing as zeros.\n",
      "WARNING:root:Found constant value array in batch 1120 and channel 0. Normalizing as zeros.\n",
      "WARNING:root:Found constant value array in batch 1121 and channel 0. Normalizing as zeros.\n",
      "WARNING:root:Found constant value array in batch 1122 and channel 0. Normalizing as zeros.\n",
      "WARNING:root:Found constant value array in batch 1123 and channel 0. Normalizing as zeros.\n",
      "WARNING:root:Found constant value array in batch 1124 and channel 0. Normalizing as zeros.\n",
      "WARNING:root:Found constant value array in batch 1125 and channel 0. Normalizing as zeros.\n",
      "WARNING:root:Found constant value array in batch 1126 and channel 0. Normalizing as zeros.\n",
      "WARNING:root:Found constant value array in batch 1127 and channel 0. Normalizing as zeros.\n",
      "WARNING:root:Found constant value array in batch 1128 and channel 0. Normalizing as zeros.\n",
      "WARNING:root:Found constant value array in batch 1129 and channel 0. Normalizing as zeros.\n",
      "WARNING:root:Found constant value array in batch 1130 and channel 0. Normalizing as zeros.\n",
      "WARNING:root:Found constant value array in batch 1131 and channel 0. Normalizing as zeros.\n",
      "WARNING:root:Found constant value array in batch 1132 and channel 0. Normalizing as zeros.\n",
      "WARNING:root:Found constant value array in batch 1133 and channel 0. Normalizing as zeros.\n",
      "WARNING:root:Found constant value array in batch 1134 and channel 0. Normalizing as zeros.\n",
      "WARNING:root:Found constant value array in batch 1135 and channel 0. Normalizing as zeros.\n",
      "WARNING:root:Found constant value array in batch 1136 and channel 0. Normalizing as zeros.\n",
      "WARNING:root:Found constant value array in batch 1137 and channel 0. Normalizing as zeros.\n",
      "WARNING:root:Found constant value array in batch 1138 and channel 0. Normalizing as zeros.\n",
      "WARNING:root:Found constant value array in batch 1139 and channel 0. Normalizing as zeros.\n",
      "WARNING:root:Found constant value array in batch 1140 and channel 0. Normalizing as zeros.\n",
      "WARNING:root:Found constant value array in batch 1141 and channel 0. Normalizing as zeros.\n",
      "WARNING:root:Found constant value array in batch 1142 and channel 0. Normalizing as zeros.\n",
      "WARNING:root:Found constant value array in batch 1143 and channel 0. Normalizing as zeros.\n",
      "WARNING:root:Found constant value array in batch 1144 and channel 0. Normalizing as zeros.\n",
      "WARNING:root:Found constant value array in batch 1145 and channel 0. Normalizing as zeros.\n",
      "WARNING:root:Found constant value array in batch 1146 and channel 0. Normalizing as zeros.\n",
      "WARNING:root:Found constant value array in batch 1147 and channel 0. Normalizing as zeros.\n",
      "WARNING:root:Found constant value array in batch 1148 and channel 0. Normalizing as zeros.\n",
      "WARNING:root:Found constant value array in batch 1149 and channel 0. Normalizing as zeros.\n",
      "WARNING:root:Found constant value array in batch 1150 and channel 0. Normalizing as zeros.\n",
      "WARNING:root:Found constant value array in batch 1151 and channel 0. Normalizing as zeros.\n",
      "WARNING:root:Found constant value array in batch 1152 and channel 0. Normalizing as zeros.\n",
      "WARNING:root:Found constant value array in batch 1153 and channel 0. Normalizing as zeros.\n",
      "WARNING:root:Found constant value array in batch 1154 and channel 0. Normalizing as zeros.\n",
      "WARNING:root:Found constant value array in batch 1155 and channel 0. Normalizing as zeros.\n",
      "WARNING:root:Found constant value array in batch 1156 and channel 0. Normalizing as zeros.\n",
      "WARNING:root:Found constant value array in batch 1157 and channel 0. Normalizing as zeros.\n",
      "WARNING:root:Found constant value array in batch 1158 and channel 0. Normalizing as zeros.\n",
      "WARNING:root:Found constant value array in batch 1159 and channel 0. Normalizing as zeros.\n",
      "WARNING:root:Found constant value array in batch 1160 and channel 0. Normalizing as zeros.\n",
      "WARNING:root:Found constant value array in batch 1161 and channel 0. Normalizing as zeros.\n",
      "WARNING:root:Found constant value array in batch 1162 and channel 0. Normalizing as zeros.\n",
      "WARNING:root:Found constant value array in batch 1163 and channel 0. Normalizing as zeros.\n",
      "WARNING:root:Found constant value array in batch 1164 and channel 0. Normalizing as zeros.\n",
      "WARNING:root:Found constant value array in batch 1165 and channel 0. Normalizing as zeros.\n",
      "WARNING:root:Found constant value array in batch 1166 and channel 0. Normalizing as zeros.\n",
      "WARNING:root:Found constant value array in batch 1167 and channel 0. Normalizing as zeros.\n",
      "WARNING:root:Found constant value array in batch 1168 and channel 0. Normalizing as zeros.\n",
      "WARNING:root:Found constant value array in batch 1169 and channel 0. Normalizing as zeros.\n",
      "WARNING:root:Found constant value array in batch 1170 and channel 0. Normalizing as zeros.\n",
      "WARNING:root:Found constant value array in batch 1171 and channel 0. Normalizing as zeros.\n"
     ]
    },
    {
     "name": "stderr",
     "output_type": "stream",
     "text": [
      "WARNING:root:Found constant value array in batch 1172 and channel 0. Normalizing as zeros.\n",
      "WARNING:root:Found constant value array in batch 1173 and channel 0. Normalizing as zeros.\n",
      "WARNING:root:Found constant value array in batch 1174 and channel 0. Normalizing as zeros.\n",
      "WARNING:root:Found constant value array in batch 1175 and channel 0. Normalizing as zeros.\n",
      "WARNING:root:Found constant value array in batch 1270 and channel 0. Normalizing as zeros.\n",
      "WARNING:root:Found constant value array in batch 1271 and channel 0. Normalizing as zeros.\n",
      "WARNING:root:Found constant value array in batch 1272 and channel 0. Normalizing as zeros.\n",
      "WARNING:root:Found constant value array in batch 1273 and channel 0. Normalizing as zeros.\n",
      "WARNING:root:Found constant value array in batch 1274 and channel 0. Normalizing as zeros.\n",
      "WARNING:root:Found constant value array in batch 1275 and channel 0. Normalizing as zeros.\n",
      "WARNING:root:Found constant value array in batch 1276 and channel 0. Normalizing as zeros.\n",
      "WARNING:root:Found constant value array in batch 1277 and channel 0. Normalizing as zeros.\n",
      "WARNING:root:Found constant value array in batch 1278 and channel 0. Normalizing as zeros.\n",
      "WARNING:root:Found constant value array in batch 1279 and channel 0. Normalizing as zeros.\n",
      "WARNING:root:Found constant value array in batch 1280 and channel 0. Normalizing as zeros.\n",
      "WARNING:root:Found constant value array in batch 1281 and channel 0. Normalizing as zeros.\n",
      "WARNING:root:Found constant value array in batch 1282 and channel 0. Normalizing as zeros.\n",
      "WARNING:root:Found constant value array in batch 1283 and channel 0. Normalizing as zeros.\n",
      "WARNING:root:Found constant value array in batch 1284 and channel 0. Normalizing as zeros.\n",
      "WARNING:root:Found constant value array in batch 1285 and channel 0. Normalizing as zeros.\n",
      "WARNING:root:Found constant value array in batch 1286 and channel 0. Normalizing as zeros.\n",
      "WARNING:root:Found constant value array in batch 1287 and channel 0. Normalizing as zeros.\n",
      "WARNING:root:Found constant value array in batch 1288 and channel 0. Normalizing as zeros.\n",
      "WARNING:root:Found constant value array in batch 1289 and channel 0. Normalizing as zeros.\n",
      "WARNING:root:Found constant value array in batch 1290 and channel 0. Normalizing as zeros.\n",
      "WARNING:root:Found constant value array in batch 1291 and channel 0. Normalizing as zeros.\n",
      "WARNING:root:Found constant value array in batch 1292 and channel 0. Normalizing as zeros.\n",
      "WARNING:root:Found constant value array in batch 1293 and channel 0. Normalizing as zeros.\n",
      "WARNING:root:Found constant value array in batch 1294 and channel 0. Normalizing as zeros.\n",
      "WARNING:root:Found constant value array in batch 1295 and channel 0. Normalizing as zeros.\n",
      "WARNING:root:Found constant value array in batch 1296 and channel 0. Normalizing as zeros.\n",
      "WARNING:root:Found constant value array in batch 1297 and channel 0. Normalizing as zeros.\n",
      "WARNING:root:Found constant value array in batch 1298 and channel 0. Normalizing as zeros.\n",
      "WARNING:root:Found constant value array in batch 1299 and channel 0. Normalizing as zeros.\n",
      "WARNING:root:Found constant value array in batch 1300 and channel 0. Normalizing as zeros.\n",
      "WARNING:root:Found constant value array in batch 1301 and channel 0. Normalizing as zeros.\n",
      "WARNING:root:Found constant value array in batch 1302 and channel 0. Normalizing as zeros.\n",
      "WARNING:root:Found constant value array in batch 1303 and channel 0. Normalizing as zeros.\n",
      "WARNING:root:Found constant value array in batch 1304 and channel 0. Normalizing as zeros.\n",
      "WARNING:root:Found constant value array in batch 1305 and channel 0. Normalizing as zeros.\n",
      "WARNING:root:Found constant value array in batch 1306 and channel 0. Normalizing as zeros.\n",
      "WARNING:root:Found constant value array in batch 1307 and channel 0. Normalizing as zeros.\n",
      "WARNING:root:Found constant value array in batch 1308 and channel 0. Normalizing as zeros.\n",
      "WARNING:root:Found constant value array in batch 1309 and channel 0. Normalizing as zeros.\n",
      "WARNING:root:Found constant value array in batch 1310 and channel 0. Normalizing as zeros.\n",
      "WARNING:root:Found constant value array in batch 1311 and channel 0. Normalizing as zeros.\n",
      "WARNING:root:Found constant value array in batch 1312 and channel 0. Normalizing as zeros.\n",
      "WARNING:root:Found constant value array in batch 1313 and channel 0. Normalizing as zeros.\n",
      "WARNING:root:Found constant value array in batch 1314 and channel 0. Normalizing as zeros.\n",
      "WARNING:root:Found constant value array in batch 1315 and channel 0. Normalizing as zeros.\n",
      "WARNING:root:Found constant value array in batch 1316 and channel 0. Normalizing as zeros.\n",
      "WARNING:root:Found constant value array in batch 1317 and channel 0. Normalizing as zeros.\n",
      "WARNING:root:Found constant value array in batch 1318 and channel 0. Normalizing as zeros.\n",
      "WARNING:root:Found constant value array in batch 1319 and channel 0. Normalizing as zeros.\n",
      "WARNING:root:Found constant value array in batch 1320 and channel 0. Normalizing as zeros.\n",
      "WARNING:root:Found constant value array in batch 1321 and channel 0. Normalizing as zeros.\n",
      "WARNING:root:Found constant value array in batch 1322 and channel 0. Normalizing as zeros.\n",
      "WARNING:root:Found constant value array in batch 1323 and channel 0. Normalizing as zeros.\n",
      "WARNING:root:Found constant value array in batch 1324 and channel 0. Normalizing as zeros.\n",
      "WARNING:root:Found constant value array in batch 1325 and channel 0. Normalizing as zeros.\n",
      "WARNING:root:Found constant value array in batch 1326 and channel 0. Normalizing as zeros.\n",
      "WARNING:root:Found constant value array in batch 1327 and channel 0. Normalizing as zeros.\n",
      "WARNING:root:Found constant value array in batch 1328 and channel 0. Normalizing as zeros.\n",
      "WARNING:root:Found constant value array in batch 1329 and channel 0. Normalizing as zeros.\n",
      "WARNING:root:Found constant value array in batch 1330 and channel 0. Normalizing as zeros.\n",
      "WARNING:root:Found constant value array in batch 1331 and channel 0. Normalizing as zeros.\n",
      "WARNING:root:Found constant value array in batch 1332 and channel 0. Normalizing as zeros.\n",
      "WARNING:root:Found constant value array in batch 1333 and channel 0. Normalizing as zeros.\n",
      "WARNING:root:Found constant value array in batch 1334 and channel 0. Normalizing as zeros.\n",
      "WARNING:root:Found constant value array in batch 1335 and channel 0. Normalizing as zeros.\n",
      "WARNING:root:Found constant value array in batch 1336 and channel 0. Normalizing as zeros.\n",
      "WARNING:root:Found constant value array in batch 1337 and channel 0. Normalizing as zeros.\n",
      "WARNING:root:Found constant value array in batch 1338 and channel 0. Normalizing as zeros.\n",
      "WARNING:root:Found constant value array in batch 1339 and channel 0. Normalizing as zeros.\n",
      "WARNING:root:Found constant value array in batch 1340 and channel 0. Normalizing as zeros.\n",
      "WARNING:root:Found constant value array in batch 1341 and channel 0. Normalizing as zeros.\n",
      "WARNING:root:Found constant value array in batch 1342 and channel 0. Normalizing as zeros.\n",
      "WARNING:root:Found constant value array in batch 1343 and channel 0. Normalizing as zeros.\n",
      "WARNING:root:Found constant value array in batch 1420 and channel 0. Normalizing as zeros.\n",
      "WARNING:root:Found constant value array in batch 1421 and channel 0. Normalizing as zeros.\n",
      "WARNING:root:Found constant value array in batch 1422 and channel 0. Normalizing as zeros.\n",
      "WARNING:root:Found constant value array in batch 1423 and channel 0. Normalizing as zeros.\n",
      "WARNING:root:Found constant value array in batch 1424 and channel 0. Normalizing as zeros.\n",
      "WARNING:root:Found constant value array in batch 1425 and channel 0. Normalizing as zeros.\n",
      "WARNING:root:Found constant value array in batch 1426 and channel 0. Normalizing as zeros.\n",
      "WARNING:root:Found constant value array in batch 1427 and channel 0. Normalizing as zeros.\n",
      "WARNING:root:Found constant value array in batch 1428 and channel 0. Normalizing as zeros.\n",
      "WARNING:root:Found constant value array in batch 1429 and channel 0. Normalizing as zeros.\n",
      "WARNING:root:Found constant value array in batch 1430 and channel 0. Normalizing as zeros.\n",
      "WARNING:root:Found constant value array in batch 1431 and channel 0. Normalizing as zeros.\n",
      "WARNING:root:Found constant value array in batch 1432 and channel 0. Normalizing as zeros.\n"
     ]
    },
    {
     "name": "stderr",
     "output_type": "stream",
     "text": [
      "WARNING:root:Found constant value array in batch 1433 and channel 0. Normalizing as zeros.\n",
      "WARNING:root:Found constant value array in batch 1434 and channel 0. Normalizing as zeros.\n",
      "WARNING:root:Found constant value array in batch 1435 and channel 0. Normalizing as zeros.\n",
      "WARNING:root:Found constant value array in batch 1436 and channel 0. Normalizing as zeros.\n",
      "WARNING:root:Found constant value array in batch 1437 and channel 0. Normalizing as zeros.\n",
      "WARNING:root:Found constant value array in batch 1438 and channel 0. Normalizing as zeros.\n",
      "WARNING:root:Found constant value array in batch 1439 and channel 0. Normalizing as zeros.\n",
      "WARNING:root:Found constant value array in batch 1440 and channel 0. Normalizing as zeros.\n",
      "WARNING:root:Found constant value array in batch 1441 and channel 0. Normalizing as zeros.\n",
      "WARNING:root:Found constant value array in batch 1442 and channel 0. Normalizing as zeros.\n",
      "WARNING:root:Found constant value array in batch 1443 and channel 0. Normalizing as zeros.\n",
      "WARNING:root:Found constant value array in batch 1444 and channel 0. Normalizing as zeros.\n",
      "WARNING:root:Found constant value array in batch 1445 and channel 0. Normalizing as zeros.\n",
      "WARNING:root:Found constant value array in batch 1446 and channel 0. Normalizing as zeros.\n",
      "WARNING:root:Found constant value array in batch 1447 and channel 0. Normalizing as zeros.\n",
      "WARNING:root:Found constant value array in batch 1448 and channel 0. Normalizing as zeros.\n",
      "WARNING:root:Found constant value array in batch 1449 and channel 0. Normalizing as zeros.\n",
      "WARNING:root:Found constant value array in batch 1450 and channel 0. Normalizing as zeros.\n",
      "WARNING:root:Found constant value array in batch 1451 and channel 0. Normalizing as zeros.\n",
      "WARNING:root:Found constant value array in batch 1452 and channel 0. Normalizing as zeros.\n",
      "WARNING:root:Found constant value array in batch 1453 and channel 0. Normalizing as zeros.\n",
      "WARNING:root:Found constant value array in batch 1454 and channel 0. Normalizing as zeros.\n",
      "WARNING:root:Found constant value array in batch 1455 and channel 0. Normalizing as zeros.\n",
      "WARNING:root:Found constant value array in batch 1456 and channel 0. Normalizing as zeros.\n",
      "WARNING:root:Found constant value array in batch 1457 and channel 0. Normalizing as zeros.\n",
      "WARNING:root:Found constant value array in batch 1458 and channel 0. Normalizing as zeros.\n",
      "WARNING:root:Found constant value array in batch 1459 and channel 0. Normalizing as zeros.\n",
      "WARNING:root:Found constant value array in batch 1460 and channel 0. Normalizing as zeros.\n",
      "WARNING:root:Found constant value array in batch 1461 and channel 0. Normalizing as zeros.\n",
      "WARNING:root:Found constant value array in batch 1462 and channel 0. Normalizing as zeros.\n",
      "WARNING:root:Found constant value array in batch 1463 and channel 0. Normalizing as zeros.\n",
      "WARNING:root:Found constant value array in batch 1464 and channel 0. Normalizing as zeros.\n",
      "WARNING:root:Found constant value array in batch 1465 and channel 0. Normalizing as zeros.\n",
      "WARNING:root:Found constant value array in batch 1466 and channel 0. Normalizing as zeros.\n",
      "WARNING:root:Found constant value array in batch 1467 and channel 0. Normalizing as zeros.\n",
      "WARNING:root:Found constant value array in batch 1468 and channel 0. Normalizing as zeros.\n",
      "WARNING:root:Found constant value array in batch 1469 and channel 0. Normalizing as zeros.\n",
      "WARNING:root:Found constant value array in batch 1470 and channel 0. Normalizing as zeros.\n",
      "WARNING:root:Found constant value array in batch 1471 and channel 0. Normalizing as zeros.\n",
      "WARNING:root:Found constant value array in batch 1472 and channel 0. Normalizing as zeros.\n",
      "WARNING:root:Found constant value array in batch 1473 and channel 0. Normalizing as zeros.\n",
      "WARNING:root:Found constant value array in batch 1474 and channel 0. Normalizing as zeros.\n",
      "WARNING:root:Found constant value array in batch 1475 and channel 0. Normalizing as zeros.\n",
      "WARNING:root:Found constant value array in batch 1476 and channel 0. Normalizing as zeros.\n",
      "WARNING:root:Found constant value array in batch 1477 and channel 0. Normalizing as zeros.\n",
      "WARNING:root:Found constant value array in batch 1478 and channel 0. Normalizing as zeros.\n",
      "WARNING:root:Found constant value array in batch 1479 and channel 0. Normalizing as zeros.\n",
      "WARNING:root:Found constant value array in batch 1480 and channel 0. Normalizing as zeros.\n",
      "WARNING:root:Found constant value array in batch 1481 and channel 0. Normalizing as zeros.\n",
      "WARNING:root:Found constant value array in batch 1482 and channel 0. Normalizing as zeros.\n",
      "WARNING:root:Found constant value array in batch 1483 and channel 0. Normalizing as zeros.\n",
      "WARNING:root:Found constant value array in batch 1484 and channel 0. Normalizing as zeros.\n",
      "WARNING:root:Found constant value array in batch 1485 and channel 0. Normalizing as zeros.\n",
      "WARNING:root:Found constant value array in batch 1486 and channel 0. Normalizing as zeros.\n",
      "WARNING:root:Found constant value array in batch 1487 and channel 0. Normalizing as zeros.\n",
      "WARNING:root:Found constant value array in batch 1488 and channel 0. Normalizing as zeros.\n",
      "WARNING:root:Found constant value array in batch 1489 and channel 0. Normalizing as zeros.\n",
      "WARNING:root:Found constant value array in batch 1490 and channel 0. Normalizing as zeros.\n",
      "WARNING:root:Found constant value array in batch 1491 and channel 0. Normalizing as zeros.\n",
      "WARNING:root:Found constant value array in batch 1492 and channel 0. Normalizing as zeros.\n",
      "WARNING:root:Found constant value array in batch 1493 and channel 0. Normalizing as zeros.\n",
      "WARNING:root:Found constant value array in batch 1494 and channel 0. Normalizing as zeros.\n",
      "WARNING:root:Found constant value array in batch 1495 and channel 0. Normalizing as zeros.\n",
      "WARNING:root:Found constant value array in batch 1496 and channel 0. Normalizing as zeros.\n",
      "WARNING:root:Found constant value array in batch 1497 and channel 0. Normalizing as zeros.\n",
      "WARNING:root:Found constant value array in batch 1498 and channel 0. Normalizing as zeros.\n",
      "WARNING:root:Found constant value array in batch 1499 and channel 0. Normalizing as zeros.\n",
      "WARNING:root:Found constant value array in batch 1500 and channel 0. Normalizing as zeros.\n",
      "WARNING:root:Found constant value array in batch 1501 and channel 0. Normalizing as zeros.\n",
      "WARNING:root:Found constant value array in batch 1502 and channel 0. Normalizing as zeros.\n",
      "WARNING:root:Found constant value array in batch 1503 and channel 0. Normalizing as zeros.\n",
      "WARNING:root:Found constant value array in batch 1504 and channel 0. Normalizing as zeros.\n",
      "WARNING:root:Found constant value array in batch 1505 and channel 0. Normalizing as zeros.\n",
      "WARNING:root:Found constant value array in batch 1506 and channel 0. Normalizing as zeros.\n",
      "WARNING:root:Found constant value array in batch 1507 and channel 0. Normalizing as zeros.\n",
      "WARNING:root:Found constant value array in batch 1508 and channel 0. Normalizing as zeros.\n",
      "WARNING:root:Found constant value array in batch 1509 and channel 0. Normalizing as zeros.\n",
      "WARNING:root:Found constant value array in batch 1510 and channel 0. Normalizing as zeros.\n",
      "WARNING:root:Found constant value array in batch 1511 and channel 0. Normalizing as zeros.\n",
      "WARNING:root:Found constant value array in batch 1619 and channel 0. Normalizing as zeros.\n",
      "WARNING:root:Found constant value array in batch 1620 and channel 0. Normalizing as zeros.\n",
      "WARNING:root:Found constant value array in batch 1621 and channel 0. Normalizing as zeros.\n",
      "WARNING:root:Found constant value array in batch 1622 and channel 0. Normalizing as zeros.\n",
      "WARNING:root:Found constant value array in batch 1623 and channel 0. Normalizing as zeros.\n",
      "WARNING:root:Found constant value array in batch 1624 and channel 0. Normalizing as zeros.\n",
      "WARNING:root:Found constant value array in batch 1625 and channel 0. Normalizing as zeros.\n",
      "WARNING:root:Found constant value array in batch 1626 and channel 0. Normalizing as zeros.\n",
      "WARNING:root:Found constant value array in batch 1627 and channel 0. Normalizing as zeros.\n",
      "WARNING:root:Found constant value array in batch 1628 and channel 0. Normalizing as zeros.\n",
      "WARNING:root:Found constant value array in batch 1629 and channel 0. Normalizing as zeros.\n",
      "WARNING:root:Found constant value array in batch 1630 and channel 0. Normalizing as zeros.\n"
     ]
    },
    {
     "name": "stderr",
     "output_type": "stream",
     "text": [
      "WARNING:root:Found constant value array in batch 1631 and channel 0. Normalizing as zeros.\n",
      "WARNING:root:Found constant value array in batch 1632 and channel 0. Normalizing as zeros.\n",
      "WARNING:root:Found constant value array in batch 1633 and channel 0. Normalizing as zeros.\n",
      "WARNING:root:Found constant value array in batch 1634 and channel 0. Normalizing as zeros.\n",
      "WARNING:root:Found constant value array in batch 1635 and channel 0. Normalizing as zeros.\n",
      "WARNING:root:Found constant value array in batch 1636 and channel 0. Normalizing as zeros.\n",
      "WARNING:root:Found constant value array in batch 1637 and channel 0. Normalizing as zeros.\n",
      "WARNING:root:Found constant value array in batch 1638 and channel 0. Normalizing as zeros.\n",
      "WARNING:root:Found constant value array in batch 1639 and channel 0. Normalizing as zeros.\n",
      "WARNING:root:Found constant value array in batch 1640 and channel 0. Normalizing as zeros.\n",
      "WARNING:root:Found constant value array in batch 1641 and channel 0. Normalizing as zeros.\n",
      "WARNING:root:Found constant value array in batch 1642 and channel 0. Normalizing as zeros.\n",
      "WARNING:root:Found constant value array in batch 1643 and channel 0. Normalizing as zeros.\n",
      "WARNING:root:Found constant value array in batch 1644 and channel 0. Normalizing as zeros.\n",
      "WARNING:root:Found constant value array in batch 1645 and channel 0. Normalizing as zeros.\n",
      "WARNING:root:Found constant value array in batch 1646 and channel 0. Normalizing as zeros.\n",
      "WARNING:root:Found constant value array in batch 1647 and channel 0. Normalizing as zeros.\n",
      "WARNING:root:Found constant value array in batch 1648 and channel 0. Normalizing as zeros.\n",
      "WARNING:root:Found constant value array in batch 1649 and channel 0. Normalizing as zeros.\n",
      "WARNING:root:Found constant value array in batch 1650 and channel 0. Normalizing as zeros.\n",
      "WARNING:root:Found constant value array in batch 1651 and channel 0. Normalizing as zeros.\n",
      "WARNING:root:Found constant value array in batch 1652 and channel 0. Normalizing as zeros.\n",
      "WARNING:root:Found constant value array in batch 1653 and channel 0. Normalizing as zeros.\n",
      "WARNING:root:Found constant value array in batch 1654 and channel 0. Normalizing as zeros.\n",
      "WARNING:root:Found constant value array in batch 1655 and channel 0. Normalizing as zeros.\n",
      "WARNING:root:Found constant value array in batch 1656 and channel 0. Normalizing as zeros.\n",
      "WARNING:root:Found constant value array in batch 1657 and channel 0. Normalizing as zeros.\n",
      "WARNING:root:Found constant value array in batch 1658 and channel 0. Normalizing as zeros.\n",
      "WARNING:root:Found constant value array in batch 1659 and channel 0. Normalizing as zeros.\n",
      "WARNING:root:Found constant value array in batch 1660 and channel 0. Normalizing as zeros.\n",
      "WARNING:root:Found constant value array in batch 1661 and channel 0. Normalizing as zeros.\n",
      "WARNING:root:Found constant value array in batch 1662 and channel 0. Normalizing as zeros.\n",
      "WARNING:root:Found constant value array in batch 1663 and channel 0. Normalizing as zeros.\n",
      "WARNING:root:Found constant value array in batch 1664 and channel 0. Normalizing as zeros.\n",
      "WARNING:root:Found constant value array in batch 1665 and channel 0. Normalizing as zeros.\n",
      "WARNING:root:Found constant value array in batch 1666 and channel 0. Normalizing as zeros.\n",
      "WARNING:root:Found constant value array in batch 1667 and channel 0. Normalizing as zeros.\n",
      "WARNING:root:Found constant value array in batch 1668 and channel 0. Normalizing as zeros.\n",
      "WARNING:root:Found constant value array in batch 1669 and channel 0. Normalizing as zeros.\n",
      "WARNING:root:Found constant value array in batch 1670 and channel 0. Normalizing as zeros.\n",
      "WARNING:root:Found constant value array in batch 1671 and channel 0. Normalizing as zeros.\n",
      "WARNING:root:Found constant value array in batch 1672 and channel 0. Normalizing as zeros.\n",
      "WARNING:root:Found constant value array in batch 1673 and channel 0. Normalizing as zeros.\n",
      "WARNING:root:Found constant value array in batch 1674 and channel 0. Normalizing as zeros.\n",
      "WARNING:root:Found constant value array in batch 1675 and channel 0. Normalizing as zeros.\n",
      "WARNING:root:Found constant value array in batch 1676 and channel 0. Normalizing as zeros.\n",
      "WARNING:root:Found constant value array in batch 1677 and channel 0. Normalizing as zeros.\n",
      "WARNING:root:Found constant value array in batch 1678 and channel 0. Normalizing as zeros.\n",
      "WARNING:root:Found constant value array in batch 1679 and channel 0. Normalizing as zeros.\n",
      "WARNING:root:Found constant value array in batch 1812 and channel 0. Normalizing as zeros.\n",
      "WARNING:root:Found constant value array in batch 1813 and channel 0. Normalizing as zeros.\n",
      "WARNING:root:Found constant value array in batch 1814 and channel 0. Normalizing as zeros.\n",
      "WARNING:root:Found constant value array in batch 1815 and channel 0. Normalizing as zeros.\n",
      "WARNING:root:Found constant value array in batch 1816 and channel 0. Normalizing as zeros.\n",
      "WARNING:root:Found constant value array in batch 1817 and channel 0. Normalizing as zeros.\n",
      "WARNING:root:Found constant value array in batch 1818 and channel 0. Normalizing as zeros.\n",
      "WARNING:root:Found constant value array in batch 1819 and channel 0. Normalizing as zeros.\n",
      "WARNING:root:Found constant value array in batch 1820 and channel 0. Normalizing as zeros.\n",
      "WARNING:root:Found constant value array in batch 1821 and channel 0. Normalizing as zeros.\n",
      "WARNING:root:Found constant value array in batch 1822 and channel 0. Normalizing as zeros.\n",
      "WARNING:root:Found constant value array in batch 1823 and channel 0. Normalizing as zeros.\n",
      "WARNING:root:Found constant value array in batch 1824 and channel 0. Normalizing as zeros.\n",
      "WARNING:root:Found constant value array in batch 1825 and channel 0. Normalizing as zeros.\n",
      "WARNING:root:Found constant value array in batch 1826 and channel 0. Normalizing as zeros.\n",
      "WARNING:root:Found constant value array in batch 1827 and channel 0. Normalizing as zeros.\n",
      "WARNING:root:Found constant value array in batch 1828 and channel 0. Normalizing as zeros.\n",
      "WARNING:root:Found constant value array in batch 1829 and channel 0. Normalizing as zeros.\n",
      "WARNING:root:Found constant value array in batch 1830 and channel 0. Normalizing as zeros.\n",
      "WARNING:root:Found constant value array in batch 1831 and channel 0. Normalizing as zeros.\n",
      "WARNING:root:Found constant value array in batch 1832 and channel 0. Normalizing as zeros.\n",
      "WARNING:root:Found constant value array in batch 1833 and channel 0. Normalizing as zeros.\n",
      "WARNING:root:Found constant value array in batch 1834 and channel 0. Normalizing as zeros.\n",
      "WARNING:root:Found constant value array in batch 1835 and channel 0. Normalizing as zeros.\n",
      "WARNING:root:Found constant value array in batch 1836 and channel 0. Normalizing as zeros.\n",
      "WARNING:root:Found constant value array in batch 1837 and channel 0. Normalizing as zeros.\n",
      "WARNING:root:Found constant value array in batch 1838 and channel 0. Normalizing as zeros.\n",
      "WARNING:root:Found constant value array in batch 1839 and channel 0. Normalizing as zeros.\n",
      "WARNING:root:Found constant value array in batch 1840 and channel 0. Normalizing as zeros.\n",
      "WARNING:root:Found constant value array in batch 1841 and channel 0. Normalizing as zeros.\n",
      "WARNING:root:Found constant value array in batch 1842 and channel 0. Normalizing as zeros.\n",
      "WARNING:root:Found constant value array in batch 1843 and channel 0. Normalizing as zeros.\n",
      "WARNING:root:Found constant value array in batch 1844 and channel 0. Normalizing as zeros.\n",
      "WARNING:root:Found constant value array in batch 1845 and channel 0. Normalizing as zeros.\n",
      "WARNING:root:Found constant value array in batch 1846 and channel 0. Normalizing as zeros.\n",
      "WARNING:root:Found constant value array in batch 1847 and channel 0. Normalizing as zeros.\n"
     ]
    }
   ],
   "source": [
    "appearances = track_info['appearances']\n",
    "\n",
    "app_shape = np.shape(appearances)\n",
    "appearances = np.swapaxes(appearances, 1,2) #(0,2,1,3,4,5))\n",
    "appearances = np.reshape(appearances, [-1, app_shape[1], app_shape[3], app_shape[4], app_shape[5]])\n",
    "\n",
    "# Normalize appearances\n",
    "appearances = norm(appearances)\n",
    "\n",
    "input_dict = {'appearances': appearances}\n",
    "\n",
    "output_dict = {'appearances_decoder': appearances}\n",
    "\n",
    "data = tf.data.Dataset.from_tensor_slices((input_dict, output_dict))\n",
    "\n",
    "data = data.repeat().batch(1)"
   ]
  },
  {
   "cell_type": "code",
   "execution_count": 8,
   "id": "3a04997d",
   "metadata": {},
   "outputs": [
    {
     "data": {
      "text/plain": [
       "tuple"
      ]
     },
     "execution_count": 8,
     "metadata": {},
     "output_type": "execute_result"
    }
   ],
   "source": [
    "it = iter(data)\n",
    "nxt = it.next()\n",
    "type(nxt)"
   ]
  },
  {
   "cell_type": "code",
   "execution_count": 9,
   "id": "39d019c4",
   "metadata": {},
   "outputs": [
    {
     "name": "stdout",
     "output_type": "stream",
     "text": [
      "2\n",
      "dict_keys(['appearances'])\n",
      "dict_keys(['appearances_decoder'])\n",
      "<class 'tensorflow.python.framework.ops.EagerTensor'>\n",
      "(1, 71, 32, 32, 1)\n"
     ]
    }
   ],
   "source": [
    "print(len(nxt))\n",
    "print(nxt[0].keys())\n",
    "print(nxt[1].keys())\n",
    "print(type(nxt[0]['appearances']))\n",
    "print(nxt[0]['appearances'].get_shape())"
   ]
  },
  {
   "cell_type": "code",
   "execution_count": 10,
   "id": "fb8a6231",
   "metadata": {},
   "outputs": [],
   "source": [
    "def get_corr_img_in_tf_dataset(batch, frame, cell):\n",
    "    it = iter(data)\n",
    "    \n",
    "    shape = track_info['appearances'].shape\n",
    "    # number of batches * number of cells per batch\n",
    "    cell_num = shape[2] * batch + cell + 1\n",
    "    for cell in range(cell_num):\n",
    "        nxt = it.next()\n",
    "        \n",
    "    return nxt[0]['appearances'][0][frame].numpy().astype('float32')"
   ]
  },
  {
   "cell_type": "code",
   "execution_count": 11,
   "id": "8e40c6b8",
   "metadata": {},
   "outputs": [],
   "source": [
    "import matplotlib.pyplot as plt\n",
    "\n",
    "def show_img_and_corr_img(batch, frame, cell):\n",
    "    fig, ax = plt.subplots()\n",
    "    ax.imshow(track_info['appearances'][batch][frame][cell])\n",
    "\n",
    "    corr_img = get_corr_img_in_tf_dataset(batch, frame, cell)\n",
    "    fig, ax = plt.subplots()\n",
    "    ax.imshow(corr_img)"
   ]
  },
  {
   "cell_type": "code",
   "execution_count": 12,
   "id": "5ee748d8",
   "metadata": {},
   "outputs": [
    {
     "data": {
      "image/png": "[encoded data removed]",
      "text/plain": [
       "<Figure size 432x288 with 1 Axes>"
      ]
     },
     "metadata": {
      "needs_background": "light"
     },
     "output_type": "display_data"
    },
    {
     "data": {
      "image/png": "[encoded data removed]",
      "text/plain": [
       "<Figure size 432x288 with 1 Axes>"
      ]
     },
     "metadata": {
      "needs_background": "light"
     },
     "output_type": "display_data"
    }
   ],
   "source": [
    "show_img_and_corr_img(0, 0, 0)"
   ]
  },
  {
   "cell_type": "code",
   "execution_count": 13,
   "id": "e60a6b29",
   "metadata": {},
   "outputs": [
    {
     "data": {
      "image/png": "[encoded data removed]",
      "text/plain": [
       "<Figure size 432x288 with 1 Axes>"
      ]
     },
     "metadata": {
      "needs_background": "light"
     },
     "output_type": "display_data"
    },
    {
     "data": {
      "image/png": "[encoded data removed]",
      "text/plain": [
       "<Figure size 432x288 with 1 Axes>"
      ]
     },
     "metadata": {
      "needs_background": "light"
     },
     "output_type": "display_data"
    }
   ],
   "source": [
    "show_img_and_corr_img(0, 30, 5)"
   ]
  },
  {
   "cell_type": "code",
   "execution_count": 14,
   "id": "52f8e134",
   "metadata": {},
   "outputs": [
    {
     "data": {
      "image/png": "[encoded data removed]",
      "text/plain": [
       "<Figure size 432x288 with 1 Axes>"
      ]
     },
     "metadata": {
      "needs_background": "light"
     },
     "output_type": "display_data"
    },
    {
     "data": {
      "image/png": "[encoded data removed]",
      "text/plain": [
       "<Figure size 432x288 with 1 Axes>"
      ]
     },
     "metadata": {
      "needs_background": "light"
     },
     "output_type": "display_data"
    }
   ],
   "source": [
    "show_img_and_corr_img(4, 32, 50)"
   ]
  },
  {
   "cell_type": "code",
   "execution_count": 15,
   "id": "fbec1a6a",
   "metadata": {},
   "outputs": [
    {
     "data": {
      "image/png": "[encoded data removed]",
      "text/plain": [
       "<Figure size 432x288 with 1 Axes>"
      ]
     },
     "metadata": {
      "needs_background": "light"
     },
     "output_type": "display_data"
    },
    {
     "data": {
      "image/png": "[encoded data removed]",
      "text/plain": [
       "<Figure size 432x288 with 1 Axes>"
      ]
     },
     "metadata": {
      "needs_background": "light"
     },
     "output_type": "display_data"
    }
   ],
   "source": [
    "show_img_and_corr_img(4, 32, 160)"
   ]
  },
  {
   "cell_type": "code",
   "execution_count": 16,
   "id": "0dd39be6",
   "metadata": {},
   "outputs": [
    {
     "data": {
      "image/png": "[encoded data removed]",
      "text/plain": [
       "<Figure size 432x288 with 1 Axes>"
      ]
     },
     "metadata": {
      "needs_background": "light"
     },
     "output_type": "display_data"
    },
    {
     "data": {
      "image/png": "[encoded data removed]",
      "text/plain": [
       "<Figure size 432x288 with 1 Axes>"
      ]
     },
     "metadata": {
      "needs_background": "light"
     },
     "output_type": "display_data"
    }
   ],
   "source": [
    "show_img_and_corr_img(10, 0, 50)"
   ]
  },
  {
   "cell_type": "code",
   "execution_count": 17,
   "id": "18f26083",
   "metadata": {},
   "outputs": [
    {
     "data": {
      "image/png": "[encoded data removed]",
      "text/plain": [
       "<Figure size 432x288 with 1 Axes>"
      ]
     },
     "metadata": {
      "needs_background": "light"
     },
     "output_type": "display_data"
    },
    {
     "data": {
      "image/png": "[encoded data removed]",
      "text/plain": [
       "<Figure size 432x288 with 1 Axes>"
      ]
     },
     "metadata": {
      "needs_background": "light"
     },
     "output_type": "display_data"
    }
   ],
   "source": [
    "show_img_and_corr_img(10, 0, 60)"
   ]
  },
  {
   "cell_type": "code",
   "execution_count": 18,
   "id": "e47e95ff",
   "metadata": {},
   "outputs": [
    {
     "data": {
      "image/png": "[encoded data removed]",
      "text/plain": [
       "<Figure size 432x288 with 1 Axes>"
      ]
     },
     "metadata": {
      "needs_background": "light"
     },
     "output_type": "display_data"
    },
    {
     "data": {
      "image/png": "[encoded data removed]",
      "text/plain": [
       "<Figure size 432x288 with 1 Axes>"
      ]
     },
     "metadata": {
      "needs_background": "light"
     },
     "output_type": "display_data"
    }
   ],
   "source": [
    "show_img_and_corr_img(10, 0, 70)"
   ]
  },
  {
   "cell_type": "code",
   "execution_count": null,
   "id": "7041b576",
   "metadata": {},
   "outputs": [],
   "source": []
  }
 ],
 "metadata": {
  "kernelspec": {
   "display_name": "Python 3 (ipykernel)",
   "language": "python",
   "name": "python3"
  },
  "language_info": {
   "codemirror_mode": {
    "name": "ipython",
    "version": 3
   },
   "file_extension": ".py",
   "mimetype": "text/x-python",
   "name": "python",
   "nbconvert_exporter": "python",
   "pygments_lexer": "ipython3",
   "version": "3.8.10"
  }
 },
 "nbformat": 4,
 "nbformat_minor": 5
}
