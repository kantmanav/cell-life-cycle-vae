{
 "cells": [
  {
   "cell_type": "code",
   "execution_count": 1,
   "id": "f40c6aad",
   "metadata": {},
   "outputs": [
    {
     "name": "stdout",
     "output_type": "stream",
     "text": [
      "2.8.0\n"
     ]
    }
   ],
   "source": [
    "import os\n",
    "import numpy as np\n",
    "\n",
    "import tensorflow as tf\n",
    "import tensorflow_addons as tfa\n",
    "gpus = tf.config.experimental.list_physical_devices('GPU')\n",
    "for gpu in gpus:\n",
    "      tf.config.experimental.set_memory_growth(gpu, True)\n",
    "print(tf.__version__)\n",
    "AUTOTUNE = tf.data.experimental.AUTOTUNE\n",
    "\n",
    "import deepcell\n",
    "# Changed from before due to new placement of Track, concat_tracks\n",
    "from deepcell_tracking.utils import load_trks\n",
    "from deepcell.data.tracking import Track, concat_tracks\n",
    "##############\n",
    "from sklearn.model_selection import train_test_split\n",
    "from deepcell.utils.data_utils import reshape_movie\n",
    "from deepcell.utils.transform_utils import erode_edges\n",
    "from deepcell.data import split_dataset\n",
    "from deepcell_toolbox.processing import normalize, histogram_normalization\n",
    "\n",
    "import spektral"
   ]
  },
  {
   "cell_type": "markdown",
   "id": "d1e309e1",
   "metadata": {},
   "source": [
    "# Define functions for pruning"
   ]
  },
  {
   "cell_type": "code",
   "execution_count": 2,
   "id": "c4c70650",
   "metadata": {},
   "outputs": [],
   "source": [
    "# app = track_info['appearances']\n",
    "def get_real_img_nums_dict(app):\n",
    "    batches = app.shape[0]\n",
    "    frames = app.shape[1]\n",
    "    cells = app.shape[2]\n",
    "\n",
    "    real_img_nums_dict = dict.fromkeys(range(batches))\n",
    "    for batch in range(batches):\n",
    "        real_img_nums_dict[batch] = {}\n",
    "\n",
    "    # Gets number of real cells in each batch\n",
    "    for batch in range(batches):\n",
    "        for cell in range(cells):\n",
    "            if np.max(app[batch, 0, cell]) != 0:\n",
    "                last_frame = 71\n",
    "                for frame in range(frames):\n",
    "                    if np.max(app[batch, frame, cell]) == 0:\n",
    "                        last_frame = frame\n",
    "                        break\n",
    "                real_img_nums_dict[batch][cell] = last_frame\n",
    "            else:\n",
    "                break\n",
    "    return real_img_nums_dict"
   ]
  },
  {
   "cell_type": "code",
   "execution_count": 3,
   "id": "15dbbf3d",
   "metadata": {},
   "outputs": [],
   "source": [
    "def get_real_img_array(app):\n",
    "    batches = app.shape[0]\n",
    "    frames = app.shape[1]\n",
    "    cells = app.shape[2]\n",
    "    \n",
    "    real_img_list = []\n",
    "    real_img_nums_dict = get_real_img_nums_dict(app)\n",
    "    for batch in range(batches):\n",
    "        for cell in real_img_nums_dict[batch].keys():\n",
    "            for frame in range(real_img_nums_dict[batch][cell]):\n",
    "                real_img_list.append(app[batch][frame][cell])\n",
    "    appearances = np.array(real_img_list)\n",
    "    return appearances"
   ]
  },
  {
   "cell_type": "code",
   "execution_count": 4,
   "id": "d3f15b2a",
   "metadata": {},
   "outputs": [],
   "source": [
    "from skimage.exposure import rescale_intensity\n",
    "\n",
    "def norm(X):\n",
    "    X_norm = histogram_normalization(X, kernel_size=32)\n",
    "    \n",
    "    X_rescaled = np.zeros(X_norm.shape)\n",
    "    for img_idx in range(X.shape[0]):\n",
    "        x = X[img_idx]\n",
    "        x = rescale_intensity(x, out_range=(0,1))\n",
    "        X_rescaled[img_idx] = x\n",
    "            \n",
    "    return X_rescaled"
   ]
  },
  {
   "cell_type": "code",
   "execution_count": 5,
   "id": "92a1393d",
   "metadata": {},
   "outputs": [],
   "source": [
    "def prepare_dataset(appearances, batch_size=1, buffer_size=256,\n",
    "                    seed=None):\n",
    "    app_shape = np.shape(appearances)\n",
    "\n",
    "    # Appearances not being normalized yet (will have to slightly modify norm function\n",
    "    # since we don't have this organized by life cycle\n",
    "    appearances = norm(appearances)\n",
    "\n",
    "    dataset = tf.data.Dataset.from_tensor_slices((appearances, appearances))\n",
    "    \n",
    "    dataset = dataset.shuffle(buffer_size, seed=seed)\n",
    "\n",
    "    dataset = dataset.repeat().batch(batch_size)\n",
    "    \n",
    "    dataset = dataset.prefetch(tf.data.AUTOTUNE)\n",
    "    \n",
    "    return dataset"
   ]
  },
  {
   "cell_type": "markdown",
   "id": "bc09f298",
   "metadata": {},
   "source": [
    "# Load the train data"
   ]
  },
  {
   "cell_type": "code",
   "execution_count": 6,
   "id": "2ccfb24e",
   "metadata": {},
   "outputs": [
    {
     "name": "stderr",
     "output_type": "stream",
     "text": [
      "2022-07-20 21:29:05.708885: I tensorflow/core/platform/cpu_feature_guard.cc:151] This TensorFlow binary is optimized with oneAPI Deep Neural Network Library (oneDNN) to use the following CPU instructions in performance-critical operations:  AVX2 FMA\n",
      "To enable them in other operations, rebuild TensorFlow with the appropriate compiler flags.\n",
      "2022-07-20 21:29:07.112685: I tensorflow/core/common_runtime/gpu/gpu_device.cc:1525] Created device /job:localhost/replica:0/task:0/device:GPU:0 with 10415 MB memory:  -> device: 0, name: NVIDIA GeForce GTX 1080 Ti, pci bus id: 0000:06:00.0, compute capability: 6.1\n",
      "100%|███████████████████████████████████████████| 91/91 [06:55<00:00,  4.57s/it]\n",
      "100%|███████████████████████████████████████████| 91/91 [11:20<00:00,  7.48s/it]\n",
      "2022-07-20 21:51:32.656222: W tensorflow/core/framework/cpu_allocator_impl.cc:82] Allocation of 5645002080 exceeds 10% of free system memory.\n"
     ]
    },
    {
     "name": "stdout",
     "output_type": "stream",
     "text": [
      "CPU times: user 1h 25min 37s, sys: 1h 27min 12s, total: 2h 52min 50s\n",
      "Wall time: 34min 4s\n"
     ]
    },
    {
     "name": "stderr",
     "output_type": "stream",
     "text": [
      "2022-07-20 22:03:06.798139: W tensorflow/core/framework/cpu_allocator_impl.cc:82] Allocation of 2734931968 exceeds 10% of free system memory.\n",
      "2022-07-20 22:03:08.286059: W tensorflow/core/framework/cpu_allocator_impl.cc:82] Allocation of 2734931968 exceeds 10% of free system memory.\n"
     ]
    }
   ],
   "source": [
    "%%time\n",
    "# data loading\n",
    "# Need crop_mode='fixed' param in Track in real life\n",
    "with tf.device('/device:CPU:0'):\n",
    "    path_temp_train_trks = '/training/tracking-nuclear/train.trks'\n",
    "    all_train_data = [load_trks(path_temp_train_trks)]\n",
    "    \n",
    "    all_train_tracks = [Track(tracked_data=d) for d in all_train_data]\n",
    "    \n",
    "    train_track_info = concat_tracks(all_train_tracks)\n",
    "    \n",
    "    train_appearances = get_real_img_array(train_track_info['appearances'])\n",
    "    \n",
    "    train_dataset = prepare_dataset(train_appearances, batch_size=100)"
   ]
  },
  {
   "cell_type": "markdown",
   "id": "9db95441",
   "metadata": {},
   "source": [
    "# Load the validation data"
   ]
  },
  {
   "cell_type": "code",
   "execution_count": 7,
   "id": "3ef168f2",
   "metadata": {},
   "outputs": [
    {
     "name": "stderr",
     "output_type": "stream",
     "text": [
      "100%|███████████████████████████████████████████| 27/27 [01:57<00:00,  4.34s/it]\n",
      "100%|███████████████████████████████████████████| 27/27 [01:54<00:00,  4.25s/it]\n"
     ]
    },
    {
     "name": "stdout",
     "output_type": "stream",
     "text": [
      "CPU times: user 19min 36s, sys: 20min 22s, total: 39min 59s\n",
      "Wall time: 7min 40s\n"
     ]
    }
   ],
   "source": [
    "%%time\n",
    "# Need crop_mode='fixed' param in Track in real life\n",
    "with tf.device('/device:CPU:0'):\n",
    "    path_temp_val_trks = '/training/tracking-nuclear/val.trks'\n",
    "    all_val_data = [load_trks(path_temp_val_trks)]\n",
    "    \n",
    "    all_val_tracks = [Track(tracked_data=d) for d in all_val_data]\n",
    "    \n",
    "    val_track_info = concat_tracks(all_val_tracks)\n",
    "    \n",
    "    val_appearances = get_real_img_array(val_track_info['appearances'])\n",
    "    \n",
    "    val_dataset = prepare_dataset(val_appearances, batch_size=100)"
   ]
  },
  {
   "cell_type": "markdown",
   "id": "8f4dcbfa",
   "metadata": {},
   "source": [
    "# Define the model"
   ]
  },
  {
   "cell_type": "code",
   "execution_count": 13,
   "id": "c2b6814f",
   "metadata": {},
   "outputs": [],
   "source": [
    "import tensorflow as tf\n",
    "import tensorflow_probability as tfp\n",
    "tfd = tfp.distributions\n",
    "tfpl = tfp.layers\n",
    "tfk = tf.keras\n",
    "tfkl = tf.keras.layers"
   ]
  },
  {
   "cell_type": "code",
   "execution_count": 50,
   "id": "efd025fe",
   "metadata": {},
   "outputs": [],
   "source": [
    "class VAE_MNIST:\n",
    "    \n",
    "    def __init__(self, dim_z, kl_weight, learning_rate):\n",
    "        # change dim from (28, 28, 1)\n",
    "        self.dim_x = (32, 32, 1)\n",
    "        self.dim_z = dim_z\n",
    "        self.kl_weight = kl_weight\n",
    "        self.learning_rate = learning_rate\n",
    "\n",
    "    # Sequential API encoder\n",
    "    def encoder_z(self):\n",
    "        # define prior distribution for the code, which is an isotropic Gaussian\n",
    "        prior = tfd.Independent(tfd.Normal(loc=tf.zeros(self.dim_z), scale=1.), \n",
    "                                reinterpreted_batch_ndims=1)\n",
    "        # build layers argument for tfk.Sequential()\n",
    "        input_shape = self.dim_x\n",
    "        layers = [tfkl.InputLayer(input_shape=input_shape)]\n",
    "        layers.append(tfkl.Conv2D(filters=32, kernel_size=3, strides=(2,2), \n",
    "                                  padding='valid', activation='relu'))\n",
    "        layers.append(tfkl.Conv2D(filters=64, kernel_size=3, strides=(2,2), \n",
    "                                  padding='valid', activation='relu'))\n",
    "        layers.append(tfkl.Flatten())\n",
    "        # the following two lines set the output to be a probabilistic distribution\n",
    "        layers.append(tfkl.Dense(tfpl.IndependentNormal.params_size(self.dim_z), \n",
    "                                 activation=None, name='z_params'))\n",
    "        layers.append(tfpl.IndependentNormal(self.dim_z, \n",
    "            convert_to_tensor_fn=tfd.Distribution.sample, \n",
    "            activity_regularizer=tfpl.KLDivergenceRegularizer(prior, weight=self.kl_weight), \n",
    "            name='z_layer'))\n",
    "        return tfk.Sequential(layers, name='encoder')\n",
    "    \n",
    "    # Sequential API decoder\n",
    "    def decoder_x(self):\n",
    "        layers = [tfkl.InputLayer(input_shape=self.dim_z)]\n",
    "        # probably 7 before since 28/2/2 = 7, so changing to 32/2/2 = 8\n",
    "        layers.append(tfkl.Dense(8*8*32, activation=None))\n",
    "        layers.append(tfkl.Reshape((8,8,32)))\n",
    "        layers.append(tfkl.Conv2DTranspose(filters=64, kernel_size=3, strides=2, \n",
    "                                           padding='same', activation='relu'))\n",
    "        layers.append(tfkl.Conv2DTranspose(filters=32, kernel_size=3, strides=2, \n",
    "                                           padding='same', activation='relu'))\n",
    "        layers.append(tfkl.Conv2DTranspose(filters=1, kernel_size=3, strides=1, \n",
    "                                           padding='same'))\n",
    "        layers.append(tfkl.Flatten())\n",
    "        # note that here we don't need \n",
    "        # `tfkl.Dense(tfpl.IndependentBernoulli.params_size(self.dim_x))` because \n",
    "        # we've restored the desired input shape with the last Conv2DTranspose layer\n",
    "        layers.append(tfkl.Dense(tfpl.IndependentNormal.params_size(1024), \n",
    "                                 activation=None, name='x_params'))\n",
    "        layers.append(tfpl.IndependentNormal(self.dim_x,\n",
    "            name='x_layer'))\n",
    "        return tfk.Sequential(layers, name='decoder')\n",
    "    \n",
    "    def build_vae_keras_model(self):\n",
    "        x_input = tfk.Input(shape=self.dim_x)\n",
    "        encoder = self.encoder_z()\n",
    "        decoder = self.decoder_x()\n",
    "        z = encoder(x_input)\n",
    "\n",
    "        # compile VAE model\n",
    "        model = tfk.Model(inputs=x_input, outputs=decoder(z))\n",
    "        model.compile(loss=negative_log_likelihood, \n",
    "                      optimizer=tfk.optimizers.Adam(self.learning_rate))\n",
    "        return model\n",
    "\n",
    "# the negative of log-likelihood for probabilistic output\n",
    "negative_log_likelihood = lambda x, rv_x: -rv_x.log_prob(x)"
   ]
  },
  {
   "cell_type": "code",
   "execution_count": 51,
   "id": "66513180",
   "metadata": {},
   "outputs": [],
   "source": [
    "vae = VAE_MNIST(128, 1, 1e-3)"
   ]
  },
  {
   "cell_type": "code",
   "execution_count": 52,
   "id": "000957be",
   "metadata": {},
   "outputs": [],
   "source": [
    "AE = vae.build_vae_keras_model()"
   ]
  },
  {
   "cell_type": "code",
   "execution_count": 53,
   "id": "6913fc16",
   "metadata": {
    "scrolled": true
   },
   "outputs": [
    {
     "name": "stdout",
     "output_type": "stream",
     "text": [
      "Epoch 1/15\n",
      "3337/3339 [============================>.] - ETA: 0s - loss: -1396.9698\n",
      "Epoch 1: val_loss improved from inf to -1573.36707, saving model to ~/models/model_1\n",
      "3339/3339 [==============================] - 42s 12ms/step - loss: -1397.0204 - val_loss: -1573.3671 - lr: 0.0010\n",
      "Epoch 2/15\n",
      "3335/3339 [============================>.] - ETA: 0s - loss: -2114.5081\n",
      "Epoch 2: val_loss improved from -1573.36707 to -1956.21484, saving model to ~/models/model_1\n",
      "3339/3339 [==============================] - 39s 12ms/step - loss: -2113.9226 - val_loss: -1956.2148 - lr: 0.0010\n",
      "Epoch 3/15\n",
      "3336/3339 [============================>.] - ETA: 0s - loss: -2295.3018\n",
      "Epoch 3: val_loss improved from -1956.21484 to -2153.68408, saving model to ~/models/model_1\n",
      "3339/3339 [==============================] - 39s 12ms/step - loss: -2294.8699 - val_loss: -2153.6841 - lr: 0.0010\n",
      "Epoch 4/15\n",
      "3337/3339 [============================>.] - ETA: 0s - loss: -2391.4866\n",
      "Epoch 4: val_loss improved from -2153.68408 to -2263.00928, saving model to ~/models/model_1\n",
      "3339/3339 [==============================] - 39s 12ms/step - loss: -2391.3311 - val_loss: -2263.0093 - lr: 0.0010\n",
      "Epoch 5/15\n",
      "3335/3339 [============================>.] - ETA: 0s - loss: -2464.3137\n",
      "Epoch 5: val_loss improved from -2263.00928 to -2327.88672, saving model to ~/models/model_1\n",
      "3339/3339 [==============================] - 40s 12ms/step - loss: -2463.7324 - val_loss: -2327.8867 - lr: 0.0010\n",
      "Epoch 6/15\n",
      "3337/3339 [============================>.] - ETA: 0s - loss: -2499.8870\n",
      "Epoch 6: val_loss improved from -2327.88672 to -2376.65283, saving model to ~/models/model_1\n",
      "3339/3339 [==============================] - 39s 12ms/step - loss: -2499.7949 - val_loss: -2376.6528 - lr: 0.0010\n",
      "Epoch 7/15\n",
      "3339/3339 [==============================] - ETA: 0s - loss: -2537.9587\n",
      "Epoch 7: val_loss improved from -2376.65283 to -2416.08350, saving model to ~/models/model_1\n",
      "3339/3339 [==============================] - 39s 12ms/step - loss: -2537.9587 - val_loss: -2416.0835 - lr: 0.0010\n",
      "Epoch 8/15\n",
      "3339/3339 [==============================] - ETA: 0s - loss: -2564.5364\n",
      "Epoch 8: val_loss improved from -2416.08350 to -2440.78491, saving model to ~/models/model_1\n",
      "3339/3339 [==============================] - 39s 12ms/step - loss: -2564.5364 - val_loss: -2440.7849 - lr: 0.0010\n",
      "Epoch 9/15\n",
      "3337/3339 [============================>.] - ETA: 0s - loss: -2586.1331\n",
      "Epoch 9: val_loss improved from -2440.78491 to -2460.22705, saving model to ~/models/model_1\n",
      "3339/3339 [==============================] - 38s 12ms/step - loss: -2586.0525 - val_loss: -2460.2271 - lr: 0.0010\n",
      "Epoch 10/15\n",
      "3338/3339 [============================>.] - ETA: 0s - loss: -2593.6348\n",
      "Epoch 10: val_loss improved from -2460.22705 to -2469.48242, saving model to ~/models/model_1\n",
      "3339/3339 [==============================] - 39s 12ms/step - loss: -2593.6143 - val_loss: -2469.4824 - lr: 0.0010\n",
      "Epoch 11/15\n",
      "3338/3339 [============================>.] - ETA: 0s - loss: -2608.5623\n",
      "Epoch 11: val_loss improved from -2469.48242 to -2486.41479, saving model to ~/models/model_1\n",
      "3339/3339 [==============================] - 39s 12ms/step - loss: -2608.5234 - val_loss: -2486.4148 - lr: 0.0010\n",
      "Epoch 12/15\n",
      "3335/3339 [============================>.] - ETA: 0s - loss: -2636.3235\n",
      "Epoch 12: val_loss improved from -2486.41479 to -2496.11816, saving model to ~/models/model_1\n",
      "3339/3339 [==============================] - 39s 12ms/step - loss: -2636.1316 - val_loss: -2496.1182 - lr: 0.0010\n",
      "Epoch 13/15\n",
      "3336/3339 [============================>.] - ETA: 0s - loss: -2636.6514\n",
      "Epoch 13: val_loss improved from -2496.11816 to -2502.42114, saving model to ~/models/model_1\n",
      "3339/3339 [==============================] - 39s 12ms/step - loss: -2636.5081 - val_loss: -2502.4211 - lr: 0.0010\n",
      "Epoch 14/15\n",
      "3337/3339 [============================>.] - ETA: 0s - loss: -2651.8713\n",
      "Epoch 14: val_loss improved from -2502.42114 to -2525.70703, saving model to ~/models/model_1\n",
      "3339/3339 [==============================] - 39s 12ms/step - loss: -2651.7563 - val_loss: -2525.7070 - lr: 0.0010\n",
      "Epoch 15/15\n",
      "3338/3339 [============================>.] - ETA: 0s - loss: -2666.8420\n",
      "Epoch 15: val_loss improved from -2525.70703 to -2530.53931, saving model to ~/models/model_1\n",
      "3339/3339 [==============================] - 39s 12ms/step - loss: -2666.7844 - val_loss: -2530.5393 - lr: 0.0010\n"
     ]
    }
   ],
   "source": [
    "from tensorflow_addons.optimizers import RectifiedAdam as RAdam\n",
    "from deepcell import train_utils\n",
    "\n",
    "steps_per_epoch = 3339\n",
    "validation_steps = 784\n",
    "n_epochs = 15\n",
    "model_path = '~/models/model_1'\n",
    "\n",
    "train_callbacks = [\n",
    "    tf.keras.callbacks.ReduceLROnPlateau(\n",
    "        monitor='val_loss', factor=0.5, verbose=1,\n",
    "        patience=3, min_lr=1e-7),\n",
    "    tf.keras.callbacks.ModelCheckpoint(\n",
    "        model_path, monitor='val_loss',\n",
    "        save_best_only=True, verbose=1,\n",
    "        save_weights_only=True)\n",
    "]\n",
    "\n",
    "loss_history = AE.fit(\n",
    "    train_dataset,\n",
    "    steps_per_epoch=steps_per_epoch,\n",
    "    validation_data=val_dataset,\n",
    "    validation_steps=validation_steps,\n",
    "    epochs=n_epochs,\n",
    "    verbose=1,\n",
    "    callbacks=train_callbacks\n",
    ")"
   ]
  },
  {
   "cell_type": "code",
   "execution_count": 17,
   "id": "ece79a88",
   "metadata": {},
   "outputs": [
    {
     "data": {
      "text/plain": [
       "(333854, 32, 32, 1)"
      ]
     },
     "execution_count": 17,
     "metadata": {},
     "output_type": "execute_result"
    }
   ],
   "source": [
    "train_appearances.shape"
   ]
  },
  {
   "cell_type": "code",
   "execution_count": 18,
   "id": "92a05ac6",
   "metadata": {},
   "outputs": [
    {
     "data": {
      "text/plain": [
       "(78352, 32, 32, 1)"
      ]
     },
     "execution_count": 18,
     "metadata": {},
     "output_type": "execute_result"
    }
   ],
   "source": [
    "val_appearances.shape"
   ]
  },
  {
   "cell_type": "code",
   "execution_count": 21,
   "id": "5e33d34f",
   "metadata": {},
   "outputs": [],
   "source": [
    "# Still has the error when not monitoring val_loss and (naturally) not saving best only"
   ]
  },
  {
   "cell_type": "code",
   "execution_count": 37,
   "id": "31534e10",
   "metadata": {},
   "outputs": [],
   "source": [
    "x = np.array([train_appearances[0]])"
   ]
  },
  {
   "cell_type": "code",
   "execution_count": 38,
   "id": "9daa9f33",
   "metadata": {},
   "outputs": [],
   "source": [
    "xhat = AE(x).mean()"
   ]
  },
  {
   "cell_type": "code",
   "execution_count": 39,
   "id": "a75cfc72",
   "metadata": {},
   "outputs": [
    {
     "data": {
      "text/plain": [
       "<matplotlib.image.AxesImage at 0x7f893a1f7a60>"
      ]
     },
     "execution_count": 39,
     "metadata": {},
     "output_type": "execute_result"
    },
    {
     "data": {
      "image/png": "[encoded data removed]",
      "text/plain": [
       "<Figure size 432x288 with 1 Axes>"
      ]
     },
     "metadata": {
      "needs_background": "light"
     },
     "output_type": "display_data"
    }
   ],
   "source": [
    "import matplotlib.pyplot as plt\n",
    "\n",
    "fig, ax = plt.subplots()\n",
    "ax.imshow(x[0])"
   ]
  },
  {
   "cell_type": "code",
   "execution_count": 40,
   "id": "db305756",
   "metadata": {},
   "outputs": [
    {
     "data": {
      "text/plain": [
       "<matplotlib.image.AxesImage at 0x7f893a145c10>"
      ]
     },
     "execution_count": 40,
     "metadata": {},
     "output_type": "execute_result"
    },
    {
     "data": {
      "image/png": "[encoded data removed]",
      "text/plain": [
       "<Figure size 432x288 with 1 Axes>"
      ]
     },
     "metadata": {
      "needs_background": "light"
     },
     "output_type": "display_data"
    }
   ],
   "source": [
    "fig, ax = plt.subplots()\n",
    "ax.imshow(xhat[0])"
   ]
  },
  {
   "cell_type": "code",
   "execution_count": 41,
   "id": "edda8db5",
   "metadata": {},
   "outputs": [
    {
     "data": {
      "text/plain": [
       "<matplotlib.image.AxesImage at 0x7f893a082250>"
      ]
     },
     "execution_count": 41,
     "metadata": {},
     "output_type": "execute_result"
    },
    {
     "data": {
      "image/png": "[encoded data removed]",
      "text/plain": [
       "<Figure size 432x288 with 1 Axes>"
      ]
     },
     "metadata": {
      "needs_background": "light"
     },
     "output_type": "display_data"
    },
    {
     "data": {
      "image/png": "[encoded data removed]",
      "text/plain": [
       "<Figure size 432x288 with 1 Axes>"
      ]
     },
     "metadata": {
      "needs_background": "light"
     },
     "output_type": "display_data"
    }
   ],
   "source": [
    "x = np.array([train_appearances[1234]])\n",
    "xhat = AE(x).mean()\n",
    "\n",
    "fig, ax = plt.subplots()\n",
    "ax.imshow(x[0])\n",
    "\n",
    "fig, ax = plt.subplots()\n",
    "ax.imshow(xhat[0])"
   ]
  },
  {
   "cell_type": "markdown",
   "id": "36d4ede3",
   "metadata": {},
   "source": [
    "# Try a bigger embedding layer"
   ]
  },
  {
   "cell_type": "code",
   "execution_count": 43,
   "id": "b822b460",
   "metadata": {},
   "outputs": [],
   "source": [
    "vae2 = VAE_MNIST(512, 1, 1e-3)"
   ]
  },
  {
   "cell_type": "code",
   "execution_count": 44,
   "id": "e168be8c",
   "metadata": {},
   "outputs": [],
   "source": [
    "AE2 = vae2.build_vae_keras_model()"
   ]
  },
  {
   "cell_type": "code",
   "execution_count": 45,
   "id": "0d8ae6f8",
   "metadata": {},
   "outputs": [
    {
     "name": "stdout",
     "output_type": "stream",
     "text": [
      "Epoch 1/15\n",
      "3335/3339 [============================>.] - ETA: 0s - loss: -1336.7378\n",
      "Epoch 1: val_loss improved from inf to -1505.33350, saving model to ~/models/model_2\n",
      "3339/3339 [==============================] - 42s 12ms/step - loss: -1336.7501 - val_loss: -1505.3335 - lr: 0.0010\n",
      "Epoch 2/15\n",
      "3337/3339 [============================>.] - ETA: 0s - loss: -1996.8345\n",
      "Epoch 2: val_loss improved from -1505.33350 to -1870.79565, saving model to ~/models/model_2\n",
      "3339/3339 [==============================] - 39s 12ms/step - loss: -1996.6204 - val_loss: -1870.7957 - lr: 0.0010\n",
      "Epoch 3/15\n",
      "3337/3339 [============================>.] - ETA: 0s - loss: -2195.7202\n",
      "Epoch 3: val_loss improved from -1870.79565 to -2042.91284, saving model to ~/models/model_2\n",
      "3339/3339 [==============================] - 40s 12ms/step - loss: -2195.5142 - val_loss: -2042.9128 - lr: 0.0010\n",
      "Epoch 4/15\n",
      "3339/3339 [==============================] - ETA: 0s - loss: -2299.8459\n",
      "Epoch 4: val_loss improved from -2042.91284 to -2146.70947, saving model to ~/models/model_2\n",
      "3339/3339 [==============================] - 40s 12ms/step - loss: -2299.8459 - val_loss: -2146.7095 - lr: 0.0010\n",
      "Epoch 5/15\n",
      "3337/3339 [============================>.] - ETA: 0s - loss: -2365.5959\n",
      "Epoch 5: val_loss improved from -2146.70947 to -2218.78955, saving model to ~/models/model_2\n",
      "3339/3339 [==============================] - 39s 12ms/step - loss: -2365.4929 - val_loss: -2218.7896 - lr: 0.0010\n",
      "Epoch 6/15\n",
      "3336/3339 [============================>.] - ETA: 0s - loss: -2414.8948\n",
      "Epoch 6: val_loss improved from -2218.78955 to -2280.02368, saving model to ~/models/model_2\n",
      "3339/3339 [==============================] - 39s 12ms/step - loss: -2414.6914 - val_loss: -2280.0237 - lr: 0.0010\n",
      "Epoch 7/15\n",
      "3338/3339 [============================>.] - ETA: 0s - loss: -2441.8027\n",
      "Epoch 7: val_loss improved from -2280.02368 to -2307.05615, saving model to ~/models/model_2\n",
      "3339/3339 [==============================] - 40s 12ms/step - loss: -2441.7822 - val_loss: -2307.0562 - lr: 0.0010\n",
      "Epoch 8/15\n",
      "3338/3339 [============================>.] - ETA: 0s - loss: -2469.2817\n",
      "Epoch 8: val_loss improved from -2307.05615 to -2338.75757, saving model to ~/models/model_2\n",
      "3339/3339 [==============================] - 39s 12ms/step - loss: -2469.2827 - val_loss: -2338.7576 - lr: 0.0010\n",
      "Epoch 9/15\n",
      "3337/3339 [============================>.] - ETA: 0s - loss: -2500.5918\n",
      "Epoch 9: val_loss improved from -2338.75757 to -2382.32007, saving model to ~/models/model_2\n",
      "3339/3339 [==============================] - 40s 12ms/step - loss: -2500.5188 - val_loss: -2382.3201 - lr: 0.0010\n",
      "Epoch 10/15\n",
      "3335/3339 [============================>.] - ETA: 0s - loss: -2530.9258\n",
      "Epoch 10: val_loss improved from -2382.32007 to -2398.39355, saving model to ~/models/model_2\n",
      "3339/3339 [==============================] - 39s 12ms/step - loss: -2530.7820 - val_loss: -2398.3936 - lr: 0.0010\n",
      "Epoch 11/15\n",
      "3338/3339 [============================>.] - ETA: 0s - loss: -2553.5688\n",
      "Epoch 11: val_loss improved from -2398.39355 to -2425.15991, saving model to ~/models/model_2\n",
      "3339/3339 [==============================] - 39s 12ms/step - loss: -2553.5271 - val_loss: -2425.1599 - lr: 0.0010\n",
      "Epoch 12/15\n",
      "3335/3339 [============================>.] - ETA: 0s - loss: -2566.1326\n",
      "Epoch 12: val_loss improved from -2425.15991 to -2428.14941, saving model to ~/models/model_2\n",
      "3339/3339 [==============================] - 39s 12ms/step - loss: -2565.9568 - val_loss: -2428.1494 - lr: 0.0010\n",
      "Epoch 13/15\n",
      "3337/3339 [============================>.] - ETA: 0s - loss: -2584.7585\n",
      "Epoch 13: val_loss improved from -2428.14941 to -2453.88306, saving model to ~/models/model_2\n",
      "3339/3339 [==============================] - 39s 12ms/step - loss: -2584.6655 - val_loss: -2453.8831 - lr: 0.0010\n",
      "Epoch 14/15\n",
      "3338/3339 [============================>.] - ETA: 0s - loss: -2596.7190\n",
      "Epoch 14: val_loss improved from -2453.88306 to -2466.81128, saving model to ~/models/model_2\n",
      "3339/3339 [==============================] - 39s 12ms/step - loss: -2596.6741 - val_loss: -2466.8113 - lr: 0.0010\n",
      "Epoch 15/15\n",
      "3335/3339 [============================>.] - ETA: 0s - loss: -2600.7229\n",
      "Epoch 15: val_loss improved from -2466.81128 to -2481.93115, saving model to ~/models/model_2\n",
      "3339/3339 [==============================] - 39s 12ms/step - loss: -2600.5520 - val_loss: -2481.9312 - lr: 0.0010\n"
     ]
    }
   ],
   "source": [
    "from tensorflow_addons.optimizers import RectifiedAdam as RAdam\n",
    "from deepcell import train_utils\n",
    "\n",
    "steps_per_epoch = 3339\n",
    "validation_steps = 784\n",
    "n_epochs = 15\n",
    "model_path = '~/models/model_2'\n",
    "\n",
    "train_callbacks = [\n",
    "    tf.keras.callbacks.ReduceLROnPlateau(\n",
    "        monitor='val_loss', factor=0.5, verbose=1,\n",
    "        patience=3, min_lr=1e-7),\n",
    "    tf.keras.callbacks.ModelCheckpoint(\n",
    "        model_path, monitor='val_loss',\n",
    "        save_best_only=True, verbose=1,\n",
    "        save_weights_only=True)\n",
    "]\n",
    "\n",
    "loss_history = AE2.fit(\n",
    "    train_dataset,\n",
    "    steps_per_epoch=steps_per_epoch,\n",
    "    validation_data=val_dataset,\n",
    "    validation_steps=validation_steps,\n",
    "    epochs=n_epochs,\n",
    "    verbose=1,\n",
    "    callbacks=train_callbacks\n",
    ")"
   ]
  },
  {
   "cell_type": "code",
   "execution_count": 46,
   "id": "f0bda162",
   "metadata": {},
   "outputs": [
    {
     "data": {
      "text/plain": [
       "<matplotlib.image.AxesImage at 0x7f892ead6e20>"
      ]
     },
     "execution_count": 46,
     "metadata": {},
     "output_type": "execute_result"
    },
    {
     "data": {
      "image/png": "[encoded data removed]",
      "text/plain": [
       "<Figure size 432x288 with 1 Axes>"
      ]
     },
     "metadata": {
      "needs_background": "light"
     },
     "output_type": "display_data"
    },
    {
     "data": {
      "image/png": "[encoded data removed]",
      "text/plain": [
       "<Figure size 432x288 with 1 Axes>"
      ]
     },
     "metadata": {
      "needs_background": "light"
     },
     "output_type": "display_data"
    }
   ],
   "source": [
    "x = np.array([train_appearances[1234]])\n",
    "xhat = AE2(x).mean()\n",
    "\n",
    "fig, ax = plt.subplots()\n",
    "ax.imshow(x[0])\n",
    "\n",
    "fig, ax = plt.subplots()\n",
    "ax.imshow(xhat[0])"
   ]
  },
  {
   "cell_type": "code",
   "execution_count": 47,
   "id": "9ed98be4",
   "metadata": {},
   "outputs": [
    {
     "data": {
      "text/plain": [
       "<matplotlib.image.AxesImage at 0x7f892fe0b070>"
      ]
     },
     "execution_count": 47,
     "metadata": {},
     "output_type": "execute_result"
    },
    {
     "data": {
      "image/png": "[encoded data removed]",
      "text/plain": [
       "<Figure size 432x288 with 1 Axes>"
      ]
     },
     "metadata": {
      "needs_background": "light"
     },
     "output_type": "display_data"
    },
    {
     "data": {
      "image/png": "[encoded data removed]",
      "text/plain": [
       "<Figure size 432x288 with 1 Axes>"
      ]
     },
     "metadata": {
      "needs_background": "light"
     },
     "output_type": "display_data"
    }
   ],
   "source": [
    "x = np.array([train_appearances[0]])\n",
    "xhat = AE2(x).mean()\n",
    "\n",
    "fig, ax = plt.subplots()\n",
    "ax.imshow(x[0])\n",
    "\n",
    "fig, ax = plt.subplots()\n",
    "ax.imshow(xhat[0])"
   ]
  },
  {
   "cell_type": "code",
   "execution_count": 48,
   "id": "2a7682c2",
   "metadata": {},
   "outputs": [
    {
     "data": {
      "text/plain": [
       "<matplotlib.image.AxesImage at 0x7f892fe41850>"
      ]
     },
     "execution_count": 48,
     "metadata": {},
     "output_type": "execute_result"
    },
    {
     "data": {
      "image/png": "[encoded data removed]",
      "text/plain": [
       "<Figure size 432x288 with 1 Axes>"
      ]
     },
     "metadata": {
      "needs_background": "light"
     },
     "output_type": "display_data"
    },
    {
     "data": {
      "image/png": "[encoded data removed]",
      "text/plain": [
       "<Figure size 432x288 with 1 Axes>"
      ]
     },
     "metadata": {
      "needs_background": "light"
     },
     "output_type": "display_data"
    }
   ],
   "source": [
    "x = np.array([train_appearances[12345]])\n",
    "xhat = AE2(x).mean()\n",
    "\n",
    "fig, ax = plt.subplots()\n",
    "ax.imshow(x[0])\n",
    "\n",
    "fig, ax = plt.subplots()\n",
    "ax.imshow(xhat[0])"
   ]
  },
  {
   "cell_type": "code",
   "execution_count": 49,
   "id": "56ff6c9e",
   "metadata": {},
   "outputs": [
    {
     "data": {
      "text/plain": [
       "<matplotlib.image.AxesImage at 0x7f892fead070>"
      ]
     },
     "execution_count": 49,
     "metadata": {},
     "output_type": "execute_result"
    },
    {
     "data": {
      "image/png": "[encoded data removed]",
      "text/plain": [
       "<Figure size 432x288 with 1 Axes>"
      ]
     },
     "metadata": {
      "needs_background": "light"
     },
     "output_type": "display_data"
    },
    {
     "data": {
      "image/png": "[encoded data removed]",
      "text/plain": [
       "<Figure size 432x288 with 1 Axes>"
      ]
     },
     "metadata": {
      "needs_background": "light"
     },
     "output_type": "display_data"
    }
   ],
   "source": [
    "x = np.array([train_appearances[123456]])\n",
    "xhat = AE2(x).mean()\n",
    "\n",
    "fig, ax = plt.subplots()\n",
    "ax.imshow(x[0])\n",
    "\n",
    "fig, ax = plt.subplots()\n",
    "ax.imshow(xhat[0])"
   ]
  },
  {
   "cell_type": "code",
   "execution_count": null,
   "id": "e10db766",
   "metadata": {},
   "outputs": [],
   "source": [
    "# maybe taking negative of loss or something"
   ]
  }
 ],
 "metadata": {
  "kernelspec": {
   "display_name": "Python 3 (ipykernel)",
   "language": "python",
   "name": "python3"
  },
  "language_info": {
   "codemirror_mode": {
    "name": "ipython",
    "version": 3
   },
   "file_extension": ".py",
   "mimetype": "text/x-python",
   "name": "python",
   "nbconvert_exporter": "python",
   "pygments_lexer": "ipython3",
   "version": "3.8.10"
  }
 },
 "nbformat": 4,
 "nbformat_minor": 5
}
