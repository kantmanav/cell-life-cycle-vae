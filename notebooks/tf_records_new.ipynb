{
 "cells": [
  {
   "cell_type": "code",
   "execution_count": 1,
   "id": "cdee5c10",
   "metadata": {},
   "outputs": [
    {
     "name": "stdout",
     "output_type": "stream",
     "text": [
      "2.8.0\n"
     ]
    }
   ],
   "source": [
    "import os\n",
    "import numpy as np\n",
    "\n",
    "import tensorflow as tf\n",
    "import tensorflow_addons as tfa\n",
    "gpus = tf.config.experimental.list_physical_devices('GPU')\n",
    "for gpu in gpus:\n",
    "      tf.config.experimental.set_memory_growth(gpu, True)\n",
    "print(tf.__version__)\n",
    "AUTOTUNE = tf.data.experimental.AUTOTUNE\n",
    "\n",
    "import deepcell\n",
    "# Changed from before due to new placement of Track, concat_tracks\n",
    "from deepcell_tracking.utils import load_trks\n",
    "from deepcell.data.tracking import Track, concat_tracks\n",
    "##############\n",
    "from sklearn.model_selection import train_test_split\n",
    "from deepcell.utils.data_utils import reshape_movie\n",
    "from deepcell.utils.transform_utils import erode_edges\n",
    "from deepcell.data import split_dataset\n",
    "from deepcell_toolbox.processing import normalize, histogram_normalization\n",
    "\n",
    "import spektral"
   ]
  },
  {
   "cell_type": "code",
   "execution_count": 2,
   "id": "3d2c3bfb",
   "metadata": {},
   "outputs": [],
   "source": [
    "import json\n",
    "def load_img_dict(file):\n",
    "    f = open(file)\n",
    "    d = json.load(f)\n",
    "    d = {int(k1): {int(k2): {int(k3): v for k3, v in d[k1][k2].items()} for k2, d[k1][k2] in d[k1].items()} for k1, d[k1] in d.items()}\n",
    "    return d\n",
    "def load_img_idx_dict(file):\n",
    "    f = open(file)\n",
    "    d = json.load(f)\n",
    "    d = {int(k): v for k, v in d.items()}\n",
    "    return d"
   ]
  },
  {
   "cell_type": "code",
   "execution_count": 3,
   "id": "99bf7b96",
   "metadata": {},
   "outputs": [],
   "source": [
    "train_good_imgs = load_img_dict('../dataset_pruning/train_appearances_dict.json')\n",
    "train_blank_imgs = load_img_dict('../dataset_pruning/train_blank_dict.json')\n",
    "train_border_imgs = load_img_dict('../dataset_pruning/train_border_dict.json')\n",
    "val_good_imgs = load_img_dict('../dataset_pruning/val_appearances_dict.json')\n",
    "val_blank_imgs = load_img_dict('../dataset_pruning/val_blank_dict.json')\n",
    "val_border_imgs = load_img_dict('../dataset_pruning/val_border_dict.json')"
   ]
  },
  {
   "cell_type": "code",
   "execution_count": 4,
   "id": "fa652aa7",
   "metadata": {},
   "outputs": [],
   "source": [
    "import csv\n",
    "import os\n",
    "\n",
    "from tensorflow.data import Dataset\n",
    "from tensorflow.io import serialize_tensor\n",
    "from tensorflow.keras.utils import to_categorical\n",
    "from tensorflow.keras.backend import is_sparse\n",
    "\n",
    "def _bytes_feature(value):\n",
    "    \"\"\"Returns a bytes_list from a string / byte.\"\"\"\n",
    "    if isinstance(value, type(tf.constant(0))):\n",
    "        # BytesList won't unpack a string from an EagerTensor.\n",
    "        value = value.numpy()\n",
    "    return tf.train.Feature(bytes_list=tf.train.BytesList(value=[value]))\n",
    "\n",
    "\n",
    "def _float_feature(value):\n",
    "    \"\"\"Returns a float_list from a float / double.\"\"\"\n",
    "    return tf.train.Feature(float_list=tf.train.FloatList(value=[value]))\n",
    "\n",
    "\n",
    "def _int64_feature(value):\n",
    "    \"\"\"Returns an int64_list from a bool / enum / int / uint.\"\"\"\n",
    "    return tf.train.Feature(int64_list=tf.train.Int64List(value=[value]))\n",
    "\n",
    "def serialize_array(array):\n",
    "    array = tf.io.serialize_tensor(array)\n",
    "    return array\n",
    "\n",
    "def create_tracking_example(image):\n",
    "    # At some point might need to consider having reconstruction image\n",
    "    #define the dictionary -- the structure -- of our single example\n",
    "    data = {\n",
    "        'height' : _int64_feature(image.shape[0]),\n",
    "        'width' : _int64_feature(image.shape[1]),\n",
    "        'depth' : _int64_feature(image.shape[2]),\n",
    "        'raw_image' : _bytes_feature(serialize_array(image))\n",
    "    }\n",
    "    #create an Example, wrapping the single features\n",
    "    out = tf.train.Example(features=tf.train.Features(feature=data))\n",
    "    \n",
    "    return out"
   ]
  },
  {
   "cell_type": "code",
   "execution_count": 5,
   "id": "1283e870",
   "metadata": {},
   "outputs": [],
   "source": [
    "from skimage.exposure import rescale_intensity\n",
    "\n",
    "def norm(X, size):\n",
    "    X_norm = histogram_normalization(X, kernel_size=size)\n",
    "    \n",
    "    X_rescaled = np.zeros(X_norm.shape)\n",
    "    for img_idx in range(X.shape[0]):\n",
    "        x = X[img_idx]\n",
    "        x = rescale_intensity(x, out_range=(0,1))\n",
    "        X_rescaled[img_idx] = x\n",
    "            \n",
    "    return X_rescaled"
   ]
  },
  {
   "cell_type": "code",
   "execution_count": 6,
   "id": "f31355ae",
   "metadata": {},
   "outputs": [],
   "source": [
    "def write_tracking_dataset_to_tfr(track, filename, good_imgs):\n",
    "    app_type = track.appearances.dtype\n",
    "    app = norm(track.appearances, 64).astype(app_type)\n",
    "    print('Done calculating normalizations.')\n",
    "    filename = \"/data/tf_records/\" + filename + \".tfrecords\"\n",
    "    writer = tf.io.TFRecordWriter(filename) #create a writer that'll store our data to disk\n",
    "    count = 0\n",
    "\n",
    "    for b in range(app.shape[0]):\n",
    "        print(b)\n",
    "        for f in range(app.shape[1]):\n",
    "            for c in range(app.shape[2]):\n",
    "                if good_imgs[b][c][f] != -1:\n",
    "                    current_image = app[b, f, c]\n",
    "\n",
    "                    out = create_tracking_example(current_image)\n",
    "\n",
    "                    if out is not None:\n",
    "                        writer.write(out.SerializeToString())\n",
    "                        count += 1\n",
    "\n",
    "    writer.close()\n",
    "    print(f'Wrote {count} elements to TFRecord')\n",
    "    return count"
   ]
  },
  {
   "cell_type": "code",
   "execution_count": 7,
   "id": "9107ebe2",
   "metadata": {},
   "outputs": [],
   "source": [
    "train_trks = load_trks(os.path.join('/training/tracking-nuclear', 'train.trks'))\n",
    "# val_trks = load_trks(os.path.join('/training/tracking-nuclear', 'val.trks'))"
   ]
  },
  {
   "cell_type": "code",
   "execution_count": 12,
   "id": "9da4b014",
   "metadata": {
    "scrolled": true
   },
   "outputs": [
    {
     "name": "stderr",
     "output_type": "stream",
     "text": [
      "100%|███████████████████████████████████████████| 27/27 [01:52<00:00,  4.17s/it]\n",
      "100%|███████████████████████████████████████████| 27/27 [02:18<00:00,  5.15s/it]\n",
      "2022-08-13 04:47:52.477134: W tensorflow/core/framework/cpu_allocator_impl.cc:82] Allocation of 1060745520 exceeds 10% of free system memory.\n"
     ]
    },
    {
     "name": "stdout",
     "output_type": "stream",
     "text": [
      "Done creating Track objects.\n",
      "Done calculating normalizations.\n",
      "0\n",
      "1\n",
      "2\n",
      "3\n",
      "4\n",
      "5\n",
      "6\n",
      "7\n",
      "8\n",
      "9\n",
      "10\n",
      "11\n",
      "12\n",
      "13\n",
      "14\n",
      "15\n",
      "16\n",
      "17\n",
      "18\n",
      "19\n",
      "20\n",
      "21\n",
      "22\n",
      "23\n",
      "24\n",
      "25\n",
      "26\n",
      "Wrote 89436 elements to TFRecord\n"
     ]
    }
   ],
   "source": [
    "with tf.device('/cpu:0'):\n",
    "    val_tracks = Track(tracked_data=val_trks,\n",
    "                   appearance_dim=64,\n",
    "                   distance_threshold=64,\n",
    "                   crop_mode='fixed')\n",
    "    \n",
    "    print('Done creating Track objects.')\n",
    "\n",
    "    write_tracking_dataset_to_tfr(val_tracks, filename='val_big', good_imgs=val_good_imgs)"
   ]
  },
  {
   "cell_type": "code",
   "execution_count": null,
   "id": "e186c303",
   "metadata": {},
   "outputs": [
    {
     "name": "stderr",
     "output_type": "stream",
     "text": [
      "2022-08-13 08:48:37.344484: I tensorflow/core/platform/cpu_feature_guard.cc:151] This TensorFlow binary is optimized with oneAPI Deep Neural Network Library (oneDNN) to use the following CPU instructions in performance-critical operations:  AVX2 FMA\n",
      "To enable them in other operations, rebuild TensorFlow with the appropriate compiler flags.\n",
      "2022-08-13 08:48:38.630069: I tensorflow/core/common_runtime/gpu/gpu_device.cc:1525] Created device /job:localhost/replica:0/task:0/device:GPU:0 with 10415 MB memory:  -> device: 0, name: NVIDIA GeForce GTX 1080 Ti, pci bus id: 0000:09:00.0, compute capability: 6.1\n",
      "100%|███████████████████████████████████████████| 91/91 [07:03<00:00,  4.66s/it]\n",
      " 33%|██████████████▏                            | 30/91 [05:46<13:02, 12.83s/it]/usr/local/lib/python3.8/dist-packages/numpy/core/fromnumeric.py:3474: RuntimeWarning: Mean of empty slice.\n",
      "  return _methods._mean(a, axis=axis, dtype=dtype,\n",
      "/usr/local/lib/python3.8/dist-packages/numpy/core/_methods.py:189: RuntimeWarning: invalid value encountered in true_divide\n",
      "  ret = ret.dtype.type(ret / rcount)\n",
      "/usr/local/lib/python3.8/dist-packages/numpy/core/_methods.py:264: RuntimeWarning: Degrees of freedom <= 0 for slice\n",
      "  ret = _var(a, axis=axis, dtype=dtype, out=out, ddof=ddof,\n",
      "/usr/local/lib/python3.8/dist-packages/numpy/core/_methods.py:222: RuntimeWarning: invalid value encountered in true_divide\n",
      "  arrmean = um.true_divide(arrmean, div, out=arrmean, casting='unsafe',\n",
      "/usr/local/lib/python3.8/dist-packages/numpy/core/_methods.py:256: RuntimeWarning: invalid value encountered in true_divide\n",
      "  ret = ret.dtype.type(ret / rcount)\n",
      "100%|███████████████████████████████████████████| 91/91 [14:14<00:00,  9.39s/it]\n"
     ]
    },
    {
     "name": "stdout",
     "output_type": "stream",
     "text": [
      "Done with creating Track objects\n"
     ]
    }
   ],
   "source": [
    "with tf.device('/cpu:0'):\n",
    "    train_tracks = Track(tracked_data=train_trks,\n",
    "                   appearance_dim=64,\n",
    "                   distance_threshold=64,\n",
    "                   crop_mode='fixed')\n",
    "    \n",
    "    print('Done with creating Track objects')\n",
    "\n",
    "    write_tracking_dataset_to_tfr(train_tracks, filename='train_big', good_imgs=train_good_imgs)"
   ]
  },
  {
   "cell_type": "code",
   "execution_count": null,
   "id": "5edf965d",
   "metadata": {},
   "outputs": [],
   "source": [
    "def parse_tfr_element(element):\n",
    "    #use the same structure as above; it's kinda an outline of the structure we now want to create\n",
    "    data = {\n",
    "        'height': tf.io.FixedLenFeature([], tf.int64),\n",
    "        'width':tf.io.FixedLenFeature([], tf.int64),\n",
    "        'depth':tf.io.FixedLenFeature([], tf.int64),\n",
    "        'raw_image' : tf.io.FixedLenFeature([], tf.string)\n",
    "    }\n",
    "\n",
    "\n",
    "    content = tf.io.parse_single_example(element, data)\n",
    "\n",
    "    height = content['height']\n",
    "    width = content['width']\n",
    "    depth = content['depth']\n",
    "    raw_image = content['raw_image']\n",
    "    \n",
    "\n",
    "    #get our 'feature'-- our image -- and reshape it appropriately\n",
    "    feature = tf.io.parse_tensor(raw_image, out_type=tf.float32)\n",
    "    feature = tf.reshape(feature, shape=[height,width,depth])\n",
    "    return (feature, feature)"
   ]
  },
  {
   "cell_type": "code",
   "execution_count": null,
   "id": "34053119",
   "metadata": {},
   "outputs": [],
   "source": [
    "def get_dataset(filename, batch_size=1, buffer_size=256,\n",
    "                    seed=None):\n",
    "    #create the dataset\n",
    "    dataset = tf.data.TFRecordDataset(filename)\n",
    "\n",
    "    #pass every single feature through our mapping function\n",
    "    dataset = dataset.map(\n",
    "      parse_tfr_element\n",
    "    )\n",
    "    \n",
    "    dataset = dataset.shuffle(buffer_size, seed=seed)\n",
    "\n",
    "    dataset = dataset.repeat().batch(batch_size)\n",
    "    \n",
    "    dataset = dataset.prefetch(tf.data.AUTOTUNE)\n",
    "\n",
    "    return dataset"
   ]
  },
  {
   "cell_type": "code",
   "execution_count": null,
   "id": "25daa6f6",
   "metadata": {},
   "outputs": [],
   "source": [
    "val_dataset = get_dataset(\"/data/tf_records/val_small.tfrecords\", batch_size=100)\n",
    "train_dataset = get_dataset(\"/data/tf_records/train_small.tfrecords\", batch_size=100)"
   ]
  },
  {
   "cell_type": "code",
   "execution_count": null,
   "id": "fe016c28",
   "metadata": {},
   "outputs": [],
   "source": [
    "for sample in val_dataset.take(895):\n",
    "    if np.any((sample[0] < 0)|(sample[0] > 1 )):\n",
    "        print('Not normalized?')\n",
    "\n",
    "for sample in train_dataset.take(3838):\n",
    "    if np.any((sample[0] < 0)|(sample[0] > 1 )):\n",
    "        print('Not normalized?')"
   ]
  },
  {
   "cell_type": "code",
   "execution_count": null,
   "id": "026880e4",
   "metadata": {},
   "outputs": [],
   "source": [
    "import tensorflow as tf\n",
    "import tensorflow_probability as tfp\n",
    "tfd = tfp.distributions\n",
    "tfpl = tfp.layers\n",
    "tfk = tf.keras\n",
    "tfkl = tf.keras.layers"
   ]
  },
  {
   "cell_type": "code",
   "execution_count": null,
   "id": "bbf24d42",
   "metadata": {},
   "outputs": [],
   "source": [
    "class VAE:\n",
    "    \n",
    "    def __init__(self, dim_z, kl_weight, learning_rate, n_filters, n_layers, side):\n",
    "        # change dim from (28, 28, 1)\n",
    "        self.dim_x = (side, side, 1)\n",
    "        self.dim_z = dim_z\n",
    "        self.kl_weight = kl_weight\n",
    "        self.learning_rate = learning_rate\n",
    "        self.n_filters = n_filters\n",
    "        self.n_layers = n_layers\n",
    "        self.side = side\n",
    "\n",
    "    # Sequential API encoder\n",
    "    def encoder_z(self):\n",
    "        # define prior distribution for the code, which is an isotropic Gaussian\n",
    "        prior = tfd.Independent(tfd.Normal(loc=tf.zeros(self.dim_z), scale=1.), \n",
    "                                reinterpreted_batch_ndims=1)\n",
    "        # build layers argument for tfk.Sequential()\n",
    "        input_shape = self.dim_x\n",
    "        layers = [tfkl.InputLayer(input_shape=input_shape)]\n",
    "        for i in range(self.n_layers):\n",
    "            layers.append(tfkl.Conv2D(filters=self.n_filters, kernel_size=3, strides=(2,2), \n",
    "                                  padding='valid', activation='relu'))\n",
    "        layers.append(tfkl.Flatten())\n",
    "        # the following two lines set the output to be a probabilistic distribution\n",
    "        layers.append(tfkl.Dense(tfpl.IndependentNormal.params_size(self.dim_z), \n",
    "                                 activation=None, name='z_params'))\n",
    "        layers.append(tfpl.IndependentNormal(self.dim_z, \n",
    "            convert_to_tensor_fn=tfd.Distribution.sample, \n",
    "            activity_regularizer=tfpl.KLDivergenceRegularizer(prior, weight=self.kl_weight), \n",
    "            name='z_layer'))\n",
    "        return tfk.Sequential(layers, name='encoder')\n",
    "    \n",
    "    # Sequential API decoder\n",
    "    def decoder_x(self):\n",
    "        layers = [tfkl.InputLayer(input_shape=self.dim_z)]\n",
    "        # probably 7 before since 28/2/2 = 7, so changing to 32/2/2 = 8\n",
    "        frac = 2**self.n_layers\n",
    "        layers.append(tfkl.Dense(int((self.side/frac)**2*32), activation=None))\n",
    "        layers.append(tfkl.Reshape((int(self.side/frac),int(self.side/frac),32)))\n",
    "        for i in range(self.n_layers):\n",
    "            layers.append(tfkl.Conv2DTranspose(filters=self.n_filters, kernel_size=3, strides=2, \n",
    "                                           padding='same', activation='relu'))\n",
    "        layers.append(tfkl.Conv2DTranspose(filters=1, kernel_size=3, strides=1, \n",
    "                                           padding='same'))\n",
    "        layers.append(tfkl.Flatten())\n",
    "        # note that here we don't need \n",
    "        # `tfkl.Dense(tfpl.IndependentBernoulli.params_size(self.dim_x))` because \n",
    "        # we've restored the desired input shape with the last Conv2DTranspose layer\n",
    "        layers.append(tfkl.Dense(tfpl.IndependentNormal.params_size(self.dim_x), \n",
    "                                 activation=None, name='x_params'))\n",
    "        layers.append(tfpl.IndependentNormal(self.dim_x,\n",
    "            name='x_layer'))\n",
    "        return tfk.Sequential(layers, name='decoder')\n",
    "    \n",
    "    def build_vae_keras_model(self):\n",
    "        x_input = tfk.Input(shape=self.dim_x)\n",
    "        encoder = self.encoder_z()\n",
    "        decoder = self.decoder_x()\n",
    "        z = encoder(x_input)\n",
    "\n",
    "        # compile VAE model\n",
    "        model = tfk.Model(inputs=x_input, outputs=decoder(z))\n",
    "        model.compile(loss=negative_log_likelihood, \n",
    "                      optimizer=tfk.optimizers.Adam(self.learning_rate))\n",
    "        return model\n",
    "\n",
    "# the negative of log-likelihood for probabilistic output\n",
    "negative_log_likelihood = lambda x, rv_x: -rv_x.log_prob(x)"
   ]
  },
  {
   "cell_type": "code",
   "execution_count": null,
   "id": "534105d3",
   "metadata": {},
   "outputs": [],
   "source": [
    "vae = VAE(1024, 1, 1e-3, 64, 4, 64)\n",
    "AE = vae.build_vae_keras_model()"
   ]
  },
  {
   "cell_type": "code",
   "execution_count": null,
   "id": "071a6bb0",
   "metadata": {},
   "outputs": [],
   "source": [
    "from tensorflow_addons.optimizers import RectifiedAdam as RAdam\n",
    "from deepcell import train_utils\n",
    "\n",
    "steps_per_epoch = 3838\n",
    "validation_steps = 895\n",
    "n_epochs = 10\n",
    "model_path = '/deepcell_data/users/manav/summer_2022/models/big_img_4_layers'\n",
    "\n",
    "train_callbacks = [\n",
    "    tf.keras.callbacks.ReduceLROnPlateau(\n",
    "      \n",
    "        monitor='val_loss', factor=0.5, verbose=1,\n",
    "        patience=3, min_lr=1e-7),\n",
    "    tf.keras.callbacks.ModelCheckpoint(\n",
    "        model_path, monitor='val_loss',\n",
    "        save_best_only=True, verbose=1,\n",
    "        save_weights_only=True)\n",
    "]\n",
    "\n",
    "loss_history = AE.fit(\n",
    "    train_dataset,\n",
    "    steps_per_epoch=steps_per_epoch,\n",
    "    validation_data=val_dataset,\n",
    "    validation_steps=validation_steps,\n",
    "    epochs=n_epochs,\n",
    "    verbose=1,\n",
    "    callbacks=train_callbacks\n",
    ")"
   ]
  },
  {
   "cell_type": "code",
   "execution_count": null,
   "id": "1e133dd4",
   "metadata": {},
   "outputs": [],
   "source": [
    "x = np.array([train_tracks.appearances[0][2][16]])\n",
    "xhat = AE(x).mean()\n",
    "\n",
    "fig, ax = plt.subplots()\n",
    "ax.imshow(x[0])\n",
    "\n",
    "fig, ax = plt.subplots()\n",
    "ax.imshow(xhat[0])"
   ]
  },
  {
   "cell_type": "code",
   "execution_count": null,
   "id": "74d65a26",
   "metadata": {},
   "outputs": [],
   "source": []
  },
  {
   "cell_type": "code",
   "execution_count": 47,
   "id": "2c25a663",
   "metadata": {},
   "outputs": [],
   "source": [
    "def get_labels_col(lst_idx_to_pos, life_cycle_dict):\n",
    "    labels_col = []\n",
    "    for idx in lst_idx_to_pos.keys():\n",
    "        pos = lst_idx_to_pos[idx]\n",
    "        labels_col.append(life_cycle_dict[pos[0]][pos[2]][pos[1]])\n",
    "    return labels_col\n",
    "\n",
    "train_labels_col = get_labels_col(train_lst_idx_to_pos, train_life_cycle_dict)\n",
    "val_labels_col = get_labels_col(val_lst_idx_to_pos, val_life_cycle_dict)"
   ]
  },
  {
   "cell_type": "code",
   "execution_count": 54,
   "id": "4da2e4be",
   "metadata": {},
   "outputs": [],
   "source": [
    "import pandas as pd\n",
    "from keras import backend as K\n",
    "\n",
    "def get_embedding_distr(img, encoder):\n",
    "    z_params = encoder.get_layer('z_params')\n",
    "    inp = encoder.input\n",
    "    out = z_params.output\n",
    "    func = K.function([inp], [out])\n",
    "    x = np.array([img])\n",
    "    z = func([x])\n",
    "    return z[0][0]\n",
    "\n",
    "# Gets embeddings of each array (train, val) along with frame classes\n",
    "# We want to use train_tracks.appearances (shape (batches, frames, cells))\n",
    "def get_embeddings_df(app, encoder, embedding_dim, good_imgs, labels_col):\n",
    "    embeddings_lst = []\n",
    "    batches, frames, cells = app.shape[:3]\n",
    "    for b in range(batches):\n",
    "        print(b)\n",
    "        for f in range(frames):\n",
    "            for c in range(cells):\n",
    "                if good_imgs[b][c][f] != -1:\n",
    "                    img = app[b][f][c]\n",
    "                    embedding_distr = get_embedding_distr(img, encoder)\n",
    "                    label = labels_col[good_imgs[b][c][f]]\n",
    "                    embeddings_lst.append(np.append(embedding_distr, label))\n",
    "\n",
    "    cols = [idx for idx in range(2 * embedding_dim)]\n",
    "    cols.append('Cycle')\n",
    "    embeddings_df = pd.DataFrame(embeddings_lst, columns=cols)\n",
    "    return embeddings_df"
   ]
  },
  {
   "cell_type": "code",
   "execution_count": null,
   "id": "8d57ad14",
   "metadata": {},
   "outputs": [],
   "source": []
  },
  {
   "cell_type": "code",
   "execution_count": null,
   "id": "e7fbaf91",
   "metadata": {},
   "outputs": [],
   "source": []
  },
  {
   "cell_type": "code",
   "execution_count": 55,
   "id": "49b7536a",
   "metadata": {
    "scrolled": true
   },
   "outputs": [
    {
     "name": "stdout",
     "output_type": "stream",
     "text": [
      "0\n",
      "1\n",
      "2\n",
      "3\n",
      "4\n",
      "5\n",
      "6\n",
      "7\n",
      "8\n",
      "9\n",
      "10\n",
      "11\n",
      "12\n",
      "13\n",
      "14\n",
      "15\n",
      "16\n",
      "17\n",
      "18\n",
      "19\n",
      "20\n",
      "21\n",
      "22\n",
      "23\n",
      "24\n",
      "25\n",
      "26\n",
      "27\n",
      "28\n",
      "29\n",
      "30\n",
      "31\n",
      "32\n",
      "33\n",
      "34\n",
      "35\n",
      "36\n",
      "37\n",
      "38\n",
      "39\n",
      "40\n",
      "41\n",
      "42\n",
      "43\n",
      "44\n",
      "45\n",
      "46\n",
      "47\n",
      "48\n",
      "49\n",
      "50\n",
      "51\n",
      "52\n",
      "53\n",
      "54\n",
      "55\n",
      "56\n",
      "57\n",
      "58\n",
      "59\n",
      "60\n",
      "61\n",
      "62\n",
      "63\n",
      "64\n",
      "65\n",
      "66\n",
      "67\n",
      "68\n",
      "69\n",
      "70\n",
      "71\n",
      "72\n",
      "73\n",
      "74\n",
      "75\n",
      "76\n",
      "77\n",
      "78\n",
      "79\n",
      "80\n",
      "81\n",
      "82\n",
      "83\n",
      "84\n",
      "85\n",
      "86\n",
      "87\n",
      "88\n",
      "89\n",
      "90\n"
     ]
    }
   ],
   "source": [
    "encoder = vae.encoder_z()\n",
    "embeddings_df = get_embeddings_df(train_tracks.appearances, encoder, 1024, train_good_imgs, train_labels_col)"
   ]
  },
  {
   "cell_type": "code",
   "execution_count": 60,
   "id": "34180de7",
   "metadata": {},
   "outputs": [],
   "source": [
    "def project_embeddings_tsne(embeddings_df, tsne):\n",
    "    just_embeddings_df = embeddings_df.drop('Cycle', axis=1)\n",
    "    neighbors_embeddings = tsne.fit_transform(just_embeddings_df)\n",
    "    neighbors_df = pd.DataFrame(data = neighbors_embeddings, columns = ['component 1', 'component 2'])\n",
    "    \n",
    "    final_df = pd.concat([neighbors_df, embeddings_df[['Cycle']]], axis = 1)\n",
    "                          \n",
    "    return final_df"
   ]
  },
  {
   "cell_type": "code",
   "execution_count": 57,
   "id": "4119d436",
   "metadata": {},
   "outputs": [],
   "source": [
    "from sklearn.manifold import TSNE\n",
    "tsne = TSNE(n_components=2)"
   ]
  },
  {
   "cell_type": "code",
   "execution_count": 61,
   "id": "cda89db6",
   "metadata": {},
   "outputs": [
    {
     "name": "stderr",
     "output_type": "stream",
     "text": [
      "/usr/local/lib/python3.8/dist-packages/sklearn/manifold/_t_sne.py:795: FutureWarning: The default initialization in TSNE will change from 'random' to 'pca' in 1.2.\n",
      "  warnings.warn(\n",
      "/usr/local/lib/python3.8/dist-packages/sklearn/manifold/_t_sne.py:805: FutureWarning: The default learning rate in TSNE will change from 200.0 to 'auto' in 1.2.\n",
      "  warnings.warn(\n"
     ]
    },
    {
     "name": "stdout",
     "output_type": "stream",
     "text": [
      "CPU times: user 15h 1min 14s, sys: 0 ns, total: 15h 1min 14s\n",
      "Wall time: 50min 18s\n"
     ]
    }
   ],
   "source": [
    "%%time\n",
    "embeddings_tsne_df = project_embeddings_tsne(embeddings_df, tsne)"
   ]
  },
  {
   "cell_type": "code",
   "execution_count": 63,
   "id": "acce34c2",
   "metadata": {
    "scrolled": true
   },
   "outputs": [
    {
     "name": "stderr",
     "output_type": "stream",
     "text": [
      "No artists with labels found to put in legend.  Note that artists whose label start with an underscore are ignored when legend() is called with no argument.\n"
     ]
    },
    {
     "data": {
      "image/png": "[encoded data removed]",
      "text/plain": [
       "<Figure size 576x576 with 1 Axes>"
      ]
     },
     "metadata": {
      "needs_background": "light"
     },
     "output_type": "display_data"
    }
   ],
   "source": [
    "import matplotlib.pyplot as plt\n",
    "\n",
    "colors = []\n",
    "for stage in embeddings_tsne_df['Cycle']:\n",
    "    if stage >= 0 and stage <=5:\n",
    "        colors.append((18 / 255, 233 / 255, 252 / 255))\n",
    "    else:\n",
    "        colors.append((180 / 255, 180 / 255, 180 / 255))\n",
    "        \n",
    "\n",
    "fig = plt.figure(figsize = (8,8))\n",
    "ax = fig.add_subplot(1,1,1)\n",
    "ax.set_xlabel('Component 1', fontsize = 15)\n",
    "ax.set_ylabel('Component 2', fontsize = 15)\n",
    "ax.set_title('3T3 Cell Image Embeddings t-SNE Plot', fontsize = 20)\n",
    "ax.scatter(embeddings_tsne_df['component 1'], embeddings_tsne_df['component 2'], c = colors, s = 50)\n",
    "ax.legend()\n",
    "ax.grid()"
   ]
  },
  {
   "cell_type": "code",
   "execution_count": null,
   "id": "e958c992",
   "metadata": {},
   "outputs": [],
   "source": []
  }
 ],
 "metadata": {
  "kernelspec": {
   "display_name": "Python 3 (ipykernel)",
   "language": "python",
   "name": "python3"
  },
  "language_info": {
   "codemirror_mode": {
    "name": "ipython",
    "version": 3
   },
   "file_extension": ".py",
   "mimetype": "text/x-python",
   "name": "python",
   "nbconvert_exporter": "python",
   "pygments_lexer": "ipython3",
   "version": "3.8.10"
  }
 },
 "nbformat": 4,
 "nbformat_minor": 5
}
